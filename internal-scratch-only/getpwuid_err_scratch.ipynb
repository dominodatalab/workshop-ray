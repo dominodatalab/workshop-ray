{
 "cells": [
  {
   "cell_type": "code",
   "execution_count": 1,
   "id": "e0a2f3db-2a86-432e-a736-fc5e29287602",
   "metadata": {},
   "outputs": [],
   "source": [
    "import getpass, pwd, os\n",
    "def thing():\n",
    "    print(os.getuid())\n",
    "    print(open(\"/etc/passwd\", 'r').readlines())\n",
    "    print(pwd.getpwnam('ubuntu'))\n",
    "    print(pwd.getpwuid(12574))\n",
    "    print(pwd.getpwuid(os.getuid())[0])\n",
    "    print(getpass.getuser())"
   ]
  },
  {
   "cell_type": "code",
   "execution_count": 2,
   "id": "2f063604-5cff-48fa-9e2e-b297c9ebfe8d",
   "metadata": {},
   "outputs": [
    {
     "name": "stdout",
     "output_type": "stream",
     "text": [
      "12574\n",
      "['root:x:0:0:root:/root:/bin/bash\\n', 'daemon:x:1:1:daemon:/usr/sbin:/usr/sbin/nologin\\n', 'bin:x:2:2:bin:/bin:/usr/sbin/nologin\\n', 'sys:x:3:3:sys:/dev:/usr/sbin/nologin\\n', 'sync:x:4:65534:sync:/bin:/bin/sync\\n', 'games:x:5:60:games:/usr/games:/usr/sbin/nologin\\n', 'man:x:6:12:man:/var/cache/man:/usr/sbin/nologin\\n', 'lp:x:7:7:lp:/var/spool/lpd:/usr/sbin/nologin\\n', 'mail:x:8:8:mail:/var/mail:/usr/sbin/nologin\\n', 'news:x:9:9:news:/var/spool/news:/usr/sbin/nologin\\n', 'uucp:x:10:10:uucp:/var/spool/uucp:/usr/sbin/nologin\\n', 'proxy:x:13:13:proxy:/bin:/usr/sbin/nologin\\n', 'www-data:x:33:33:www-data:/var/www:/usr/sbin/nologin\\n', 'backup:x:34:34:backup:/var/backups:/usr/sbin/nologin\\n', 'list:x:38:38:Mailing List Manager:/var/list:/usr/sbin/nologin\\n', 'irc:x:39:39:ircd:/var/run/ircd:/usr/sbin/nologin\\n', 'gnats:x:41:41:Gnats Bug-Reporting System (admin):/var/lib/gnats:/usr/sbin/nologin\\n', 'nobody:x:65534:65534:nobody:/nonexistent:/usr/sbin/nologin\\n', '_apt:x:100:65534::/nonexistent:/usr/sbin/nologin\\n', 'ubuntu:x:12574:12574::/home/ubuntu:/bin/bash\\n', 'sshd:x:101:65534::/run/sshd:/usr/sbin/nologin\\n', 'postgres:x:102:104:PostgreSQL administrator,,,:/var/lib/postgresql:/bin/bash\\n', 'systemd-network:x:103:106:systemd Network Management,,,:/run/systemd/netif:/usr/sbin/nologin\\n', 'systemd-resolve:x:104:107:systemd Resolver,,,:/run/systemd/resolve:/usr/sbin/nologin\\n', 'messagebus:x:105:108::/nonexistent:/usr/sbin/nologin\\n', 'rstudio-server:x:999:999::/home/rstudio-server:/bin/sh\\n']\n",
      "pwd.struct_passwd(pw_name='ubuntu', pw_passwd='x', pw_uid=12574, pw_gid=12574, pw_gecos='', pw_dir='/home/ubuntu', pw_shell='/bin/bash')\n",
      "pwd.struct_passwd(pw_name='ubuntu', pw_passwd='x', pw_uid=12574, pw_gid=12574, pw_gecos='', pw_dir='/home/ubuntu', pw_shell='/bin/bash')\n",
      "ubuntu\n",
      "ubuntu\n"
     ]
    }
   ],
   "source": [
    "thing()"
   ]
  },
  {
   "cell_type": "code",
   "execution_count": 3,
   "id": "3e4df277-efc1-4c9b-95e1-4f1e9df5fb02",
   "metadata": {},
   "outputs": [],
   "source": [
    "import ray\n",
    "import xgboost_ray as xgbr\n",
    "\n",
    "if ray.is_initialized() == False:\n",
    "    service_host = os.environ[\"RAY_HEAD_SERVICE_HOST\"]\n",
    "    service_port = os.environ[\"RAY_HEAD_SERVICE_PORT\"]\n",
    "    ray.init(f\"ray://{service_host}:{service_port}\")"
   ]
  },
  {
   "cell_type": "code",
   "execution_count": 6,
   "id": "c421de40-511d-44a3-9043-c1f3d203bc2b",
   "metadata": {},
   "outputs": [
    {
     "data": {
      "text/plain": [
       "[{'NodeID': 'd97394a6ea539b57f821060faab976782422d6c6c3560bee2ca5ac65',\n",
       "  'Alive': True,\n",
       "  'NodeManagerAddress': '10.0.123.157',\n",
       "  'NodeManagerHostname': 'ray-6351a2d3c533470d0466edaa-ray-worker-0',\n",
       "  'NodeManagerPort': 2385,\n",
       "  'ObjectManagerPort': 2384,\n",
       "  'ObjectStoreSocketName': '/tmp/ray/session_2022-10-20_12-34-48_107209_1/sockets/plasma_store',\n",
       "  'RayletSocketName': '/tmp/ray/session_2022-10-20_12-34-48_107209_1/sockets/raylet',\n",
       "  'MetricsExportPort': 61123,\n",
       "  'alive': True,\n",
       "  'Resources': {'object_store_memory': 1267046400.0,\n",
       "   'memory': 2956441600.0,\n",
       "   'node:10.0.123.157': 1.0,\n",
       "   'CPU': 1.0}},\n",
       " {'NodeID': 'd4b67c6b643b6cb347d7b0503d7d5bee84ca1e3f23a3d2911f6ed67b',\n",
       "  'Alive': True,\n",
       "  'NodeManagerAddress': '10.0.33.157',\n",
       "  'NodeManagerHostname': 'ray-6351a2d3c533470d0466edaa-ray-worker-1',\n",
       "  'NodeManagerPort': 2385,\n",
       "  'ObjectManagerPort': 2384,\n",
       "  'ObjectStoreSocketName': '/tmp/ray/session_2022-10-20_12-34-48_107209_1/sockets/plasma_store',\n",
       "  'RayletSocketName': '/tmp/ray/session_2022-10-20_12-34-48_107209_1/sockets/raylet',\n",
       "  'MetricsExportPort': 44371,\n",
       "  'alive': True,\n",
       "  'Resources': {'memory': 2956613632.0,\n",
       "   'object_store_memory': 1267120128.0,\n",
       "   'CPU': 1.0,\n",
       "   'node:10.0.33.157': 1.0}},\n",
       " {'NodeID': '1c162e795e991e5f2abcb09b0768f815691cc3ce24b9c2d11d354185',\n",
       "  'Alive': True,\n",
       "  'NodeManagerAddress': '10.0.62.11',\n",
       "  'NodeManagerHostname': 'ray-6351a2d3c533470d0466edaa-ray-head-0',\n",
       "  'NodeManagerPort': 2385,\n",
       "  'ObjectManagerPort': 2384,\n",
       "  'ObjectStoreSocketName': '/tmp/ray/session_2022-10-20_12-34-48_107209_1/sockets/plasma_store',\n",
       "  'RayletSocketName': '/tmp/ray/session_2022-10-20_12-34-48_107209_1/sockets/raylet',\n",
       "  'MetricsExportPort': 53209,\n",
       "  'alive': True,\n",
       "  'Resources': {'CPU': 1.0,\n",
       "   'object_store_memory': 1267679232.0,\n",
       "   'memory': 2535358464.0,\n",
       "   'node:10.0.62.11': 1.0}}]"
      ]
     },
     "execution_count": 6,
     "metadata": {},
     "output_type": "execute_result"
    }
   ],
   "source": [
    "ray.nodes()"
   ]
  },
  {
   "cell_type": "code",
   "execution_count": 4,
   "id": "8c183bf8-5b98-4f9c-8343-65ec69803fad",
   "metadata": {},
   "outputs": [],
   "source": [
    "@ray.remote\n",
    "def tryit():\n",
    "    thing()"
   ]
  },
  {
   "cell_type": "code",
   "execution_count": 5,
   "id": "9245226d-4d9b-409b-b742-2e58ebdda4e0",
   "metadata": {},
   "outputs": [
    {
     "name": "stdout",
     "output_type": "stream",
     "text": [
      "\u001b[2m\u001b[36m(tryit pid=2267)\u001b[0m 12574\n",
      "\u001b[2m\u001b[36m(tryit pid=2267)\u001b[0m ['root:x:0:0:root:/root:/bin/bash\\n', 'daemon:x:1:1:daemon:/usr/sbin:/usr/sbin/nologin\\n', 'bin:x:2:2:bin:/bin:/usr/sbin/nologin\\n', 'sys:x:3:3:sys:/dev:/usr/sbin/nologin\\n', 'sync:x:4:65534:sync:/bin:/bin/sync\\n', 'games:x:5:60:games:/usr/games:/usr/sbin/nologin\\n', 'man:x:6:12:man:/var/cache/man:/usr/sbin/nologin\\n', 'lp:x:7:7:lp:/var/spool/lpd:/usr/sbin/nologin\\n', 'mail:x:8:8:mail:/var/mail:/usr/sbin/nologin\\n', 'news:x:9:9:news:/var/spool/news:/usr/sbin/nologin\\n', 'uucp:x:10:10:uucp:/var/spool/uucp:/usr/sbin/nologin\\n', 'proxy:x:13:13:proxy:/bin:/usr/sbin/nologin\\n', 'www-data:x:33:33:www-data:/var/www:/usr/sbin/nologin\\n', 'backup:x:34:34:backup:/var/backups:/usr/sbin/nologin\\n', 'list:x:38:38:Mailing List Manager:/var/list:/usr/sbin/nologin\\n', 'irc:x:39:39:ircd:/var/run/ircd:/usr/sbin/nologin\\n', 'gnats:x:41:41:Gnats Bug-Reporting System (admin):/var/lib/gnats:/usr/sbin/nologin\\n', 'nobody:x:65534:65534:nobody:/nonexistent:/usr/sbin/nologin\\n', '_apt:x:100:65534::/nonexistent:/usr/sbin/nologin\\n', 'ray:x:1000:100::/home/ray:/bin/bash\\n', 'messagebus:x:101:102::/nonexistent:/usr/sbin/nologin\\n', 'ubuntu:x:12574:12574::/home/ubuntu:/bin/bash\\n']\n",
      "\u001b[2m\u001b[36m(tryit pid=2267)\u001b[0m pwd.struct_passwd(pw_name='ubuntu', pw_passwd='x', pw_uid=12574, pw_gid=12574, pw_gecos='', pw_dir='/home/ubuntu', pw_shell='/bin/bash')\n",
      "\u001b[2m\u001b[36m(tryit pid=2267)\u001b[0m pwd.struct_passwd(pw_name='ubuntu', pw_passwd='x', pw_uid=12574, pw_gid=12574, pw_gecos='', pw_dir='/home/ubuntu', pw_shell='/bin/bash')\n",
      "\u001b[2m\u001b[36m(tryit pid=2267)\u001b[0m ubuntu\n",
      "\u001b[2m\u001b[36m(tryit pid=2267)\u001b[0m ubuntu\n"
     ]
    }
   ],
   "source": [
    "ray.get(tryit.remote())"
   ]
  },
  {
   "cell_type": "code",
   "execution_count": 6,
   "id": "fc51a977-8b0e-426d-8edb-60af73ed03f9",
   "metadata": {},
   "outputs": [],
   "source": [
    "from sklearn.datasets import fetch_california_housing\n",
    "ca_data = fetch_california_housing(as_frame=True)\n",
    "ca_data.frame.to_csv(\"cadata.csv\", index=False)"
   ]
  },
  {
   "cell_type": "code",
   "execution_count": 7,
   "id": "3bc5f2f9-7142-48d7-8a61-0b18affef2ba",
   "metadata": {},
   "outputs": [],
   "source": [
    "from sklearn.model_selection import train_test_split\n",
    "from sklearn.metrics import r2_score, mean_poisson_deviance\n",
    "import pandas as pd\n",
    "import xgboost as xgb"
   ]
  },
  {
   "cell_type": "code",
   "execution_count": 8,
   "id": "ca07dfe3-2336-4006-8081-411dfb6f0f51",
   "metadata": {},
   "outputs": [],
   "source": [
    "all_data = pd.read_csv(\"cadata.csv\")\n",
    "# Probably going to save separate files for train/test data for the ray examples\n",
    "#  so I can just bypass the many other options for splitting\n",
    "train_data, test_data = train_test_split(all_data, test_size=0.3, random_state=42)"
   ]
  },
  {
   "cell_type": "code",
   "execution_count": 9,
   "id": "6f443ec7-33bc-4305-be1f-424b9f7a35c1",
   "metadata": {},
   "outputs": [],
   "source": [
    "target_col = \"MedHouseVal\"\n",
    "X_train = train_data.drop(target_col, axis=1)\n",
    "y_train = train_data[target_col]\n",
    "X_test = test_data.drop(target_col, axis=1)\n",
    "y_test = test_data[target_col]"
   ]
  },
  {
   "cell_type": "code",
   "execution_count": 10,
   "id": "9fd54405-a0eb-48e2-b809-8ca038c957cd",
   "metadata": {},
   "outputs": [],
   "source": [
    "dtrain = xgbr.RayDMatrix(X_train, y_train)\n",
    "dtest = xgbr.RayDMatrix(X_test, y_test)"
   ]
  },
  {
   "cell_type": "code",
   "execution_count": 11,
   "id": "8f4ba315-8163-4d7c-add1-0d5a6bd377d6",
   "metadata": {},
   "outputs": [
    {
     "name": "stdout",
     "output_type": "stream",
     "text": [
      "Saving intermediate tune results to /domino/datasets/local/Ray-Tutorial/ray_results\n"
     ]
    }
   ],
   "source": [
    "tune_results_dir = os.path.join(\"/domino/datasets/local\", os.environ[\"DOMINO_PROJECT_NAME\"], \"ray_results\")\n",
    "print(f\"Saving intermediate tune results to {tune_results_dir}\")"
   ]
  },
  {
   "cell_type": "code",
   "execution_count": 12,
   "id": "8aa065f8-6bc2-4e07-92e9-8ef69009fb9d",
   "metadata": {},
   "outputs": [],
   "source": [
    "from ray import tune"
   ]
  },
  {
   "cell_type": "code",
   "execution_count": 13,
   "id": "eac6f8ed-cb05-4fde-b6a8-872037a18086",
   "metadata": {},
   "outputs": [
    {
     "data": {
      "text/plain": [
       "{'CPU': 3.0}"
      ]
     },
     "execution_count": 13,
     "metadata": {},
     "output_type": "execute_result"
    }
   ],
   "source": [
    "ray_param = xgbr.RayParams(num_actors=2, cpus_per_actor=1)\n",
    "ray_param.get_tune_resources().required_resources"
   ]
  },
  {
   "cell_type": "code",
   "execution_count": 14,
   "id": "357d0c6e-467a-4e0e-a42a-6041ee6f8ed6",
   "metadata": {},
   "outputs": [
    {
     "name": "stderr",
     "output_type": "stream",
     "text": [
      "\u001b[2m\u001b[36m(run pid=218)\u001b[0m 2022-10-16 13:00:55,826\tWARNING function_runner.py:561 -- Function checkpointing is disabled. This may result in unexpected behavior when using checkpointing features or certain schedulers. To enable, set the train function arguments to be `func(config, checkpoint_dir=None)`.\n"
     ]
    },
    {
     "name": "stdout",
     "output_type": "stream",
     "text": [
      "\u001b[2m\u001b[36m(run pid=218)\u001b[0m == Status ==\n",
      "\u001b[2m\u001b[36m(run pid=218)\u001b[0m Current time: 2022-10-16 13:00:56 (running for 00:00:00.21)\n",
      "\u001b[2m\u001b[36m(run pid=218)\u001b[0m Memory usage on this node: 5.0/30.9 GiB\n",
      "\u001b[2m\u001b[36m(run pid=218)\u001b[0m Using FIFO scheduling algorithm.\n",
      "\u001b[2m\u001b[36m(run pid=218)\u001b[0m Resources requested: 0/3 CPUs, 0/0 GPUs, 0.0/7.86 GiB heap, 0.0/3.54 GiB objects\n",
      "\u001b[2m\u001b[36m(run pid=218)\u001b[0m Result logdir: /domino/datasets/local/Ray-Tutorial/ray_results/my_trainer_2022-10-16_13-00-55\n",
      "\u001b[2m\u001b[36m(run pid=218)\u001b[0m Number of trials: 4/4 (4 PENDING)\n",
      "\u001b[2m\u001b[36m(run pid=218)\u001b[0m +------------------------+----------+-------+-------------+-------------+\n",
      "\u001b[2m\u001b[36m(run pid=218)\u001b[0m | Trial name             | status   | loc   |         eta |   max_depth |\n",
      "\u001b[2m\u001b[36m(run pid=218)\u001b[0m |------------------------+----------+-------+-------------+-------------|\n",
      "\u001b[2m\u001b[36m(run pid=218)\u001b[0m | my_trainer_3eda2_00000 | PENDING  |       | 0.000673909 |           8 |\n",
      "\u001b[2m\u001b[36m(run pid=218)\u001b[0m | my_trainer_3eda2_00001 | PENDING  |       | 0.0236393   |           3 |\n",
      "\u001b[2m\u001b[36m(run pid=218)\u001b[0m | my_trainer_3eda2_00002 | PENDING  |       | 0.088005    |           8 |\n",
      "\u001b[2m\u001b[36m(run pid=218)\u001b[0m | my_trainer_3eda2_00003 | PENDING  |       | 0.0200759   |           8 |\n",
      "\u001b[2m\u001b[36m(run pid=218)\u001b[0m +------------------------+----------+-------+-------------+-------------+\n",
      "\u001b[2m\u001b[36m(run pid=218)\u001b[0m \n",
      "\u001b[2m\u001b[36m(run pid=218)\u001b[0m \n"
     ]
    },
    {
     "name": "stderr",
     "output_type": "stream",
     "text": [
      "\u001b[2m\u001b[36m(ImplicitFunc pid=77, ip=10.0.50.190)\u001b[0m 2022-10-16 13:01:00,726\tINFO main.py:926 -- [RayXGBoost] Created 2 new actors (2 total actors). Waiting until actors are ready for training.\n"
     ]
    },
    {
     "name": "stdout",
     "output_type": "stream",
     "text": [
      "\u001b[2m\u001b[36m(run pid=218)\u001b[0m == Status ==\n",
      "\u001b[2m\u001b[36m(run pid=218)\u001b[0m Current time: 2022-10-16 13:01:01 (running for 00:00:05.26)\n",
      "\u001b[2m\u001b[36m(run pid=218)\u001b[0m Memory usage on this node: 5.4/30.9 GiB\n",
      "\u001b[2m\u001b[36m(run pid=218)\u001b[0m Using FIFO scheduling algorithm.\n",
      "\u001b[2m\u001b[36m(run pid=218)\u001b[0m Resources requested: 3.0/3 CPUs, 0/0 GPUs, 0.0/7.86 GiB heap, 0.0/3.54 GiB objects\n",
      "\u001b[2m\u001b[36m(run pid=218)\u001b[0m Result logdir: /domino/datasets/local/Ray-Tutorial/ray_results/my_trainer_2022-10-16_13-00-55\n",
      "\u001b[2m\u001b[36m(run pid=218)\u001b[0m Number of trials: 4/4 (3 PENDING, 1 RUNNING)\n",
      "\u001b[2m\u001b[36m(run pid=218)\u001b[0m +------------------------+----------+----------------+-------------+-------------+\n",
      "\u001b[2m\u001b[36m(run pid=218)\u001b[0m | Trial name             | status   | loc            |         eta |   max_depth |\n",
      "\u001b[2m\u001b[36m(run pid=218)\u001b[0m |------------------------+----------+----------------+-------------+-------------|\n",
      "\u001b[2m\u001b[36m(run pid=218)\u001b[0m | my_trainer_3eda2_00000 | RUNNING  | 10.0.50.190:77 | 0.000673909 |           8 |\n",
      "\u001b[2m\u001b[36m(run pid=218)\u001b[0m | my_trainer_3eda2_00001 | PENDING  |                | 0.0236393   |           3 |\n",
      "\u001b[2m\u001b[36m(run pid=218)\u001b[0m | my_trainer_3eda2_00002 | PENDING  |                | 0.088005    |           8 |\n",
      "\u001b[2m\u001b[36m(run pid=218)\u001b[0m | my_trainer_3eda2_00003 | PENDING  |                | 0.0200759   |           8 |\n",
      "\u001b[2m\u001b[36m(run pid=218)\u001b[0m +------------------------+----------+----------------+-------------+-------------+\n",
      "\u001b[2m\u001b[36m(run pid=218)\u001b[0m \n",
      "\u001b[2m\u001b[36m(run pid=218)\u001b[0m \n"
     ]
    },
    {
     "name": "stderr",
     "output_type": "stream",
     "text": [
      "\u001b[2m\u001b[36m(_RemoteRayXGBoostActor pid=348)\u001b[0m [13:01:04] task [xgboost.ray]:140234718513616 got new rank 0\n",
      "\u001b[2m\u001b[36m(ImplicitFunc pid=77, ip=10.0.50.190)\u001b[0m 2022-10-16 13:01:04,646\tINFO main.py:971 -- [RayXGBoost] Starting XGBoost training.\n",
      "\u001b[2m\u001b[36m(_RemoteRayXGBoostActor pid=104, ip=10.0.92.121)\u001b[0m [13:01:04] task [xgboost.ray]:140281395173840 got new rank 1\n"
     ]
    },
    {
     "name": "stdout",
     "output_type": "stream",
     "text": [
      "\u001b[2m\u001b[36m(run pid=218)\u001b[0m Result for my_trainer_3eda2_00000:\n",
      "\u001b[2m\u001b[36m(run pid=218)\u001b[0m   date: 2022-10-16_13-01-05\n",
      "\u001b[2m\u001b[36m(run pid=218)\u001b[0m   done: false\n",
      "\u001b[2m\u001b[36m(run pid=218)\u001b[0m   experiment_id: 6edf906b8bf44ff5aa26e13f13171e3e\n",
      "\u001b[2m\u001b[36m(run pid=218)\u001b[0m   hostname: ray-634c6195c533470d0466a970-ray-worker-0\n",
      "\u001b[2m\u001b[36m(run pid=218)\u001b[0m   iterations_since_restore: 1\n",
      "\u001b[2m\u001b[36m(run pid=218)\u001b[0m   node_ip: 10.0.50.190\n",
      "\u001b[2m\u001b[36m(run pid=218)\u001b[0m   pid: 77\n",
      "\u001b[2m\u001b[36m(run pid=218)\u001b[0m   time_since_restore: 4.989794969558716\n",
      "\u001b[2m\u001b[36m(run pid=218)\u001b[0m   time_this_iter_s: 4.989794969558716\n",
      "\u001b[2m\u001b[36m(run pid=218)\u001b[0m   time_total_s: 4.989794969558716\n",
      "\u001b[2m\u001b[36m(run pid=218)\u001b[0m   timestamp: 1665950465\n",
      "\u001b[2m\u001b[36m(run pid=218)\u001b[0m   timesteps_since_restore: 0\n",
      "\u001b[2m\u001b[36m(run pid=218)\u001b[0m   train-rmse: 1.948747\n",
      "\u001b[2m\u001b[36m(run pid=218)\u001b[0m   training_iteration: 1\n",
      "\u001b[2m\u001b[36m(run pid=218)\u001b[0m   trial_id: 3eda2_00000\n",
      "\u001b[2m\u001b[36m(run pid=218)\u001b[0m   \n"
     ]
    },
    {
     "name": "stderr",
     "output_type": "stream",
     "text": [
      "\u001b[2m\u001b[36m(ImplicitFunc pid=77, ip=10.0.50.190)\u001b[0m 2022-10-16 13:01:05,849\tINFO main.py:1450 -- [RayXGBoost] Finished XGBoost training on training data with total N=14,448 in 5.16 seconds (1.20 pure XGBoost training time).\n"
     ]
    },
    {
     "name": "stdout",
     "output_type": "stream",
     "text": [
      "\u001b[2m\u001b[36m(run pid=218)\u001b[0m Result for my_trainer_3eda2_00000:\n",
      "\u001b[2m\u001b[36m(run pid=218)\u001b[0m   date: 2022-10-16_13-01-05\n",
      "\u001b[2m\u001b[36m(run pid=218)\u001b[0m   done: true\n",
      "\u001b[2m\u001b[36m(run pid=218)\u001b[0m   experiment_id: 6edf906b8bf44ff5aa26e13f13171e3e\n",
      "\u001b[2m\u001b[36m(run pid=218)\u001b[0m   experiment_tag: 0_eta=0.00067391,max_depth=8\n",
      "\u001b[2m\u001b[36m(run pid=218)\u001b[0m   hostname: ray-634c6195c533470d0466a970-ray-worker-0\n",
      "\u001b[2m\u001b[36m(run pid=218)\u001b[0m   iterations_since_restore: 10\n",
      "\u001b[2m\u001b[36m(run pid=218)\u001b[0m   node_ip: 10.0.50.190\n",
      "\u001b[2m\u001b[36m(run pid=218)\u001b[0m   pid: 77\n",
      "\u001b[2m\u001b[36m(run pid=218)\u001b[0m   time_since_restore: 5.079311847686768\n",
      "\u001b[2m\u001b[36m(run pid=218)\u001b[0m   time_this_iter_s: 0.009550094604492188\n",
      "\u001b[2m\u001b[36m(run pid=218)\u001b[0m   time_total_s: 5.079311847686768\n",
      "\u001b[2m\u001b[36m(run pid=218)\u001b[0m   timestamp: 1665950465\n",
      "\u001b[2m\u001b[36m(run pid=218)\u001b[0m   timesteps_since_restore: 0\n",
      "\u001b[2m\u001b[36m(run pid=218)\u001b[0m   train-rmse: 1.938184\n",
      "\u001b[2m\u001b[36m(run pid=218)\u001b[0m   training_iteration: 10\n",
      "\u001b[2m\u001b[36m(run pid=218)\u001b[0m   trial_id: 3eda2_00000\n",
      "\u001b[2m\u001b[36m(run pid=218)\u001b[0m   \n"
     ]
    },
    {
     "name": "stderr",
     "output_type": "stream",
     "text": [
      "\u001b[2m\u001b[36m(ImplicitFunc pid=144, ip=10.0.50.190)\u001b[0m 2022-10-16 13:01:07,611\tINFO main.py:926 -- [RayXGBoost] Created 2 new actors (2 total actors). Waiting until actors are ready for training.\n"
     ]
    },
    {
     "name": "stdout",
     "output_type": "stream",
     "text": [
      "\u001b[2m\u001b[36m(run pid=218)\u001b[0m == Status ==\n",
      "\u001b[2m\u001b[36m(run pid=218)\u001b[0m Current time: 2022-10-16 13:01:07 (running for 00:00:11.26)\n",
      "\u001b[2m\u001b[36m(run pid=218)\u001b[0m Memory usage on this node: 5.2/30.9 GiB\n",
      "\u001b[2m\u001b[36m(run pid=218)\u001b[0m Using FIFO scheduling algorithm.\n",
      "\u001b[2m\u001b[36m(run pid=218)\u001b[0m Resources requested: 3.0/3 CPUs, 0/0 GPUs, 0.0/7.86 GiB heap, 0.0/3.54 GiB objects\n",
      "\u001b[2m\u001b[36m(run pid=218)\u001b[0m Current best trial: 3eda2_00000 with train-rmse=1.938184 and parameters={'tree_method': 'approx', 'objective': 'reg:squarederror', 'eval_metric': 'rmse', 'eta': 0.0006739090350902411, 'max_depth': 8, 'nthread': 1, 'n_jobs': 1}\n",
      "\u001b[2m\u001b[36m(run pid=218)\u001b[0m Result logdir: /domino/datasets/local/Ray-Tutorial/ray_results/my_trainer_2022-10-16_13-00-55\n",
      "\u001b[2m\u001b[36m(run pid=218)\u001b[0m Number of trials: 4/4 (2 PENDING, 1 RUNNING, 1 TERMINATED)\n",
      "\u001b[2m\u001b[36m(run pid=218)\u001b[0m +------------------------+------------+-----------------+-------------+-------------+--------+------------------+--------------+\n",
      "\u001b[2m\u001b[36m(run pid=218)\u001b[0m | Trial name             | status     | loc             |         eta |   max_depth |   iter |   total time (s) |   train-rmse |\n",
      "\u001b[2m\u001b[36m(run pid=218)\u001b[0m |------------------------+------------+-----------------+-------------+-------------+--------+------------------+--------------|\n",
      "\u001b[2m\u001b[36m(run pid=218)\u001b[0m | my_trainer_3eda2_00001 | RUNNING    | 10.0.50.190:144 | 0.0236393   |           3 |        |                  |              |\n",
      "\u001b[2m\u001b[36m(run pid=218)\u001b[0m | my_trainer_3eda2_00002 | PENDING    |                 | 0.088005    |           8 |        |                  |              |\n",
      "\u001b[2m\u001b[36m(run pid=218)\u001b[0m | my_trainer_3eda2_00003 | PENDING    |                 | 0.0200759   |           8 |        |                  |              |\n",
      "\u001b[2m\u001b[36m(run pid=218)\u001b[0m | my_trainer_3eda2_00000 | TERMINATED | 10.0.50.190:77  | 0.000673909 |           8 |     10 |          5.07931 |      1.93818 |\n",
      "\u001b[2m\u001b[36m(run pid=218)\u001b[0m +------------------------+------------+-----------------+-------------+-------------+--------+------------------+--------------+\n",
      "\u001b[2m\u001b[36m(run pid=218)\u001b[0m \n",
      "\u001b[2m\u001b[36m(run pid=218)\u001b[0m \n"
     ]
    },
    {
     "name": "stderr",
     "output_type": "stream",
     "text": [
      "\u001b[2m\u001b[36m(ImplicitFunc pid=144, ip=10.0.50.190)\u001b[0m 2022-10-16 13:01:11,538\tINFO main.py:971 -- [RayXGBoost] Starting XGBoost training.\n",
      "\u001b[2m\u001b[36m(_RemoteRayXGBoostActor pid=446)\u001b[0m [13:01:11] task [xgboost.ray]:140502613457360 got new rank 0\n",
      "\u001b[2m\u001b[36m(_RemoteRayXGBoostActor pid=190, ip=10.0.92.121)\u001b[0m [13:01:11] task [xgboost.ray]:140475222206976 got new rank 1\n"
     ]
    },
    {
     "name": "stdout",
     "output_type": "stream",
     "text": [
      "\u001b[2m\u001b[36m(run pid=218)\u001b[0m Result for my_trainer_3eda2_00001:\n",
      "\u001b[2m\u001b[36m(run pid=218)\u001b[0m   date: 2022-10-16_13-01-12\n",
      "\u001b[2m\u001b[36m(run pid=218)\u001b[0m   done: false\n",
      "\u001b[2m\u001b[36m(run pid=218)\u001b[0m   experiment_id: bce363fe864e4020b09f91fe188ccf0d\n",
      "\u001b[2m\u001b[36m(run pid=218)\u001b[0m   hostname: ray-634c6195c533470d0466a970-ray-worker-0\n",
      "\u001b[2m\u001b[36m(run pid=218)\u001b[0m   iterations_since_restore: 1\n",
      "\u001b[2m\u001b[36m(run pid=218)\u001b[0m   node_ip: 10.0.50.190\n",
      "\u001b[2m\u001b[36m(run pid=218)\u001b[0m   pid: 144\n",
      "\u001b[2m\u001b[36m(run pid=218)\u001b[0m   time_since_restore: 4.9493348598480225\n",
      "\u001b[2m\u001b[36m(run pid=218)\u001b[0m   time_this_iter_s: 4.9493348598480225\n",
      "\u001b[2m\u001b[36m(run pid=218)\u001b[0m   time_total_s: 4.9493348598480225\n",
      "\u001b[2m\u001b[36m(run pid=218)\u001b[0m   timestamp: 1665950472\n",
      "\u001b[2m\u001b[36m(run pid=218)\u001b[0m   timesteps_since_restore: 0\n",
      "\u001b[2m\u001b[36m(run pid=218)\u001b[0m   train-rmse: 1.911498\n",
      "\u001b[2m\u001b[36m(run pid=218)\u001b[0m   training_iteration: 1\n",
      "\u001b[2m\u001b[36m(run pid=218)\u001b[0m   trial_id: 3eda2_00001\n",
      "\u001b[2m\u001b[36m(run pid=218)\u001b[0m   \n",
      "\u001b[2m\u001b[36m(run pid=218)\u001b[0m Result for my_trainer_3eda2_00001:\n",
      "\u001b[2m\u001b[36m(run pid=218)\u001b[0m   date: 2022-10-16_13-01-12\n",
      "\u001b[2m\u001b[36m(run pid=218)\u001b[0m   done: true\n",
      "\u001b[2m\u001b[36m(run pid=218)\u001b[0m   experiment_id: bce363fe864e4020b09f91fe188ccf0d\n",
      "\u001b[2m\u001b[36m(run pid=218)\u001b[0m   experiment_tag: 1_eta=0.023639,max_depth=3\n",
      "\u001b[2m\u001b[36m(run pid=218)\u001b[0m   hostname: ray-634c6195c533470d0466a970-ray-worker-0\n",
      "\u001b[2m\u001b[36m(run pid=218)\u001b[0m   iterations_since_restore: 10\n",
      "\u001b[2m\u001b[36m(run pid=218)\u001b[0m   node_ip: 10.0.50.190\n",
      "\u001b[2m\u001b[36m(run pid=218)\u001b[0m   pid: 144\n",
      "\u001b[2m\u001b[36m(run pid=218)\u001b[0m   time_since_restore: 5.027597427368164\n",
      "\u001b[2m\u001b[36m(run pid=218)\u001b[0m   time_this_iter_s: 0.007880210876464844\n",
      "\u001b[2m\u001b[36m(run pid=218)\u001b[0m   time_total_s: 5.027597427368164\n",
      "\u001b[2m\u001b[36m(run pid=218)\u001b[0m   timestamp: 1665950472\n",
      "\u001b[2m\u001b[36m(run pid=218)\u001b[0m   timesteps_since_restore: 0\n",
      "\u001b[2m\u001b[36m(run pid=218)\u001b[0m   train-rmse: 1.609277\n",
      "\u001b[2m\u001b[36m(run pid=218)\u001b[0m   training_iteration: 10\n",
      "\u001b[2m\u001b[36m(run pid=218)\u001b[0m   trial_id: 3eda2_00001\n",
      "\u001b[2m\u001b[36m(run pid=218)\u001b[0m   \n"
     ]
    },
    {
     "name": "stderr",
     "output_type": "stream",
     "text": [
      "\u001b[2m\u001b[36m(ImplicitFunc pid=144, ip=10.0.50.190)\u001b[0m 2022-10-16 13:01:12,618\tINFO main.py:1450 -- [RayXGBoost] Finished XGBoost training on training data with total N=14,448 in 5.04 seconds (1.08 pure XGBoost training time).\n"
     ]
    },
    {
     "name": "stdout",
     "output_type": "stream",
     "text": [
      "\u001b[2m\u001b[36m(run pid=218)\u001b[0m == Status ==\n",
      "\u001b[2m\u001b[36m(run pid=218)\u001b[0m Current time: 2022-10-16 13:01:14 (running for 00:00:17.65)\n",
      "\u001b[2m\u001b[36m(run pid=218)\u001b[0m Memory usage on this node: 5.2/30.9 GiB\n",
      "\u001b[2m\u001b[36m(run pid=218)\u001b[0m Using FIFO scheduling algorithm.\n",
      "\u001b[2m\u001b[36m(run pid=218)\u001b[0m Resources requested: 3.0/3 CPUs, 0/0 GPUs, 0.0/7.86 GiB heap, 0.0/3.54 GiB objects\n",
      "\u001b[2m\u001b[36m(run pid=218)\u001b[0m Current best trial: 3eda2_00001 with train-rmse=1.609277 and parameters={'tree_method': 'approx', 'objective': 'reg:squarederror', 'eval_metric': 'rmse', 'eta': 0.02363927110473255, 'max_depth': 3, 'nthread': 1, 'n_jobs': 1}\n",
      "\u001b[2m\u001b[36m(run pid=218)\u001b[0m Result logdir: /domino/datasets/local/Ray-Tutorial/ray_results/my_trainer_2022-10-16_13-00-55\n",
      "\u001b[2m\u001b[36m(run pid=218)\u001b[0m Number of trials: 4/4 (1 PENDING, 1 RUNNING, 2 TERMINATED)\n",
      "\u001b[2m\u001b[36m(run pid=218)\u001b[0m +------------------------+------------+-----------------+-------------+-------------+--------+------------------+--------------+\n",
      "\u001b[2m\u001b[36m(run pid=218)\u001b[0m | Trial name             | status     | loc             |         eta |   max_depth |   iter |   total time (s) |   train-rmse |\n",
      "\u001b[2m\u001b[36m(run pid=218)\u001b[0m |------------------------+------------+-----------------+-------------+-------------+--------+------------------+--------------|\n",
      "\u001b[2m\u001b[36m(run pid=218)\u001b[0m | my_trainer_3eda2_00002 | RUNNING    | 10.0.50.190:183 | 0.088005    |           8 |        |                  |              |\n",
      "\u001b[2m\u001b[36m(run pid=218)\u001b[0m | my_trainer_3eda2_00003 | PENDING    |                 | 0.0200759   |           8 |        |                  |              |\n",
      "\u001b[2m\u001b[36m(run pid=218)\u001b[0m | my_trainer_3eda2_00000 | TERMINATED | 10.0.50.190:77  | 0.000673909 |           8 |     10 |          5.07931 |      1.93818 |\n",
      "\u001b[2m\u001b[36m(run pid=218)\u001b[0m | my_trainer_3eda2_00001 | TERMINATED | 10.0.50.190:144 | 0.0236393   |           3 |     10 |          5.0276  |      1.60928 |\n",
      "\u001b[2m\u001b[36m(run pid=218)\u001b[0m +------------------------+------------+-----------------+-------------+-------------+--------+------------------+--------------+\n",
      "\u001b[2m\u001b[36m(run pid=218)\u001b[0m \n",
      "\u001b[2m\u001b[36m(run pid=218)\u001b[0m \n"
     ]
    },
    {
     "name": "stderr",
     "output_type": "stream",
     "text": [
      "\u001b[2m\u001b[36m(ImplicitFunc pid=183, ip=10.0.50.190)\u001b[0m 2022-10-16 13:01:14,372\tINFO main.py:926 -- [RayXGBoost] Created 2 new actors (2 total actors). Waiting until actors are ready for training.\n",
      "\u001b[2m\u001b[36m(ImplicitFunc pid=183, ip=10.0.50.190)\u001b[0m 2022-10-16 13:01:16,127\tINFO main.py:971 -- [RayXGBoost] Starting XGBoost training.\n",
      "\u001b[2m\u001b[36m(_RemoteRayXGBoostActor pid=542)\u001b[0m [13:01:16] task [xgboost.ray]:140407734757840 got new rank 0\n",
      "\u001b[2m\u001b[36m(_RemoteRayXGBoostActor pid=220, ip=10.0.92.121)\u001b[0m [13:01:16] task [xgboost.ray]:140712825154000 got new rank 1\n"
     ]
    },
    {
     "name": "stdout",
     "output_type": "stream",
     "text": [
      "\u001b[2m\u001b[36m(run pid=218)\u001b[0m Result for my_trainer_3eda2_00002:\n",
      "\u001b[2m\u001b[36m(run pid=218)\u001b[0m   date: 2022-10-16_13-01-18\n",
      "\u001b[2m\u001b[36m(run pid=218)\u001b[0m   done: false\n",
      "\u001b[2m\u001b[36m(run pid=218)\u001b[0m   experiment_id: c1614493f6114fc69afc8a1c8f94c831\n",
      "\u001b[2m\u001b[36m(run pid=218)\u001b[0m   hostname: ray-634c6195c533470d0466a970-ray-worker-0\n",
      "\u001b[2m\u001b[36m(run pid=218)\u001b[0m   iterations_since_restore: 1\n",
      "\u001b[2m\u001b[36m(run pid=218)\u001b[0m   node_ip: 10.0.50.190\n",
      "\u001b[2m\u001b[36m(run pid=218)\u001b[0m   pid: 183\n",
      "\u001b[2m\u001b[36m(run pid=218)\u001b[0m   time_since_restore: 3.882456064224243\n",
      "\u001b[2m\u001b[36m(run pid=218)\u001b[0m   time_this_iter_s: 3.882456064224243\n",
      "\u001b[2m\u001b[36m(run pid=218)\u001b[0m   time_total_s: 3.882456064224243\n",
      "\u001b[2m\u001b[36m(run pid=218)\u001b[0m   timestamp: 1665950478\n",
      "\u001b[2m\u001b[36m(run pid=218)\u001b[0m   timesteps_since_restore: 0\n",
      "\u001b[2m\u001b[36m(run pid=218)\u001b[0m   train-rmse: 1.796769\n",
      "\u001b[2m\u001b[36m(run pid=218)\u001b[0m   training_iteration: 1\n",
      "\u001b[2m\u001b[36m(run pid=218)\u001b[0m   trial_id: 3eda2_00002\n",
      "\u001b[2m\u001b[36m(run pid=218)\u001b[0m   \n",
      "\u001b[2m\u001b[36m(run pid=218)\u001b[0m Result for my_trainer_3eda2_00002:\n",
      "\u001b[2m\u001b[36m(run pid=218)\u001b[0m   date: 2022-10-16_13-01-18\n",
      "\u001b[2m\u001b[36m(run pid=218)\u001b[0m   done: true\n",
      "\u001b[2m\u001b[36m(run pid=218)\u001b[0m   experiment_id: c1614493f6114fc69afc8a1c8f94c831\n",
      "\u001b[2m\u001b[36m(run pid=218)\u001b[0m   experiment_tag: 2_eta=0.088005,max_depth=8\n",
      "\u001b[2m\u001b[36m(run pid=218)\u001b[0m   hostname: ray-634c6195c533470d0466a970-ray-worker-0\n",
      "\u001b[2m\u001b[36m(run pid=218)\u001b[0m   iterations_since_restore: 10\n",
      "\u001b[2m\u001b[36m(run pid=218)\u001b[0m   node_ip: 10.0.50.190\n",
      "\u001b[2m\u001b[36m(run pid=218)\u001b[0m   pid: 183\n",
      "\u001b[2m\u001b[36m(run pid=218)\u001b[0m   time_since_restore: 3.951627254486084\n",
      "\u001b[2m\u001b[36m(run pid=218)\u001b[0m   time_this_iter_s: 0.007105350494384766\n",
      "\u001b[2m\u001b[36m(run pid=218)\u001b[0m   time_total_s: 3.951627254486084\n",
      "\u001b[2m\u001b[36m(run pid=218)\u001b[0m   timestamp: 1665950478\n",
      "\u001b[2m\u001b[36m(run pid=218)\u001b[0m   timesteps_since_restore: 0\n",
      "\u001b[2m\u001b[36m(run pid=218)\u001b[0m   train-rmse: 0.924104\n",
      "\u001b[2m\u001b[36m(run pid=218)\u001b[0m   training_iteration: 10\n",
      "\u001b[2m\u001b[36m(run pid=218)\u001b[0m   trial_id: 3eda2_00002\n",
      "\u001b[2m\u001b[36m(run pid=218)\u001b[0m   \n"
     ]
    },
    {
     "name": "stderr",
     "output_type": "stream",
     "text": [
      "\u001b[2m\u001b[36m(ImplicitFunc pid=183, ip=10.0.50.190)\u001b[0m 2022-10-16 13:01:18,307\tINFO main.py:1450 -- [RayXGBoost] Finished XGBoost training on training data with total N=14,448 in 3.97 seconds (2.18 pure XGBoost training time).\n"
     ]
    },
    {
     "name": "stdout",
     "output_type": "stream",
     "text": [
      "\u001b[2m\u001b[36m(run pid=218)\u001b[0m == Status ==\n",
      "\u001b[2m\u001b[36m(run pid=218)\u001b[0m Current time: 2022-10-16 13:01:20 (running for 00:00:23.36)\n",
      "\u001b[2m\u001b[36m(run pid=218)\u001b[0m Memory usage on this node: 5.2/30.9 GiB\n",
      "\u001b[2m\u001b[36m(run pid=218)\u001b[0m Using FIFO scheduling algorithm.\n",
      "\u001b[2m\u001b[36m(run pid=218)\u001b[0m Resources requested: 3.0/3 CPUs, 0/0 GPUs, 0.0/7.86 GiB heap, 0.0/3.54 GiB objects\n",
      "\u001b[2m\u001b[36m(run pid=218)\u001b[0m Current best trial: 3eda2_00002 with train-rmse=0.924104 and parameters={'tree_method': 'approx', 'objective': 'reg:squarederror', 'eval_metric': 'rmse', 'eta': 0.08800498336835186, 'max_depth': 8, 'nthread': 1, 'n_jobs': 1}\n",
      "\u001b[2m\u001b[36m(run pid=218)\u001b[0m Result logdir: /domino/datasets/local/Ray-Tutorial/ray_results/my_trainer_2022-10-16_13-00-55\n",
      "\u001b[2m\u001b[36m(run pid=218)\u001b[0m Number of trials: 4/4 (1 RUNNING, 3 TERMINATED)\n",
      "\u001b[2m\u001b[36m(run pid=218)\u001b[0m +------------------------+------------+-----------------+-------------+-------------+--------+------------------+--------------+\n",
      "\u001b[2m\u001b[36m(run pid=218)\u001b[0m | Trial name             | status     | loc             |         eta |   max_depth |   iter |   total time (s) |   train-rmse |\n",
      "\u001b[2m\u001b[36m(run pid=218)\u001b[0m |------------------------+------------+-----------------+-------------+-------------+--------+------------------+--------------|\n",
      "\u001b[2m\u001b[36m(run pid=218)\u001b[0m | my_trainer_3eda2_00003 | RUNNING    | 10.0.50.190:278 | 0.0200759   |           8 |        |                  |              |\n",
      "\u001b[2m\u001b[36m(run pid=218)\u001b[0m | my_trainer_3eda2_00000 | TERMINATED | 10.0.50.190:77  | 0.000673909 |           8 |     10 |          5.07931 |     1.93818  |\n",
      "\u001b[2m\u001b[36m(run pid=218)\u001b[0m | my_trainer_3eda2_00001 | TERMINATED | 10.0.50.190:144 | 0.0236393   |           3 |     10 |          5.0276  |     1.60928  |\n",
      "\u001b[2m\u001b[36m(run pid=218)\u001b[0m | my_trainer_3eda2_00002 | TERMINATED | 10.0.50.190:183 | 0.088005    |           8 |     10 |          3.95163 |     0.924104 |\n",
      "\u001b[2m\u001b[36m(run pid=218)\u001b[0m +------------------------+------------+-----------------+-------------+-------------+--------+------------------+--------------+\n",
      "\u001b[2m\u001b[36m(run pid=218)\u001b[0m \n",
      "\u001b[2m\u001b[36m(run pid=218)\u001b[0m \n"
     ]
    },
    {
     "name": "stderr",
     "output_type": "stream",
     "text": [
      "\u001b[2m\u001b[36m(ImplicitFunc pid=278, ip=10.0.50.190)\u001b[0m 2022-10-16 13:01:20,088\tINFO main.py:926 -- [RayXGBoost] Created 2 new actors (2 total actors). Waiting until actors are ready for training.\n",
      "\u001b[2m\u001b[36m(ImplicitFunc pid=278, ip=10.0.50.190)\u001b[0m 2022-10-16 13:01:23,340\tINFO main.py:971 -- [RayXGBoost] Starting XGBoost training.\n",
      "\u001b[2m\u001b[36m(_RemoteRayXGBoostActor pid=248, ip=10.0.92.121)\u001b[0m [13:01:23] task [xgboost.ray]:140193012869584 got new rank 1\n",
      "\u001b[2m\u001b[36m(_RemoteRayXGBoostActor pid=662)\u001b[0m [13:01:23] task [xgboost.ray]:140106590276048 got new rank 0\n"
     ]
    },
    {
     "name": "stdout",
     "output_type": "stream",
     "text": [
      "\u001b[2m\u001b[36m(run pid=218)\u001b[0m Result for my_trainer_3eda2_00003:\n",
      "\u001b[2m\u001b[36m(run pid=218)\u001b[0m   date: 2022-10-16_13-01-24\n",
      "\u001b[2m\u001b[36m(run pid=218)\u001b[0m   done: false\n",
      "\u001b[2m\u001b[36m(run pid=218)\u001b[0m   experiment_id: 6f2ac78fc4784f9d8552c0c185ab4f96\n",
      "\u001b[2m\u001b[36m(run pid=218)\u001b[0m   hostname: ray-634c6195c533470d0466a970-ray-worker-0\n",
      "\u001b[2m\u001b[36m(run pid=218)\u001b[0m   iterations_since_restore: 1\n",
      "\u001b[2m\u001b[36m(run pid=218)\u001b[0m   node_ip: 10.0.50.190\n",
      "\u001b[2m\u001b[36m(run pid=218)\u001b[0m   pid: 278\n",
      "\u001b[2m\u001b[36m(run pid=218)\u001b[0m   time_since_restore: 4.30981707572937\n",
      "\u001b[2m\u001b[36m(run pid=218)\u001b[0m   time_this_iter_s: 4.30981707572937\n",
      "\u001b[2m\u001b[36m(run pid=218)\u001b[0m   time_total_s: 4.30981707572937\n",
      "\u001b[2m\u001b[36m(run pid=218)\u001b[0m   timestamp: 1665950484\n",
      "\u001b[2m\u001b[36m(run pid=218)\u001b[0m   timesteps_since_restore: 0\n",
      "\u001b[2m\u001b[36m(run pid=218)\u001b[0m   train-rmse: 1.914862\n",
      "\u001b[2m\u001b[36m(run pid=218)\u001b[0m   training_iteration: 1\n",
      "\u001b[2m\u001b[36m(run pid=218)\u001b[0m   trial_id: 3eda2_00003\n",
      "\u001b[2m\u001b[36m(run pid=218)\u001b[0m   \n",
      "\u001b[2m\u001b[36m(run pid=218)\u001b[0m == Status ==\n",
      "\u001b[2m\u001b[36m(run pid=218)\u001b[0m Current time: 2022-10-16 13:01:24 (running for 00:00:27.71)\n",
      "\u001b[2m\u001b[36m(run pid=218)\u001b[0m Memory usage on this node: 5.6/30.9 GiB\n",
      "\u001b[2m\u001b[36m(run pid=218)\u001b[0m Using FIFO scheduling algorithm.\n",
      "\u001b[2m\u001b[36m(run pid=218)\u001b[0m Resources requested: 3.0/3 CPUs, 0/0 GPUs, 0.0/7.86 GiB heap, 0.0/3.54 GiB objects\n",
      "\u001b[2m\u001b[36m(run pid=218)\u001b[0m Current best trial: 3eda2_00002 with train-rmse=0.924104 and parameters={'tree_method': 'approx', 'objective': 'reg:squarederror', 'eval_metric': 'rmse', 'eta': 0.08800498336835186, 'max_depth': 8, 'nthread': 1, 'n_jobs': 1}\n",
      "\u001b[2m\u001b[36m(run pid=218)\u001b[0m Result logdir: /domino/datasets/local/Ray-Tutorial/ray_results/my_trainer_2022-10-16_13-00-55\n",
      "\u001b[2m\u001b[36m(run pid=218)\u001b[0m Number of trials: 4/4 (1 RUNNING, 3 TERMINATED)\n",
      "\u001b[2m\u001b[36m(run pid=218)\u001b[0m +------------------------+------------+-----------------+-------------+-------------+--------+------------------+--------------+\n",
      "\u001b[2m\u001b[36m(run pid=218)\u001b[0m | Trial name             | status     | loc             |         eta |   max_depth |   iter |   total time (s) |   train-rmse |\n",
      "\u001b[2m\u001b[36m(run pid=218)\u001b[0m |------------------------+------------+-----------------+-------------+-------------+--------+------------------+--------------|\n",
      "\u001b[2m\u001b[36m(run pid=218)\u001b[0m | my_trainer_3eda2_00003 | RUNNING    | 10.0.50.190:278 | 0.0200759   |           8 |      7 |          4.34551 |     1.71971  |\n",
      "\u001b[2m\u001b[36m(run pid=218)\u001b[0m | my_trainer_3eda2_00000 | TERMINATED | 10.0.50.190:77  | 0.000673909 |           8 |     10 |          5.07931 |     1.93818  |\n",
      "\u001b[2m\u001b[36m(run pid=218)\u001b[0m | my_trainer_3eda2_00001 | TERMINATED | 10.0.50.190:144 | 0.0236393   |           3 |     10 |          5.0276  |     1.60928  |\n",
      "\u001b[2m\u001b[36m(run pid=218)\u001b[0m | my_trainer_3eda2_00002 | TERMINATED | 10.0.50.190:183 | 0.088005    |           8 |     10 |          3.95163 |     0.924104 |\n",
      "\u001b[2m\u001b[36m(run pid=218)\u001b[0m +------------------------+------------+-----------------+-------------+-------------+--------+------------------+--------------+\n",
      "\u001b[2m\u001b[36m(run pid=218)\u001b[0m \n",
      "\u001b[2m\u001b[36m(run pid=218)\u001b[0m \n",
      "\u001b[2m\u001b[36m(run pid=218)\u001b[0m Result for my_trainer_3eda2_00003:\n",
      "\u001b[2m\u001b[36m(run pid=218)\u001b[0m   date: 2022-10-16_13-01-24\n",
      "\u001b[2m\u001b[36m(run pid=218)\u001b[0m   done: true\n",
      "\u001b[2m\u001b[36m(run pid=218)\u001b[0m   experiment_id: 6f2ac78fc4784f9d8552c0c185ab4f96\n",
      "\u001b[2m\u001b[36m(run pid=218)\u001b[0m   experiment_tag: 3_eta=0.020076,max_depth=8\n",
      "\u001b[2m\u001b[36m(run pid=218)\u001b[0m   hostname: ray-634c6195c533470d0466a970-ray-worker-0\n",
      "\u001b[2m\u001b[36m(run pid=218)\u001b[0m   iterations_since_restore: 10\n",
      "\u001b[2m\u001b[36m(run pid=218)\u001b[0m   node_ip: 10.0.50.190\n",
      "\u001b[2m\u001b[36m(run pid=218)\u001b[0m   pid: 278\n",
      "\u001b[2m\u001b[36m(run pid=218)\u001b[0m   time_since_restore: 4.479073524475098\n",
      "\u001b[2m\u001b[36m(run pid=218)\u001b[0m   time_this_iter_s: 0.12519073486328125\n",
      "\u001b[2m\u001b[36m(run pid=218)\u001b[0m   time_total_s: 4.479073524475098\n",
      "\u001b[2m\u001b[36m(run pid=218)\u001b[0m   timestamp: 1665950484\n",
      "\u001b[2m\u001b[36m(run pid=218)\u001b[0m   timesteps_since_restore: 0\n",
      "\u001b[2m\u001b[36m(run pid=218)\u001b[0m   train-rmse: 1.631126\n",
      "\u001b[2m\u001b[36m(run pid=218)\u001b[0m   training_iteration: 10\n",
      "\u001b[2m\u001b[36m(run pid=218)\u001b[0m   trial_id: 3eda2_00003\n",
      "\u001b[2m\u001b[36m(run pid=218)\u001b[0m   \n"
     ]
    },
    {
     "name": "stderr",
     "output_type": "stream",
     "text": [
      "\u001b[2m\u001b[36m(ImplicitFunc pid=278, ip=10.0.50.190)\u001b[0m 2022-10-16 13:01:24,545\tINFO main.py:1450 -- [RayXGBoost] Finished XGBoost training on training data with total N=14,448 in 4.49 seconds (1.20 pure XGBoost training time).\n",
      "\u001b[2m\u001b[36m(run pid=218)\u001b[0m 2022-10-16 13:01:24,706\tINFO tune.py:626 -- Total run time: 28.89 seconds (27.88 seconds for the tuning loop).\n"
     ]
    },
    {
     "name": "stdout",
     "output_type": "stream",
     "text": [
      "\u001b[2m\u001b[36m(run pid=218)\u001b[0m == Status ==\n",
      "\u001b[2m\u001b[36m(run pid=218)\u001b[0m Current time: 2022-10-16 13:01:24 (running for 00:00:27.91)\n",
      "\u001b[2m\u001b[36m(run pid=218)\u001b[0m Memory usage on this node: 5.2/30.9 GiB\n",
      "\u001b[2m\u001b[36m(run pid=218)\u001b[0m Using FIFO scheduling algorithm.\n",
      "\u001b[2m\u001b[36m(run pid=218)\u001b[0m Resources requested: 0/3 CPUs, 0/0 GPUs, 0.0/7.86 GiB heap, 0.0/3.54 GiB objects\n",
      "\u001b[2m\u001b[36m(run pid=218)\u001b[0m Current best trial: 3eda2_00002 with train-rmse=0.924104 and parameters={'tree_method': 'approx', 'objective': 'reg:squarederror', 'eval_metric': 'rmse', 'eta': 0.08800498336835186, 'max_depth': 8, 'nthread': 1, 'n_jobs': 1}\n",
      "\u001b[2m\u001b[36m(run pid=218)\u001b[0m Result logdir: /domino/datasets/local/Ray-Tutorial/ray_results/my_trainer_2022-10-16_13-00-55\n",
      "\u001b[2m\u001b[36m(run pid=218)\u001b[0m Number of trials: 4/4 (4 TERMINATED)\n",
      "\u001b[2m\u001b[36m(run pid=218)\u001b[0m +------------------------+------------+-----------------+-------------+-------------+--------+------------------+--------------+\n",
      "\u001b[2m\u001b[36m(run pid=218)\u001b[0m | Trial name             | status     | loc             |         eta |   max_depth |   iter |   total time (s) |   train-rmse |\n",
      "\u001b[2m\u001b[36m(run pid=218)\u001b[0m |------------------------+------------+-----------------+-------------+-------------+--------+------------------+--------------|\n",
      "\u001b[2m\u001b[36m(run pid=218)\u001b[0m | my_trainer_3eda2_00000 | TERMINATED | 10.0.50.190:77  | 0.000673909 |           8 |     10 |          5.07931 |     1.93818  |\n",
      "\u001b[2m\u001b[36m(run pid=218)\u001b[0m | my_trainer_3eda2_00001 | TERMINATED | 10.0.50.190:144 | 0.0236393   |           3 |     10 |          5.0276  |     1.60928  |\n",
      "\u001b[2m\u001b[36m(run pid=218)\u001b[0m | my_trainer_3eda2_00002 | TERMINATED | 10.0.50.190:183 | 0.088005    |           8 |     10 |          3.95163 |     0.924104 |\n",
      "\u001b[2m\u001b[36m(run pid=218)\u001b[0m | my_trainer_3eda2_00003 | TERMINATED | 10.0.50.190:278 | 0.0200759   |           8 |     10 |          4.47907 |     1.63113  |\n",
      "\u001b[2m\u001b[36m(run pid=218)\u001b[0m +------------------------+------------+-----------------+-------------+-------------+--------+------------------+--------------+\n",
      "\u001b[2m\u001b[36m(run pid=218)\u001b[0m \n",
      "\u001b[2m\u001b[36m(run pid=218)\u001b[0m \n"
     ]
    }
   ],
   "source": [
    "# Reference the xgboost parameters link again here!\n",
    "\n",
    "def my_trainer(config):\n",
    "    evals_result = {}\n",
    "    bst = xgbr.train(\n",
    "        params=config,\n",
    "        dtrain=dtrain, # This is some spooky global variable stuff, reusing my dtrain from previous sections\n",
    "        evals_result=evals_result,\n",
    "        evals=[(dtrain, \"train\")], # oohhh is this necessary to get \"train-rmse\" coming out correctly??\n",
    "        ray_params=ray_param # ok this seems wrong to me, why give the same resources here and to Tune?\n",
    "    )\n",
    "    # xgbr.train claims it already knows how to report back to Ray so I guess this is it?\n",
    "    #bst.save_model(\"model.xgb\")\n",
    "\n",
    "config = {\n",
    "    \"tree_method\": \"approx\",\n",
    "    \"objective\": \"reg:squarederror\",\n",
    "    \"eval_metric\": \"rmse\",\n",
    "    \"eta\": tune.loguniform(1e-4, 1e-1),\n",
    "    \"max_depth\": tune.randint(1, 9)\n",
    "}\n",
    "\n",
    "analysis = tune.run(\n",
    "    my_trainer,\n",
    "    config=config,\n",
    "    local_dir=tune_results_dir, # gotta change this to avoid permission denied on ~/ray_results\n",
    "    sync_config=tune.SyncConfig(syncer=None), # gotta change this to avoid weird \"getpwuid(): uid not found: 12574\"\n",
    "    metric=\"train-rmse\",\n",
    "    mode=\"min\",\n",
    "    num_samples=4,\n",
    "    resources_per_trial=ray_param.get_tune_resources()\n",
    ")"
   ]
  },
  {
   "cell_type": "code",
   "execution_count": 17,
   "id": "f94476f7-88c4-4082-9699-cb0c5f986f55",
   "metadata": {},
   "outputs": [
    {
     "data": {
      "text/plain": [
       "{'tree_method': 'approx',\n",
       " 'objective': 'reg:squarederror',\n",
       " 'eval_metric': 'rmse',\n",
       " 'eta': 0.08800498336835186,\n",
       " 'max_depth': 8}"
      ]
     },
     "execution_count": 17,
     "metadata": {},
     "output_type": "execute_result"
    }
   ],
   "source": [
    "analysis.best_config"
   ]
  },
  {
   "cell_type": "code",
   "execution_count": 18,
   "id": "dc797228-bc86-4db2-8ccf-a00c997720ab",
   "metadata": {},
   "outputs": [
    {
     "data": {
      "text/plain": [
       "{'train-rmse': 0.924104,\n",
       " 'time_this_iter_s': 0.007105350494384766,\n",
       " 'done': True,\n",
       " 'timesteps_total': None,\n",
       " 'episodes_total': None,\n",
       " 'training_iteration': 10,\n",
       " 'trial_id': '3eda2_00002',\n",
       " 'experiment_id': 'c1614493f6114fc69afc8a1c8f94c831',\n",
       " 'date': '2022-10-16_13-01-18',\n",
       " 'timestamp': 1665950478,\n",
       " 'time_total_s': 3.951627254486084,\n",
       " 'pid': 183,\n",
       " 'hostname': 'ray-634c6195c533470d0466a970-ray-worker-0',\n",
       " 'node_ip': '10.0.50.190',\n",
       " 'config': {'tree_method': 'approx',\n",
       "  'objective': 'reg:squarederror',\n",
       "  'eval_metric': 'rmse',\n",
       "  'eta': 0.08800498336835186,\n",
       "  'max_depth': 8,\n",
       "  'nthread': 1,\n",
       "  'n_jobs': 1},\n",
       " 'time_since_restore': 3.951627254486084,\n",
       " 'timesteps_since_restore': 0,\n",
       " 'iterations_since_restore': 10,\n",
       " 'experiment_tag': '2_eta=0.088005,max_depth=8'}"
      ]
     },
     "execution_count": 18,
     "metadata": {},
     "output_type": "execute_result"
    }
   ],
   "source": [
    "analysis.best_result"
   ]
  },
  {
   "cell_type": "code",
   "execution_count": null,
   "id": "1dec3dee-b76c-4ff0-b35a-c76641043e0a",
   "metadata": {},
   "outputs": [],
   "source": []
  }
 ],
 "metadata": {
  "kernelspec": {
   "display_name": "Python 3 (ipykernel)",
   "language": "python",
   "name": "python3"
  },
  "language_info": {
   "codemirror_mode": {
    "name": "ipython",
    "version": 3
   },
   "file_extension": ".py",
   "mimetype": "text/x-python",
   "name": "python",
   "nbconvert_exporter": "python",
   "pygments_lexer": "ipython3",
   "version": "3.8.12"
  }
 },
 "nbformat": 4,
 "nbformat_minor": 5
}
