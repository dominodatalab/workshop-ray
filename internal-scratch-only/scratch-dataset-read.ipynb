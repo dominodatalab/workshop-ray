{
 "cells": [
  {
   "cell_type": "code",
   "execution_count": 1,
   "id": "daf26d27-da4c-42ff-aeb6-b6e28b5993dd",
   "metadata": {},
   "outputs": [],
   "source": [
    "import ray\n",
    "import os\n",
    "\n",
    "if ray.is_initialized() == False:\n",
    "    service_host = os.environ[\"RAY_HEAD_SERVICE_HOST\"]\n",
    "    service_port = os.environ[\"RAY_HEAD_SERVICE_PORT\"]\n",
    "    ray.init(f\"ray://{service_host}:{service_port}\")"
   ]
  },
  {
   "cell_type": "code",
   "execution_count": 18,
   "id": "e2d483e8-f42a-438a-9338-35c3fe41ae60",
   "metadata": {},
   "outputs": [],
   "source": [
    "def do_stuff(filename):\n",
    "    foundit = os.path.isfile(filename)\n",
    "    print(f\"Did I find it? {foundit}\")\n",
    "    return foundit"
   ]
  },
  {
   "cell_type": "code",
   "execution_count": 19,
   "id": "2c379a8c-6342-43f9-ad0d-6f0153221c65",
   "metadata": {},
   "outputs": [
    {
     "name": "stdout",
     "output_type": "stream",
     "text": [
      "Did I find it? True\n"
     ]
    },
    {
     "data": {
      "text/plain": [
       "True"
      ]
     },
     "execution_count": 19,
     "metadata": {},
     "output_type": "execute_result"
    }
   ],
   "source": [
    "do_stuff(\"/domino/datasets/local/Ray-Tutorial/goldilocks.parquet\")"
   ]
  },
  {
   "cell_type": "code",
   "execution_count": 20,
   "id": "701d12c1-916f-4025-80d0-03b2f0736489",
   "metadata": {},
   "outputs": [],
   "source": [
    "@ray.remote\n",
    "def do_stuff_on_ray(filename):\n",
    "    foundit = os.path.isfile(filename)\n",
    "    print(f\"Did I find it? {foundit}\")\n",
    "    return foundit"
   ]
  },
  {
   "cell_type": "code",
   "execution_count": 21,
   "id": "ddd1af05-b30c-4ded-be74-5bb31aadb4b7",
   "metadata": {},
   "outputs": [
    {
     "data": {
      "text/plain": [
       "True"
      ]
     },
     "execution_count": 21,
     "metadata": {},
     "output_type": "execute_result"
    },
    {
     "name": "stdout",
     "output_type": "stream",
     "text": [
      "\u001b[2m\u001b[36m(do_stuff_on_ray pid=221)\u001b[0m Did I find it? True\n"
     ]
    }
   ],
   "source": [
    "ray.get(do_stuff_on_ray.remote(\"/domino/datasets/local/Ray-Tutorial/goldilocks.parquet\"))"
   ]
  },
  {
   "cell_type": "code",
   "execution_count": 22,
   "id": "03fc93cb-7074-4064-a665-3d23de502f7a",
   "metadata": {},
   "outputs": [],
   "source": [
    "def do_other_stuff(foldername, filename):\n",
    "    for r, d, f in os.walk(foldername):\n",
    "        if filename in f:\n",
    "            print(\"Found it!\")"
   ]
  },
  {
   "cell_type": "code",
   "execution_count": 23,
   "id": "bf5f39a8-fc32-4d3a-8bb0-750b211a584a",
   "metadata": {},
   "outputs": [
    {
     "name": "stdout",
     "output_type": "stream",
     "text": [
      "Found it!\n"
     ]
    }
   ],
   "source": [
    "do_other_stuff(\"/domino/datasets/local/Ray-Tutorial\", \"goldilocks.parquet\")"
   ]
  },
  {
   "cell_type": "code",
   "execution_count": 24,
   "id": "83dc3e83-4bbf-4a55-9528-1dd34c30bc4b",
   "metadata": {},
   "outputs": [],
   "source": [
    "@ray.remote\n",
    "def do_other_stuff_on_ray(foldername, filename):\n",
    "    for r, d, f in os.walk(foldername):\n",
    "        if filename in f:\n",
    "            print(\"Found it!\")"
   ]
  },
  {
   "cell_type": "code",
   "execution_count": 26,
   "id": "27889da4-e1bf-4bf2-aebe-329d73e436ab",
   "metadata": {},
   "outputs": [
    {
     "name": "stdout",
     "output_type": "stream",
     "text": [
      "\u001b[2m\u001b[36m(do_other_stuff_on_ray pid=221)\u001b[0m Found it!\n"
     ]
    }
   ],
   "source": [
    "ray.get(do_other_stuff_on_ray.remote(\"/domino/datasets/local/Ray-Tutorial\", \"goldilocks.parquet\"))"
   ]
  },
  {
   "cell_type": "code",
   "execution_count": null,
   "id": "5bc85801-9cc3-40e8-a68f-63c4e6b5eec0",
   "metadata": {},
   "outputs": [],
   "source": []
  }
 ],
 "metadata": {
  "kernelspec": {
   "display_name": "Python 3 (ipykernel)",
   "language": "python",
   "name": "python3"
  },
  "language_info": {
   "codemirror_mode": {
    "name": "ipython",
    "version": 3
   },
   "file_extension": ".py",
   "mimetype": "text/x-python",
   "name": "python",
   "nbconvert_exporter": "python",
   "pygments_lexer": "ipython3",
   "version": "3.8.12"
  }
 },
 "nbformat": 4,
 "nbformat_minor": 5
}
