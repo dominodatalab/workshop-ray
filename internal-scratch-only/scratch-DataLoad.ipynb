{
 "cells": [
  {
   "cell_type": "markdown",
   "id": "fb37dda2-9b5e-4ecd-831b-c40bbc21713c",
   "metadata": {},
   "source": [
    "# Experimentation and troubleshooting for Dan\n",
    "\n",
    "Any important learnings should get documented/folded into the tutorial somehow!"
   ]
  },
  {
   "cell_type": "code",
   "execution_count": null,
   "id": "7abf4998-5cc6-4c8e-9a92-d9dc60518493",
   "metadata": {},
   "outputs": [],
   "source": [
    "#ray.shutdown()"
   ]
  },
  {
   "cell_type": "code",
   "execution_count": 1,
   "id": "47a7a08b-0f1e-4772-9b36-d4e08afbc5ec",
   "metadata": {},
   "outputs": [],
   "source": [
    "import ray\n",
    "import os\n",
    "\n",
    "# os.environ['PROTOCOL_BUFFERS_PYTHON_IMPLEMENTATION']='python'\n",
    "\n",
    "if ray.is_initialized() == False:\n",
    "    service_host = os.environ[\"RAY_HEAD_SERVICE_HOST\"]\n",
    "    service_port = os.environ[\"RAY_HEAD_SERVICE_PORT\"]\n",
    "    ray.init(f\"ray://{service_host}:{service_port}\")"
   ]
  },
  {
   "cell_type": "code",
   "execution_count": 2,
   "id": "d9055c06-24b4-485f-b196-a367e7bce516",
   "metadata": {},
   "outputs": [],
   "source": [
    "import numpy as np\n",
    "import pandas as pd\n",
    "import modin.pandas as mpd\n",
    "import pyarrow.parquet as pq\n",
    "import pyarrow as pa"
   ]
  },
  {
   "cell_type": "code",
   "execution_count": 3,
   "id": "bba7d5de-f014-449d-a0b2-f30162542bb2",
   "metadata": {},
   "outputs": [],
   "source": [
    "# Generate some dummy data following Ben's example\n",
    "default_dataset_path = f\"/domino/datasets/local/{os.environ['DOMINO_PROJECT_NAME']}\"\n",
    "\n",
    "def generate_dummy_data(n_rows, n_columns, name):\n",
    "    dummy_file_path = os.path.join(default_dataset_path, f\"{name}.parquet\")\n",
    "    arr = np.random.standard_normal((n_rows, n_columns))\n",
    "    df = pd.DataFrame(arr, columns = [str(i) for i in range(n_columns)])\n",
    "    df.to_parquet(dummy_file_path)\n",
    "    size_gib = os.path.getsize(dummy_file_path)/(1024*1024*1024)\n",
    "    print(f\"With {n_rows} rows and {n_columns} columns the new file is {size_gib} GiB on disk\")\n",
    "    return dummy_file_path"
   ]
  },
  {
   "cell_type": "markdown",
   "id": "062fb47d-adc8-40eb-865b-f78b61149d95",
   "metadata": {},
   "source": [
    "### Super small data\n",
    "Output from the first cell when I actually ran it:\n",
    "```\n",
    "With 50000 rows and 2 columns the new file is 0.0009336844086647034 GiB on disk\n",
    "```"
   ]
  },
  {
   "cell_type": "code",
   "execution_count": 4,
   "id": "a6675955-d9fb-49e0-adbb-1bf5147efe23",
   "metadata": {},
   "outputs": [],
   "source": [
    "# No fancy way to save my \"inventory\" of dummy files for future runs yet\n",
    "#smallest_file = generate_dummy_data(5*10**4, 2, \"smallest\")"
   ]
  },
  {
   "cell_type": "code",
   "execution_count": 5,
   "id": "fc469526-7b13-4e7f-bb33-01338de50b1c",
   "metadata": {},
   "outputs": [],
   "source": [
    "smallest_file = os.path.join(default_dataset_path, \"smallest.parquet\")"
   ]
  },
  {
   "cell_type": "markdown",
   "id": "73ba8d62-54f6-4258-b549-52664c8de6ae",
   "metadata": {},
   "source": [
    "#### Try with ray data"
   ]
  },
  {
   "cell_type": "code",
   "execution_count": 6,
   "id": "79762c48-a893-44c4-a755-a27b68faa6cb",
   "metadata": {},
   "outputs": [],
   "source": [
    "ds = ray.data.read_parquet(smallest_file)"
   ]
  },
  {
   "cell_type": "code",
   "execution_count": 7,
   "id": "bf0da8eb-d27c-4e51-9d2e-913a40b7d311",
   "metadata": {},
   "outputs": [
    {
     "name": "stdout",
     "output_type": "stream",
     "text": [
      "{'0': -0.8455730423087089, '1': -0.23197710872317917}\n",
      "{'0': 1.57761716047386, '1': 0.2675177338719423}\n",
      "{'0': -0.8469077067951065, '1': 0.465946115922862}\n"
     ]
    }
   ],
   "source": [
    "ds.show(3)"
   ]
  },
  {
   "cell_type": "code",
   "execution_count": 8,
   "id": "08789973-a92b-4f25-a327-22e7ceb9eb7b",
   "metadata": {},
   "outputs": [
    {
     "name": "stderr",
     "output_type": "stream",
     "text": [
      "Map Progress: 100%|██████████| 1/1 [00:00<00:00,  4.82it/s]\n"
     ]
    }
   ],
   "source": [
    "def dummy_transform_batch(t: pa.Table) -> pd.DataFrame:\n",
    "    return t.to_pandas().sum(axis=1).to_frame()\n",
    "\n",
    "ds2 = ds.map_batches(dummy_transform_batch)"
   ]
  },
  {
   "cell_type": "code",
   "execution_count": 9,
   "id": "b05600fa-c354-4fb4-91a9-1d4ebd430f7a",
   "metadata": {},
   "outputs": [
    {
     "name": "stdout",
     "output_type": "stream",
     "text": [
      "{'0': -1.0775501510318881}\n",
      "{'0': 1.8451348943458024}\n",
      "{'0': -0.3809615908722445}\n"
     ]
    }
   ],
   "source": [
    "ds2.show(3)"
   ]
  },
  {
   "cell_type": "markdown",
   "id": "d9a93ab9-8a5b-494c-9f78-674889b89054",
   "metadata": {},
   "source": [
    "#### Try with Modin"
   ]
  },
  {
   "cell_type": "code",
   "execution_count": 10,
   "id": "976477fa-0d63-41a4-99a3-d6da55ec8a9d",
   "metadata": {},
   "outputs": [],
   "source": [
    "mdf = mpd.read_parquet(smallest_file)"
   ]
  },
  {
   "cell_type": "code",
   "execution_count": 11,
   "id": "b40071d1-ed21-4d9e-9358-701d29e3796c",
   "metadata": {},
   "outputs": [
    {
     "data": {
      "text/html": [
       "<div>\n",
       "<style scoped>\n",
       "    .dataframe tbody tr th:only-of-type {\n",
       "        vertical-align: middle;\n",
       "    }\n",
       "\n",
       "    .dataframe tbody tr th {\n",
       "        vertical-align: top;\n",
       "    }\n",
       "\n",
       "    .dataframe thead th {\n",
       "        text-align: right;\n",
       "    }\n",
       "</style>\n",
       "<table border=\"1\" class=\"dataframe\">\n",
       "  <thead>\n",
       "    <tr style=\"text-align: right;\">\n",
       "      <th></th>\n",
       "      <th>0</th>\n",
       "      <th>1</th>\n",
       "    </tr>\n",
       "  </thead>\n",
       "  <tbody>\n",
       "    <tr>\n",
       "      <th>0</th>\n",
       "      <td>-0.845573</td>\n",
       "      <td>-0.231977</td>\n",
       "    </tr>\n",
       "    <tr>\n",
       "      <th>1</th>\n",
       "      <td>1.577617</td>\n",
       "      <td>0.267518</td>\n",
       "    </tr>\n",
       "    <tr>\n",
       "      <th>2</th>\n",
       "      <td>-0.846908</td>\n",
       "      <td>0.465946</td>\n",
       "    </tr>\n",
       "  </tbody>\n",
       "</table>\n",
       "</div>"
      ],
      "text/plain": [
       "          0         1\n",
       "0 -0.845573 -0.231977\n",
       "1  1.577617  0.267518\n",
       "2 -0.846908  0.465946"
      ]
     },
     "execution_count": 11,
     "metadata": {},
     "output_type": "execute_result"
    }
   ],
   "source": [
    "mdf.head(3)"
   ]
  },
  {
   "cell_type": "code",
   "execution_count": 12,
   "id": "121c8f61-3ec3-4038-a48e-129641182532",
   "metadata": {},
   "outputs": [],
   "source": [
    "mdf2 = mdf.sum(axis=1).to_frame()"
   ]
  },
  {
   "cell_type": "code",
   "execution_count": 13,
   "id": "86554e2f-8b26-4473-852a-c36aacc761e4",
   "metadata": {},
   "outputs": [
    {
     "data": {
      "text/html": [
       "<div>\n",
       "<style scoped>\n",
       "    .dataframe tbody tr th:only-of-type {\n",
       "        vertical-align: middle;\n",
       "    }\n",
       "\n",
       "    .dataframe tbody tr th {\n",
       "        vertical-align: top;\n",
       "    }\n",
       "\n",
       "    .dataframe thead th {\n",
       "        text-align: right;\n",
       "    }\n",
       "</style>\n",
       "<table border=\"1\" class=\"dataframe\">\n",
       "  <thead>\n",
       "    <tr style=\"text-align: right;\">\n",
       "      <th></th>\n",
       "      <th>0</th>\n",
       "    </tr>\n",
       "  </thead>\n",
       "  <tbody>\n",
       "    <tr>\n",
       "      <th>0</th>\n",
       "      <td>-1.077550</td>\n",
       "    </tr>\n",
       "    <tr>\n",
       "      <th>1</th>\n",
       "      <td>1.845135</td>\n",
       "    </tr>\n",
       "    <tr>\n",
       "      <th>2</th>\n",
       "      <td>-0.380962</td>\n",
       "    </tr>\n",
       "  </tbody>\n",
       "</table>\n",
       "</div>"
      ],
      "text/plain": [
       "          0\n",
       "0 -1.077550\n",
       "1  1.845135\n",
       "2 -0.380962"
      ]
     },
     "execution_count": 13,
     "metadata": {},
     "output_type": "execute_result"
    }
   ],
   "source": [
    "mdf2.head(3)"
   ]
  },
  {
   "cell_type": "markdown",
   "id": "3584f51f-94db-408b-872c-76d6ea22223b",
   "metadata": {},
   "source": [
    "#### Try with pyarrow"
   ]
  },
  {
   "cell_type": "code",
   "execution_count": 14,
   "id": "8791cd78-ce15-4a79-8063-bf07a254cbb8",
   "metadata": {},
   "outputs": [],
   "source": [
    "pqt = pq.read_table(smallest_file)"
   ]
  },
  {
   "cell_type": "code",
   "execution_count": 15,
   "id": "f83d5cc9-f2e7-47b2-b7bd-edc7c967dad5",
   "metadata": {},
   "outputs": [],
   "source": [
    "pqdf = pqt.to_pandas()"
   ]
  },
  {
   "cell_type": "code",
   "execution_count": 16,
   "id": "d13cb296-ebf0-4d83-ac0b-8cb0a693f67d",
   "metadata": {},
   "outputs": [
    {
     "data": {
      "text/html": [
       "<div>\n",
       "<style scoped>\n",
       "    .dataframe tbody tr th:only-of-type {\n",
       "        vertical-align: middle;\n",
       "    }\n",
       "\n",
       "    .dataframe tbody tr th {\n",
       "        vertical-align: top;\n",
       "    }\n",
       "\n",
       "    .dataframe thead th {\n",
       "        text-align: right;\n",
       "    }\n",
       "</style>\n",
       "<table border=\"1\" class=\"dataframe\">\n",
       "  <thead>\n",
       "    <tr style=\"text-align: right;\">\n",
       "      <th></th>\n",
       "      <th>0</th>\n",
       "      <th>1</th>\n",
       "    </tr>\n",
       "  </thead>\n",
       "  <tbody>\n",
       "    <tr>\n",
       "      <th>0</th>\n",
       "      <td>-0.845573</td>\n",
       "      <td>-0.231977</td>\n",
       "    </tr>\n",
       "    <tr>\n",
       "      <th>1</th>\n",
       "      <td>1.577617</td>\n",
       "      <td>0.267518</td>\n",
       "    </tr>\n",
       "    <tr>\n",
       "      <th>2</th>\n",
       "      <td>-0.846908</td>\n",
       "      <td>0.465946</td>\n",
       "    </tr>\n",
       "  </tbody>\n",
       "</table>\n",
       "</div>"
      ],
      "text/plain": [
       "          0         1\n",
       "0 -0.845573 -0.231977\n",
       "1  1.577617  0.267518\n",
       "2 -0.846908  0.465946"
      ]
     },
     "execution_count": 16,
     "metadata": {},
     "output_type": "execute_result"
    }
   ],
   "source": [
    "pqdf.head(3)"
   ]
  },
  {
   "cell_type": "code",
   "execution_count": 17,
   "id": "c14a5f7a-1d19-4d45-9fc7-9d8d8831b4e8",
   "metadata": {},
   "outputs": [],
   "source": [
    "pqdf2 = pqdf.sum(axis=1).to_frame()"
   ]
  },
  {
   "cell_type": "code",
   "execution_count": 18,
   "id": "80ef90e0-a3d1-4b66-847c-503870204c19",
   "metadata": {},
   "outputs": [
    {
     "data": {
      "text/html": [
       "<div>\n",
       "<style scoped>\n",
       "    .dataframe tbody tr th:only-of-type {\n",
       "        vertical-align: middle;\n",
       "    }\n",
       "\n",
       "    .dataframe tbody tr th {\n",
       "        vertical-align: top;\n",
       "    }\n",
       "\n",
       "    .dataframe thead th {\n",
       "        text-align: right;\n",
       "    }\n",
       "</style>\n",
       "<table border=\"1\" class=\"dataframe\">\n",
       "  <thead>\n",
       "    <tr style=\"text-align: right;\">\n",
       "      <th></th>\n",
       "      <th>0</th>\n",
       "    </tr>\n",
       "  </thead>\n",
       "  <tbody>\n",
       "    <tr>\n",
       "      <th>0</th>\n",
       "      <td>-1.077550</td>\n",
       "    </tr>\n",
       "    <tr>\n",
       "      <th>1</th>\n",
       "      <td>1.845135</td>\n",
       "    </tr>\n",
       "    <tr>\n",
       "      <th>2</th>\n",
       "      <td>-0.380962</td>\n",
       "    </tr>\n",
       "  </tbody>\n",
       "</table>\n",
       "</div>"
      ],
      "text/plain": [
       "          0\n",
       "0 -1.077550\n",
       "1  1.845135\n",
       "2 -0.380962"
      ]
     },
     "execution_count": 18,
     "metadata": {},
     "output_type": "execute_result"
    }
   ],
   "source": [
    "pqdf2.head(3)"
   ]
  },
  {
   "cell_type": "code",
   "execution_count": null,
   "id": "878cfe11-95cb-403f-b149-91e6cdc427e9",
   "metadata": {},
   "outputs": [],
   "source": []
  },
  {
   "cell_type": "markdown",
   "id": "0d9b896c-bfe1-4bd0-ab4e-090eaf917af0",
   "metadata": {},
   "source": [
    "### Smallish data\n",
    "Output from the first cell when I actually ran it:\n",
    "```\n",
    "With 500000 rows and 20 columns the new file is 0.0797198498621583 GiB on disk\n",
    "```"
   ]
  },
  {
   "cell_type": "code",
   "execution_count": 4,
   "id": "1b3d784f-d497-484e-82cd-e8386d62aa04",
   "metadata": {},
   "outputs": [
    {
     "name": "stdout",
     "output_type": "stream",
     "text": [
      "With 500000 rows and 20 columns the new file is 0.07971985079348087 GiB on disk\n"
     ]
    }
   ],
   "source": [
    "# No fancy way to save my \"inventory\" of dummy files for future runs yet\n",
    "#smallish_file = generate_dummy_data(5*10**5, 20, \"smallish\")"
   ]
  },
  {
   "cell_type": "code",
   "execution_count": 5,
   "id": "4750bdc2-7de7-4fc9-9c67-1130e7d5fa48",
   "metadata": {},
   "outputs": [],
   "source": [
    "smallish_file = os.path.join(default_dataset_path, \"smallish.parquet\")"
   ]
  },
  {
   "cell_type": "markdown",
   "id": "cc8bcaa7-9e39-432d-9f66-b539ca26ea6e",
   "metadata": {},
   "source": [
    "#### Try with ray data"
   ]
  },
  {
   "cell_type": "code",
   "execution_count": 6,
   "id": "36dd8fab-8fe2-4113-bbd6-68e5817e7a70",
   "metadata": {},
   "outputs": [],
   "source": [
    "ds = ray.data.read_parquet(smallish_file)"
   ]
  },
  {
   "cell_type": "code",
   "execution_count": 7,
   "id": "70f1bab2-2e80-4410-8fcc-c44c4f564b37",
   "metadata": {},
   "outputs": [
    {
     "name": "stdout",
     "output_type": "stream",
     "text": [
      "{'0': -0.6858277450841938, '1': -0.8967399942464025, '2': 1.5118259559221787, '3': -0.3045707242693841, '4': -0.08883015096473798, '5': -0.7973339363812424, '6': 0.9879107736937893, '7': 1.1198899511152156, '8': 0.6474586884068384, '9': 0.3484700545960988, '10': 0.7464934706681945, '11': -1.0705226111663273, '12': -0.3331889925060301, '13': -0.4273963997493709, '14': -0.20254530606073146, '15': -0.9165467006341906, '16': -1.029116484190101, '17': 0.4311535562076728, '18': 0.8211583048767542, '19': 0.895051761233368}\n",
      "{'0': 0.08011940033581648, '1': -2.0967639895546957, '2': 0.7819836159845024, '3': 1.1102997165910116, '4': 1.6944586039741485, '5': -0.2943824272050674, '6': 1.2227018429505547, '7': 0.2710947377399597, '8': -1.2160816525955218, '9': -0.8286494705257316, '10': 0.37416255426565037, '11': 0.05105107872403199, '12': 0.679997969929679, '13': 0.8369786928032972, '14': -0.4301666769043128, '15': 1.1321151018722833, '16': 1.0964944468617461, '17': 0.6075235338225544, '18': -0.779316800862966, '19': -2.061077650322483}\n",
      "{'0': -0.20005931868570256, '1': 0.7877169236717163, '2': 1.303923781419853, '3': 1.167606767223832, '4': -2.663147896810051, '5': -1.1002305958126444, '6': 0.6433402112530822, '7': -0.033565530602971134, '8': -0.1679956055887014, '9': -1.0081252022692953, '10': -1.3693258167898785, '11': 0.7479859957990851, '12': 1.9182632709500327, '13': -0.702239055006864, '14': -0.559031783308444, '15': -1.012586810074032, '16': -1.4260524291915713, '17': -1.4832143185961628, '18': 0.49300304576130544, '19': -1.6540088275550522}\n"
     ]
    }
   ],
   "source": [
    "ds.show(3)"
   ]
  },
  {
   "cell_type": "code",
   "execution_count": 8,
   "id": "d9bc1878-713f-4f54-b27c-d92b7bbd6c0d",
   "metadata": {},
   "outputs": [
    {
     "name": "stderr",
     "output_type": "stream",
     "text": [
      "Map Progress: 100%|██████████| 1/1 [00:00<00:00,  3.26it/s]\n"
     ]
    }
   ],
   "source": [
    "def dummy_transform_batch(t: pa.Table) -> pd.DataFrame:\n",
    "    return t.to_pandas().sum(axis=1).to_frame()\n",
    "\n",
    "ds2 = ds.map_batches(dummy_transform_batch)"
   ]
  },
  {
   "cell_type": "code",
   "execution_count": 9,
   "id": "56a98455-fd08-450c-80e4-c5774f4ba8d2",
   "metadata": {},
   "outputs": [
    {
     "name": "stdout",
     "output_type": "stream",
     "text": [
      "{'0': 0.7567934714673982}\n",
      "{'0': 2.232542627884457}\n",
      "{'0': -6.317743194212464}\n"
     ]
    }
   ],
   "source": [
    "ds2.show(3)"
   ]
  },
  {
   "cell_type": "markdown",
   "id": "5df50207-13a6-4b77-b428-0fe94cfcb309",
   "metadata": {},
   "source": [
    "#### Try with Modin"
   ]
  },
  {
   "cell_type": "code",
   "execution_count": 10,
   "id": "0dd33b43-59eb-4a54-a7d6-c020e7bd3404",
   "metadata": {},
   "outputs": [],
   "source": [
    "mdf = mpd.read_parquet(smallish_file)"
   ]
  },
  {
   "cell_type": "code",
   "execution_count": 11,
   "id": "c40f5255-6d11-43e3-af35-ffb6767ab953",
   "metadata": {},
   "outputs": [
    {
     "data": {
      "text/html": [
       "<div>\n",
       "<style scoped>\n",
       "    .dataframe tbody tr th:only-of-type {\n",
       "        vertical-align: middle;\n",
       "    }\n",
       "\n",
       "    .dataframe tbody tr th {\n",
       "        vertical-align: top;\n",
       "    }\n",
       "\n",
       "    .dataframe thead th {\n",
       "        text-align: right;\n",
       "    }\n",
       "</style>\n",
       "<table border=\"1\" class=\"dataframe\">\n",
       "  <thead>\n",
       "    <tr style=\"text-align: right;\">\n",
       "      <th></th>\n",
       "      <th>0</th>\n",
       "      <th>1</th>\n",
       "      <th>2</th>\n",
       "      <th>3</th>\n",
       "      <th>4</th>\n",
       "      <th>5</th>\n",
       "      <th>6</th>\n",
       "      <th>7</th>\n",
       "      <th>8</th>\n",
       "      <th>9</th>\n",
       "      <th>10</th>\n",
       "      <th>11</th>\n",
       "      <th>12</th>\n",
       "      <th>13</th>\n",
       "      <th>14</th>\n",
       "      <th>15</th>\n",
       "      <th>16</th>\n",
       "      <th>17</th>\n",
       "      <th>18</th>\n",
       "      <th>19</th>\n",
       "    </tr>\n",
       "  </thead>\n",
       "  <tbody>\n",
       "    <tr>\n",
       "      <th>0</th>\n",
       "      <td>-0.685828</td>\n",
       "      <td>-0.896740</td>\n",
       "      <td>1.511826</td>\n",
       "      <td>-0.304571</td>\n",
       "      <td>-0.088830</td>\n",
       "      <td>-0.797334</td>\n",
       "      <td>0.987911</td>\n",
       "      <td>1.119890</td>\n",
       "      <td>0.647459</td>\n",
       "      <td>0.348470</td>\n",
       "      <td>0.746493</td>\n",
       "      <td>-1.070523</td>\n",
       "      <td>-0.333189</td>\n",
       "      <td>-0.427396</td>\n",
       "      <td>-0.202545</td>\n",
       "      <td>-0.916547</td>\n",
       "      <td>-1.029116</td>\n",
       "      <td>0.431154</td>\n",
       "      <td>0.821158</td>\n",
       "      <td>0.895052</td>\n",
       "    </tr>\n",
       "    <tr>\n",
       "      <th>1</th>\n",
       "      <td>0.080119</td>\n",
       "      <td>-2.096764</td>\n",
       "      <td>0.781984</td>\n",
       "      <td>1.110300</td>\n",
       "      <td>1.694459</td>\n",
       "      <td>-0.294382</td>\n",
       "      <td>1.222702</td>\n",
       "      <td>0.271095</td>\n",
       "      <td>-1.216082</td>\n",
       "      <td>-0.828649</td>\n",
       "      <td>0.374163</td>\n",
       "      <td>0.051051</td>\n",
       "      <td>0.679998</td>\n",
       "      <td>0.836979</td>\n",
       "      <td>-0.430167</td>\n",
       "      <td>1.132115</td>\n",
       "      <td>1.096494</td>\n",
       "      <td>0.607524</td>\n",
       "      <td>-0.779317</td>\n",
       "      <td>-2.061078</td>\n",
       "    </tr>\n",
       "    <tr>\n",
       "      <th>2</th>\n",
       "      <td>-0.200059</td>\n",
       "      <td>0.787717</td>\n",
       "      <td>1.303924</td>\n",
       "      <td>1.167607</td>\n",
       "      <td>-2.663148</td>\n",
       "      <td>-1.100231</td>\n",
       "      <td>0.643340</td>\n",
       "      <td>-0.033566</td>\n",
       "      <td>-0.167996</td>\n",
       "      <td>-1.008125</td>\n",
       "      <td>-1.369326</td>\n",
       "      <td>0.747986</td>\n",
       "      <td>1.918263</td>\n",
       "      <td>-0.702239</td>\n",
       "      <td>-0.559032</td>\n",
       "      <td>-1.012587</td>\n",
       "      <td>-1.426052</td>\n",
       "      <td>-1.483214</td>\n",
       "      <td>0.493003</td>\n",
       "      <td>-1.654009</td>\n",
       "    </tr>\n",
       "  </tbody>\n",
       "</table>\n",
       "</div>"
      ],
      "text/plain": [
       "          0         1         2         3         4         5         6  \\\n",
       "0 -0.685828 -0.896740  1.511826 -0.304571 -0.088830 -0.797334  0.987911   \n",
       "1  0.080119 -2.096764  0.781984  1.110300  1.694459 -0.294382  1.222702   \n",
       "2 -0.200059  0.787717  1.303924  1.167607 -2.663148 -1.100231  0.643340   \n",
       "\n",
       "          7         8         9        10        11        12        13  \\\n",
       "0  1.119890  0.647459  0.348470  0.746493 -1.070523 -0.333189 -0.427396   \n",
       "1  0.271095 -1.216082 -0.828649  0.374163  0.051051  0.679998  0.836979   \n",
       "2 -0.033566 -0.167996 -1.008125 -1.369326  0.747986  1.918263 -0.702239   \n",
       "\n",
       "         14        15        16        17        18        19  \n",
       "0 -0.202545 -0.916547 -1.029116  0.431154  0.821158  0.895052  \n",
       "1 -0.430167  1.132115  1.096494  0.607524 -0.779317 -2.061078  \n",
       "2 -0.559032 -1.012587 -1.426052 -1.483214  0.493003 -1.654009  "
      ]
     },
     "execution_count": 11,
     "metadata": {},
     "output_type": "execute_result"
    }
   ],
   "source": [
    "mdf.head(3)"
   ]
  },
  {
   "cell_type": "code",
   "execution_count": 12,
   "id": "ea4b76fe-9abc-4319-ba63-5584606f887b",
   "metadata": {},
   "outputs": [],
   "source": [
    "mdf2 = mdf.sum(axis=1).to_frame()"
   ]
  },
  {
   "cell_type": "code",
   "execution_count": 13,
   "id": "ba2ca761-71e9-4a6b-a285-df173cf0befc",
   "metadata": {},
   "outputs": [
    {
     "data": {
      "text/html": [
       "<div>\n",
       "<style scoped>\n",
       "    .dataframe tbody tr th:only-of-type {\n",
       "        vertical-align: middle;\n",
       "    }\n",
       "\n",
       "    .dataframe tbody tr th {\n",
       "        vertical-align: top;\n",
       "    }\n",
       "\n",
       "    .dataframe thead th {\n",
       "        text-align: right;\n",
       "    }\n",
       "</style>\n",
       "<table border=\"1\" class=\"dataframe\">\n",
       "  <thead>\n",
       "    <tr style=\"text-align: right;\">\n",
       "      <th></th>\n",
       "      <th>0</th>\n",
       "    </tr>\n",
       "  </thead>\n",
       "  <tbody>\n",
       "    <tr>\n",
       "      <th>0</th>\n",
       "      <td>0.756793</td>\n",
       "    </tr>\n",
       "    <tr>\n",
       "      <th>1</th>\n",
       "      <td>2.232543</td>\n",
       "    </tr>\n",
       "    <tr>\n",
       "      <th>2</th>\n",
       "      <td>-6.317743</td>\n",
       "    </tr>\n",
       "  </tbody>\n",
       "</table>\n",
       "</div>"
      ],
      "text/plain": [
       "          0\n",
       "0  0.756793\n",
       "1  2.232543\n",
       "2 -6.317743"
      ]
     },
     "execution_count": 13,
     "metadata": {},
     "output_type": "execute_result"
    }
   ],
   "source": [
    "mdf2.head(3)"
   ]
  },
  {
   "cell_type": "markdown",
   "id": "7f977fb3-b3a8-4723-bcbc-4f0eb59de42d",
   "metadata": {},
   "source": [
    "#### Findings for smallish:\n",
    "* Baseline is a single worker (the head worker) at 96 MiB RAM before starting\n",
    "* Ray Data as follows:\n",
    "    * As of `ray.data.read_parquet` I get a second worker at 96 MiB, plus the original goes up to 218 MiB, and Plasma (total only) goes up to 77 MiB. This happens as soon as it reads, the subsequent show didn't seem to change anything.\n",
    "    * Sum operation causes Plasma to go up to 81 MiB.\n",
    "* Modin as follows:\n",
    "    * As of `mpd.read_parquet` I get a third worker at 96 MiB, plus the original goes up from 218 to 358 MiB, and Plasma goes up from 77 to 157 MiB.\n",
    "    * Sum operation gives me a fourth worker at 70 MiB, then all four immediately go up by between 20 and 40 MiB, and plasma goes up to 184 MiB.\n",
    "\n",
    "In sum, memory consumption actually looks pretty nice"
   ]
  },
  {
   "cell_type": "markdown",
   "id": "6111c6b3-75ed-4eb6-842c-24461b7c67c4",
   "metadata": {},
   "source": [
    "### Medium data\n",
    "Deliberately max out what I can create this way. (Twice the number of rows killed the kernel on small HWT, I believe the dataframe conversion makes a copy and requires twice the memory).\n",
    "\n",
    "Output from the first cell when I actually ran it:\n",
    "```\n",
    "With 10000000 rows and 20 columns the new file is 1.495505265891552 GiB on disk\n",
    "```"
   ]
  },
  {
   "cell_type": "code",
   "execution_count": 5,
   "id": "7652cf3e-08a9-4d0e-8731-466df5b8682e",
   "metadata": {},
   "outputs": [],
   "source": [
    "# No fancy way to save my \"inventory\" of dummy files for future runs yet\n",
    "#medium_file = generate_dummy_data(10**7, 20, \"medium\")"
   ]
  },
  {
   "cell_type": "code",
   "execution_count": 5,
   "id": "6d9ed457-467d-42a0-8925-16d6de0c95d0",
   "metadata": {},
   "outputs": [],
   "source": [
    "medium_file = os.path.join(default_dataset_path, \"medium.parquet\")"
   ]
  },
  {
   "cell_type": "markdown",
   "id": "cb9dac16-3167-4816-bf13-966a417a80ba",
   "metadata": {},
   "source": [
    "#### Try with ray data"
   ]
  },
  {
   "cell_type": "code",
   "execution_count": 5,
   "id": "02f0f052-28fd-4c59-8ff3-4ac7f9bfc2b6",
   "metadata": {},
   "outputs": [],
   "source": [
    "ds = ray.data.read_parquet(medium_file)"
   ]
  },
  {
   "cell_type": "code",
   "execution_count": 6,
   "id": "b8d3b28f-a0e3-489b-a745-4270b37d0376",
   "metadata": {},
   "outputs": [
    {
     "name": "stderr",
     "output_type": "stream",
     "text": [
      "2022-07-29 22:44:55,109\tWARNING dataclient.py:220 -- Encountered connection issues in the data channel. Attempting to reconnect.\n",
      "2022-07-29 22:45:01,304\tERROR dataclient.py:150 -- Unrecoverable error in data channel.\n"
     ]
    },
    {
     "ename": "ConnectionError",
     "evalue": "GRPC connection failed: <_InactiveRpcError of RPC that terminated with:\n\tstatus = StatusCode.NOT_FOUND\n\tdetails = \"Failed to serialize response!\"\n\tdebug_error_string = \"{\"created\":\"@1659134701.618941918\",\"description\":\"Error received from peer ipv4:172.20.212.219:10001\",\"file\":\"src/core/lib/surface/call.cc\",\"file_line\":1074,\"grpc_message\":\"Failed to serialize response!\",\"grpc_status\":5}\"\n>",
     "output_type": "error",
     "traceback": [
      "\u001b[0;31m---------------------------------------------------------------------------\u001b[0m",
      "\u001b[0;31m_InactiveRpcError\u001b[0m                         Traceback (most recent call last)",
      "File \u001b[0;32m/opt/conda/lib/python3.8/site-packages/ray/util/client/worker.py:377\u001b[0m, in \u001b[0;36mWorker._get\u001b[0;34m(self, ref, timeout)\u001b[0m\n\u001b[1;32m    376\u001b[0m \u001b[38;5;28;01mtry\u001b[39;00m:\n\u001b[0;32m--> 377\u001b[0m     resp \u001b[38;5;241m=\u001b[39m \u001b[38;5;28;43mself\u001b[39;49m\u001b[38;5;241;43m.\u001b[39;49m\u001b[43m_call_stub\u001b[49m\u001b[43m(\u001b[49m\u001b[38;5;124;43m\"\u001b[39;49m\u001b[38;5;124;43mGetObject\u001b[39;49m\u001b[38;5;124;43m\"\u001b[39;49m\u001b[43m,\u001b[49m\u001b[43m \u001b[49m\u001b[43mreq\u001b[49m\u001b[43m,\u001b[49m\u001b[43m \u001b[49m\u001b[43mmetadata\u001b[49m\u001b[38;5;241;43m=\u001b[39;49m\u001b[38;5;28;43mself\u001b[39;49m\u001b[38;5;241;43m.\u001b[39;49m\u001b[43mmetadata\u001b[49m\u001b[43m)\u001b[49m\n\u001b[1;32m    378\u001b[0m \u001b[38;5;28;01mexcept\u001b[39;00m grpc\u001b[38;5;241m.\u001b[39mRpcError \u001b[38;5;28;01mas\u001b[39;00m e:\n",
      "File \u001b[0;32m/opt/conda/lib/python3.8/site-packages/ray/util/client/worker.py:278\u001b[0m, in \u001b[0;36mWorker._call_stub\u001b[0;34m(self, stub_name, *args, **kwargs)\u001b[0m\n\u001b[1;32m    277\u001b[0m \u001b[38;5;28;01mtry\u001b[39;00m:\n\u001b[0;32m--> 278\u001b[0m     \u001b[38;5;28;01mreturn\u001b[39;00m \u001b[38;5;28;43mgetattr\u001b[39;49m\u001b[43m(\u001b[49m\u001b[38;5;28;43mself\u001b[39;49m\u001b[38;5;241;43m.\u001b[39;49m\u001b[43mserver\u001b[49m\u001b[43m,\u001b[49m\u001b[43m \u001b[49m\u001b[43mstub_name\u001b[49m\u001b[43m)\u001b[49m\u001b[43m(\u001b[49m\u001b[38;5;241;43m*\u001b[39;49m\u001b[43margs\u001b[49m\u001b[43m,\u001b[49m\u001b[43m \u001b[49m\u001b[38;5;241;43m*\u001b[39;49m\u001b[38;5;241;43m*\u001b[39;49m\u001b[43mkwargs\u001b[49m\u001b[43m)\u001b[49m\n\u001b[1;32m    279\u001b[0m \u001b[38;5;28;01mexcept\u001b[39;00m grpc\u001b[38;5;241m.\u001b[39mRpcError \u001b[38;5;28;01mas\u001b[39;00m e:\n",
      "File \u001b[0;32m/opt/conda/lib/python3.8/site-packages/grpc/_channel.py:946\u001b[0m, in \u001b[0;36m_UnaryUnaryMultiCallable.__call__\u001b[0;34m(self, request, timeout, metadata, credentials, wait_for_ready, compression)\u001b[0m\n\u001b[1;32m    944\u001b[0m state, call, \u001b[38;5;241m=\u001b[39m \u001b[38;5;28mself\u001b[39m\u001b[38;5;241m.\u001b[39m_blocking(request, timeout, metadata, credentials,\n\u001b[1;32m    945\u001b[0m                               wait_for_ready, compression)\n\u001b[0;32m--> 946\u001b[0m \u001b[38;5;28;01mreturn\u001b[39;00m \u001b[43m_end_unary_response_blocking\u001b[49m\u001b[43m(\u001b[49m\u001b[43mstate\u001b[49m\u001b[43m,\u001b[49m\u001b[43m \u001b[49m\u001b[43mcall\u001b[49m\u001b[43m,\u001b[49m\u001b[43m \u001b[49m\u001b[38;5;28;43;01mFalse\u001b[39;49;00m\u001b[43m,\u001b[49m\u001b[43m \u001b[49m\u001b[38;5;28;43;01mNone\u001b[39;49;00m\u001b[43m)\u001b[49m\n",
      "File \u001b[0;32m/opt/conda/lib/python3.8/site-packages/grpc/_channel.py:849\u001b[0m, in \u001b[0;36m_end_unary_response_blocking\u001b[0;34m(state, call, with_call, deadline)\u001b[0m\n\u001b[1;32m    848\u001b[0m \u001b[38;5;28;01melse\u001b[39;00m:\n\u001b[0;32m--> 849\u001b[0m     \u001b[38;5;28;01mraise\u001b[39;00m _InactiveRpcError(state)\n",
      "\u001b[0;31m_InactiveRpcError\u001b[0m: <_InactiveRpcError of RPC that terminated with:\n\tstatus = StatusCode.NOT_FOUND\n\tdetails = \"Failed to serialize response!\"\n\tdebug_error_string = \"{\"created\":\"@1659134701.618941918\",\"description\":\"Error received from peer ipv4:172.20.212.219:10001\",\"file\":\"src/core/lib/surface/call.cc\",\"file_line\":1074,\"grpc_message\":\"Failed to serialize response!\",\"grpc_status\":5}\"\n>",
      "\nDuring handling of the above exception, another exception occurred:\n",
      "\u001b[0;31mConnectionError\u001b[0m                           Traceback (most recent call last)",
      "Input \u001b[0;32mIn [6]\u001b[0m, in \u001b[0;36m<module>\u001b[0;34m\u001b[0m\n\u001b[0;32m----> 1\u001b[0m \u001b[43mds\u001b[49m\u001b[38;5;241;43m.\u001b[39;49m\u001b[43mshow\u001b[49m\u001b[43m(\u001b[49m\u001b[38;5;241;43m3\u001b[39;49m\u001b[43m)\u001b[49m\n",
      "File \u001b[0;32m/opt/conda/lib/python3.8/site-packages/ray/data/dataset.py:1427\u001b[0m, in \u001b[0;36mDataset.show\u001b[0;34m(self, limit)\u001b[0m\n\u001b[1;32m   1419\u001b[0m \u001b[38;5;28;01mdef\u001b[39;00m \u001b[38;5;21mshow\u001b[39m(\u001b[38;5;28mself\u001b[39m, limit: \u001b[38;5;28mint\u001b[39m \u001b[38;5;241m=\u001b[39m \u001b[38;5;241m20\u001b[39m) \u001b[38;5;241m-\u001b[39m\u001b[38;5;241m>\u001b[39m \u001b[38;5;28;01mNone\u001b[39;00m:\n\u001b[1;32m   1420\u001b[0m     \u001b[38;5;124;03m\"\"\"Print up to the given number of records from the dataset.\u001b[39;00m\n\u001b[1;32m   1421\u001b[0m \n\u001b[1;32m   1422\u001b[0m \u001b[38;5;124;03m    Time complexity: O(limit specified)\u001b[39;00m\n\u001b[0;32m   (...)\u001b[0m\n\u001b[1;32m   1425\u001b[0m \u001b[38;5;124;03m        limit: The max number of records to print.\u001b[39;00m\n\u001b[1;32m   1426\u001b[0m \u001b[38;5;124;03m    \"\"\"\u001b[39;00m\n\u001b[0;32m-> 1427\u001b[0m     \u001b[38;5;28;01mfor\u001b[39;00m row \u001b[38;5;129;01min\u001b[39;00m \u001b[38;5;28;43mself\u001b[39;49m\u001b[38;5;241;43m.\u001b[39;49m\u001b[43mtake\u001b[49m\u001b[43m(\u001b[49m\u001b[43mlimit\u001b[49m\u001b[43m)\u001b[49m:\n\u001b[1;32m   1428\u001b[0m         \u001b[38;5;28mprint\u001b[39m(row)\n",
      "File \u001b[0;32m/opt/conda/lib/python3.8/site-packages/ray/data/dataset.py:1393\u001b[0m, in \u001b[0;36mDataset.take\u001b[0;34m(self, limit)\u001b[0m\n\u001b[1;32m   1382\u001b[0m \u001b[38;5;124;03m\"\"\"Take up to the given number of records from the dataset.\u001b[39;00m\n\u001b[1;32m   1383\u001b[0m \n\u001b[1;32m   1384\u001b[0m \u001b[38;5;124;03mTime complexity: O(limit specified)\u001b[39;00m\n\u001b[0;32m   (...)\u001b[0m\n\u001b[1;32m   1390\u001b[0m \u001b[38;5;124;03m    A list of up to ``limit`` records from the dataset.\u001b[39;00m\n\u001b[1;32m   1391\u001b[0m \u001b[38;5;124;03m\"\"\"\u001b[39;00m\n\u001b[1;32m   1392\u001b[0m output \u001b[38;5;241m=\u001b[39m []\n\u001b[0;32m-> 1393\u001b[0m \u001b[38;5;28;01mfor\u001b[39;00m row \u001b[38;5;129;01min\u001b[39;00m \u001b[38;5;28mself\u001b[39m\u001b[38;5;241m.\u001b[39miter_rows():\n\u001b[1;32m   1394\u001b[0m     output\u001b[38;5;241m.\u001b[39mappend(row)\n\u001b[1;32m   1395\u001b[0m     \u001b[38;5;28;01mif\u001b[39;00m \u001b[38;5;28mlen\u001b[39m(output) \u001b[38;5;241m>\u001b[39m\u001b[38;5;241m=\u001b[39m limit:\n",
      "File \u001b[0;32m/opt/conda/lib/python3.8/site-packages/ray/data/dataset.py:1784\u001b[0m, in \u001b[0;36mDataset.iter_rows\u001b[0;34m(self, prefetch_blocks)\u001b[0m\n\u001b[1;32m   1768\u001b[0m \u001b[38;5;28;01mdef\u001b[39;00m \u001b[38;5;21miter_rows\u001b[39m(\u001b[38;5;28mself\u001b[39m, \u001b[38;5;241m*\u001b[39m, prefetch_blocks: \u001b[38;5;28mint\u001b[39m \u001b[38;5;241m=\u001b[39m \u001b[38;5;241m0\u001b[39m) \u001b[38;5;241m-\u001b[39m\u001b[38;5;241m>\u001b[39m Iterator[T]:\n\u001b[1;32m   1769\u001b[0m     \u001b[38;5;124;03m\"\"\"Return a local row iterator over the dataset.\u001b[39;00m\n\u001b[1;32m   1770\u001b[0m \n\u001b[1;32m   1771\u001b[0m \u001b[38;5;124;03m    Examples:\u001b[39;00m\n\u001b[0;32m   (...)\u001b[0m\n\u001b[1;32m   1782\u001b[0m \u001b[38;5;124;03m        A local iterator over the entire dataset.\u001b[39;00m\n\u001b[1;32m   1783\u001b[0m \u001b[38;5;124;03m    \"\"\"\u001b[39;00m\n\u001b[0;32m-> 1784\u001b[0m     \u001b[38;5;28;01mfor\u001b[39;00m batch \u001b[38;5;129;01min\u001b[39;00m \u001b[38;5;28mself\u001b[39m\u001b[38;5;241m.\u001b[39miter_batches(\n\u001b[1;32m   1785\u001b[0m             prefetch_blocks\u001b[38;5;241m=\u001b[39mprefetch_blocks, batch_format\u001b[38;5;241m=\u001b[39m\u001b[38;5;124m\"\u001b[39m\u001b[38;5;124mnative\u001b[39m\u001b[38;5;124m\"\u001b[39m):\n\u001b[1;32m   1786\u001b[0m         batch \u001b[38;5;241m=\u001b[39m BlockAccessor\u001b[38;5;241m.\u001b[39mfor_block(batch)\n\u001b[1;32m   1787\u001b[0m         \u001b[38;5;28;01mfor\u001b[39;00m row \u001b[38;5;129;01min\u001b[39;00m batch\u001b[38;5;241m.\u001b[39miter_rows():\n",
      "File \u001b[0;32m/opt/conda/lib/python3.8/site-packages/ray/data/dataset.py:1865\u001b[0m, in \u001b[0;36mDataset.iter_batches\u001b[0;34m(self, prefetch_blocks, batch_size, batch_format, drop_last)\u001b[0m\n\u001b[1;32m   1863\u001b[0m     block_window \u001b[38;5;241m=\u001b[39m \u001b[38;5;28mlist\u001b[39m(block_window)\n\u001b[1;32m   1864\u001b[0m     ray\u001b[38;5;241m.\u001b[39mwait(block_window, num_returns\u001b[38;5;241m=\u001b[39m\u001b[38;5;241m1\u001b[39m, fetch_local\u001b[38;5;241m=\u001b[39m\u001b[38;5;28;01mTrue\u001b[39;00m)\n\u001b[0;32m-> 1865\u001b[0m     \u001b[38;5;28;01myield from\u001b[39;00m batch_block(block_window[\u001b[38;5;241m0\u001b[39m])\n\u001b[1;32m   1867\u001b[0m \u001b[38;5;66;03m# Consume remainder of final block window.\u001b[39;00m\n\u001b[1;32m   1868\u001b[0m \u001b[38;5;28;01mfor\u001b[39;00m block \u001b[38;5;129;01min\u001b[39;00m block_window[\u001b[38;5;241m1\u001b[39m:]:\n",
      "File \u001b[0;32m/opt/conda/lib/python3.8/site-packages/ray/data/dataset.py:1855\u001b[0m, in \u001b[0;36mDataset.iter_batches.<locals>.batch_block\u001b[0;34m(block)\u001b[0m\n\u001b[1;32m   1854\u001b[0m \u001b[38;5;28;01mdef\u001b[39;00m \u001b[38;5;21mbatch_block\u001b[39m(block: ObjectRef[Block]):\n\u001b[0;32m-> 1855\u001b[0m     block \u001b[38;5;241m=\u001b[39m \u001b[43mray\u001b[49m\u001b[38;5;241;43m.\u001b[39;49m\u001b[43mget\u001b[49m\u001b[43m(\u001b[49m\u001b[43mblock\u001b[49m\u001b[43m)\u001b[49m\n\u001b[1;32m   1856\u001b[0m     batcher\u001b[38;5;241m.\u001b[39madd(block)\n\u001b[1;32m   1857\u001b[0m     \u001b[38;5;28;01mwhile\u001b[39;00m batcher\u001b[38;5;241m.\u001b[39mhas_batch():\n",
      "File \u001b[0;32m/opt/conda/lib/python3.8/site-packages/ray/_private/client_mode_hook.py:104\u001b[0m, in \u001b[0;36mclient_mode_hook.<locals>.wrapper\u001b[0;34m(*args, **kwargs)\u001b[0m\n\u001b[1;32m    100\u001b[0m \u001b[38;5;28;01mif\u001b[39;00m client_mode_should_convert(auto_init\u001b[38;5;241m=\u001b[39mauto_init):\n\u001b[1;32m    101\u001b[0m     \u001b[38;5;66;03m# Legacy code\u001b[39;00m\n\u001b[1;32m    102\u001b[0m     \u001b[38;5;66;03m# we only convert init function if RAY_CLIENT_MODE=1\u001b[39;00m\n\u001b[1;32m    103\u001b[0m     \u001b[38;5;28;01mif\u001b[39;00m func\u001b[38;5;241m.\u001b[39m\u001b[38;5;18m__name__\u001b[39m \u001b[38;5;241m!=\u001b[39m \u001b[38;5;124m\"\u001b[39m\u001b[38;5;124minit\u001b[39m\u001b[38;5;124m\"\u001b[39m \u001b[38;5;129;01mor\u001b[39;00m is_client_mode_enabled_by_default:\n\u001b[0;32m--> 104\u001b[0m         \u001b[38;5;28;01mreturn\u001b[39;00m \u001b[38;5;28;43mgetattr\u001b[39;49m\u001b[43m(\u001b[49m\u001b[43mray\u001b[49m\u001b[43m,\u001b[49m\u001b[43m \u001b[49m\u001b[43mfunc\u001b[49m\u001b[38;5;241;43m.\u001b[39;49m\u001b[38;5;18;43m__name__\u001b[39;49m\u001b[43m)\u001b[49m\u001b[43m(\u001b[49m\u001b[38;5;241;43m*\u001b[39;49m\u001b[43margs\u001b[49m\u001b[43m,\u001b[49m\u001b[43m \u001b[49m\u001b[38;5;241;43m*\u001b[39;49m\u001b[38;5;241;43m*\u001b[39;49m\u001b[43mkwargs\u001b[49m\u001b[43m)\u001b[49m\n\u001b[1;32m    105\u001b[0m \u001b[38;5;28;01mreturn\u001b[39;00m func(\u001b[38;5;241m*\u001b[39margs, \u001b[38;5;241m*\u001b[39m\u001b[38;5;241m*\u001b[39mkwargs)\n",
      "File \u001b[0;32m/opt/conda/lib/python3.8/site-packages/ray/util/client/api.py:42\u001b[0m, in \u001b[0;36mClientAPI.get\u001b[0;34m(self, vals, timeout)\u001b[0m\n\u001b[1;32m     35\u001b[0m \u001b[38;5;28;01mdef\u001b[39;00m \u001b[38;5;21mget\u001b[39m(\u001b[38;5;28mself\u001b[39m, vals, \u001b[38;5;241m*\u001b[39m, timeout\u001b[38;5;241m=\u001b[39m\u001b[38;5;28;01mNone\u001b[39;00m):\n\u001b[1;32m     36\u001b[0m     \u001b[38;5;124;03m\"\"\"get is the hook stub passed on to replace `ray.get`\u001b[39;00m\n\u001b[1;32m     37\u001b[0m \n\u001b[1;32m     38\u001b[0m \u001b[38;5;124;03m    Args:\u001b[39;00m\n\u001b[1;32m     39\u001b[0m \u001b[38;5;124;03m        vals: [Client]ObjectRef or list of these refs to retrieve.\u001b[39;00m\n\u001b[1;32m     40\u001b[0m \u001b[38;5;124;03m        timeout: Optional timeout in milliseconds\u001b[39;00m\n\u001b[1;32m     41\u001b[0m \u001b[38;5;124;03m    \"\"\"\u001b[39;00m\n\u001b[0;32m---> 42\u001b[0m     \u001b[38;5;28;01mreturn\u001b[39;00m \u001b[38;5;28;43mself\u001b[39;49m\u001b[38;5;241;43m.\u001b[39;49m\u001b[43mworker\u001b[49m\u001b[38;5;241;43m.\u001b[39;49m\u001b[43mget\u001b[49m\u001b[43m(\u001b[49m\u001b[43mvals\u001b[49m\u001b[43m,\u001b[49m\u001b[43m \u001b[49m\u001b[43mtimeout\u001b[49m\u001b[38;5;241;43m=\u001b[39;49m\u001b[43mtimeout\u001b[49m\u001b[43m)\u001b[49m\n",
      "File \u001b[0;32m/opt/conda/lib/python3.8/site-packages/ray/util/client/worker.py:359\u001b[0m, in \u001b[0;36mWorker.get\u001b[0;34m(self, vals, timeout)\u001b[0m\n\u001b[1;32m    357\u001b[0m     op_timeout \u001b[38;5;241m=\u001b[39m MAX_BLOCKING_OPERATION_TIME_S\n\u001b[1;32m    358\u001b[0m \u001b[38;5;28;01mtry\u001b[39;00m:\n\u001b[0;32m--> 359\u001b[0m     res \u001b[38;5;241m=\u001b[39m \u001b[38;5;28;43mself\u001b[39;49m\u001b[38;5;241;43m.\u001b[39;49m\u001b[43m_get\u001b[49m\u001b[43m(\u001b[49m\u001b[43mto_get\u001b[49m\u001b[43m,\u001b[49m\u001b[43m \u001b[49m\u001b[43mop_timeout\u001b[49m\u001b[43m)\u001b[49m\n\u001b[1;32m    360\u001b[0m     \u001b[38;5;28;01mbreak\u001b[39;00m\n\u001b[1;32m    361\u001b[0m \u001b[38;5;28;01mexcept\u001b[39;00m GetTimeoutError:\n",
      "File \u001b[0;32m/opt/conda/lib/python3.8/site-packages/ray/util/client/worker.py:379\u001b[0m, in \u001b[0;36mWorker._get\u001b[0;34m(self, ref, timeout)\u001b[0m\n\u001b[1;32m    377\u001b[0m     resp \u001b[38;5;241m=\u001b[39m \u001b[38;5;28mself\u001b[39m\u001b[38;5;241m.\u001b[39m_call_stub(\u001b[38;5;124m\"\u001b[39m\u001b[38;5;124mGetObject\u001b[39m\u001b[38;5;124m\"\u001b[39m, req, metadata\u001b[38;5;241m=\u001b[39m\u001b[38;5;28mself\u001b[39m\u001b[38;5;241m.\u001b[39mmetadata)\n\u001b[1;32m    378\u001b[0m \u001b[38;5;28;01mexcept\u001b[39;00m grpc\u001b[38;5;241m.\u001b[39mRpcError \u001b[38;5;28;01mas\u001b[39;00m e:\n\u001b[0;32m--> 379\u001b[0m     \u001b[38;5;28;01mraise\u001b[39;00m decode_exception(e)\n\u001b[1;32m    380\u001b[0m \u001b[38;5;28;01mif\u001b[39;00m \u001b[38;5;129;01mnot\u001b[39;00m resp\u001b[38;5;241m.\u001b[39mvalid:\n\u001b[1;32m    381\u001b[0m     \u001b[38;5;28;01mtry\u001b[39;00m:\n",
      "\u001b[0;31mConnectionError\u001b[0m: GRPC connection failed: <_InactiveRpcError of RPC that terminated with:\n\tstatus = StatusCode.NOT_FOUND\n\tdetails = \"Failed to serialize response!\"\n\tdebug_error_string = \"{\"created\":\"@1659134701.618941918\",\"description\":\"Error received from peer ipv4:172.20.212.219:10001\",\"file\":\"src/core/lib/surface/call.cc\",\"file_line\":1074,\"grpc_message\":\"Failed to serialize response!\",\"grpc_status\":5}\"\n>"
     ]
    }
   ],
   "source": [
    "ds.show(3)"
   ]
  },
  {
   "cell_type": "code",
   "execution_count": 9,
   "id": "cbbca6b4-ca2f-43e7-b13b-45017e36dcd3",
   "metadata": {},
   "outputs": [],
   "source": [
    "# Couldn't get this far\n",
    "#def dummy_transform_batch(t: pa.Table) -> pd.DataFrame:\n",
    "#    return t.to_pandas().sum(axis=1).to_frame()\n",
    "\n",
    "#ds2 = ds.map_batches(dummy_transform_batch)"
   ]
  },
  {
   "cell_type": "code",
   "execution_count": 8,
   "id": "e33746c8-e0b5-4cf0-9087-be5a5875c942",
   "metadata": {},
   "outputs": [],
   "source": [
    "#ds2.show(3)"
   ]
  },
  {
   "cell_type": "markdown",
   "id": "054c95bb-84a8-400c-a2e4-1530a31d588b",
   "metadata": {},
   "source": [
    "#### Try with Modin"
   ]
  },
  {
   "cell_type": "code",
   "execution_count": 6,
   "id": "70c9f593-7353-431d-a768-8636bea99998",
   "metadata": {},
   "outputs": [],
   "source": [
    "mdf = mpd.read_parquet(medium_file)"
   ]
  },
  {
   "cell_type": "code",
   "execution_count": 7,
   "id": "07dc5d23-455d-47db-87b3-85d99cd112f2",
   "metadata": {},
   "outputs": [
    {
     "data": {
      "text/html": [
       "<div>\n",
       "<style scoped>\n",
       "    .dataframe tbody tr th:only-of-type {\n",
       "        vertical-align: middle;\n",
       "    }\n",
       "\n",
       "    .dataframe tbody tr th {\n",
       "        vertical-align: top;\n",
       "    }\n",
       "\n",
       "    .dataframe thead th {\n",
       "        text-align: right;\n",
       "    }\n",
       "</style>\n",
       "<table border=\"1\" class=\"dataframe\">\n",
       "  <thead>\n",
       "    <tr style=\"text-align: right;\">\n",
       "      <th></th>\n",
       "      <th>0</th>\n",
       "      <th>1</th>\n",
       "      <th>2</th>\n",
       "      <th>3</th>\n",
       "      <th>4</th>\n",
       "      <th>5</th>\n",
       "      <th>6</th>\n",
       "      <th>7</th>\n",
       "      <th>8</th>\n",
       "      <th>9</th>\n",
       "      <th>10</th>\n",
       "      <th>11</th>\n",
       "      <th>12</th>\n",
       "      <th>13</th>\n",
       "      <th>14</th>\n",
       "      <th>15</th>\n",
       "      <th>16</th>\n",
       "      <th>17</th>\n",
       "      <th>18</th>\n",
       "      <th>19</th>\n",
       "    </tr>\n",
       "  </thead>\n",
       "  <tbody>\n",
       "    <tr>\n",
       "      <th>0</th>\n",
       "      <td>-0.560002</td>\n",
       "      <td>-0.308564</td>\n",
       "      <td>-1.049303</td>\n",
       "      <td>0.008382</td>\n",
       "      <td>-0.853563</td>\n",
       "      <td>-0.258357</td>\n",
       "      <td>-1.656964</td>\n",
       "      <td>-0.014819</td>\n",
       "      <td>-0.415261</td>\n",
       "      <td>1.81215</td>\n",
       "      <td>-1.527844</td>\n",
       "      <td>1.688930</td>\n",
       "      <td>0.130555</td>\n",
       "      <td>0.340870</td>\n",
       "      <td>-0.863005</td>\n",
       "      <td>-1.829299</td>\n",
       "      <td>0.866442</td>\n",
       "      <td>1.732221</td>\n",
       "      <td>0.611116</td>\n",
       "      <td>-0.659617</td>\n",
       "    </tr>\n",
       "    <tr>\n",
       "      <th>1</th>\n",
       "      <td>1.137965</td>\n",
       "      <td>-0.280707</td>\n",
       "      <td>0.458817</td>\n",
       "      <td>-0.635319</td>\n",
       "      <td>-0.731099</td>\n",
       "      <td>-0.399083</td>\n",
       "      <td>-0.841399</td>\n",
       "      <td>0.839758</td>\n",
       "      <td>1.282331</td>\n",
       "      <td>0.30618</td>\n",
       "      <td>-0.445659</td>\n",
       "      <td>-0.818173</td>\n",
       "      <td>-0.176238</td>\n",
       "      <td>0.885542</td>\n",
       "      <td>-0.963602</td>\n",
       "      <td>-1.345789</td>\n",
       "      <td>0.568700</td>\n",
       "      <td>0.447883</td>\n",
       "      <td>0.750788</td>\n",
       "      <td>-0.715429</td>\n",
       "    </tr>\n",
       "    <tr>\n",
       "      <th>2</th>\n",
       "      <td>-1.083661</td>\n",
       "      <td>-0.385706</td>\n",
       "      <td>-0.220577</td>\n",
       "      <td>0.090654</td>\n",
       "      <td>-0.166137</td>\n",
       "      <td>0.388106</td>\n",
       "      <td>-1.007656</td>\n",
       "      <td>-2.202053</td>\n",
       "      <td>-0.196738</td>\n",
       "      <td>0.21293</td>\n",
       "      <td>1.546228</td>\n",
       "      <td>-1.774291</td>\n",
       "      <td>0.198617</td>\n",
       "      <td>0.223779</td>\n",
       "      <td>0.432537</td>\n",
       "      <td>0.760189</td>\n",
       "      <td>2.399902</td>\n",
       "      <td>0.221714</td>\n",
       "      <td>0.285044</td>\n",
       "      <td>-0.249088</td>\n",
       "    </tr>\n",
       "  </tbody>\n",
       "</table>\n",
       "</div>"
      ],
      "text/plain": [
       "          0         1         2         3         4         5         6  \\\n",
       "0 -0.560002 -0.308564 -1.049303  0.008382 -0.853563 -0.258357 -1.656964   \n",
       "1  1.137965 -0.280707  0.458817 -0.635319 -0.731099 -0.399083 -0.841399   \n",
       "2 -1.083661 -0.385706 -0.220577  0.090654 -0.166137  0.388106 -1.007656   \n",
       "\n",
       "          7         8        9        10        11        12        13  \\\n",
       "0 -0.014819 -0.415261  1.81215 -1.527844  1.688930  0.130555  0.340870   \n",
       "1  0.839758  1.282331  0.30618 -0.445659 -0.818173 -0.176238  0.885542   \n",
       "2 -2.202053 -0.196738  0.21293  1.546228 -1.774291  0.198617  0.223779   \n",
       "\n",
       "         14        15        16        17        18        19  \n",
       "0 -0.863005 -1.829299  0.866442  1.732221  0.611116 -0.659617  \n",
       "1 -0.963602 -1.345789  0.568700  0.447883  0.750788 -0.715429  \n",
       "2  0.432537  0.760189  2.399902  0.221714  0.285044 -0.249088  "
      ]
     },
     "execution_count": 7,
     "metadata": {},
     "output_type": "execute_result"
    }
   ],
   "source": [
    "mdf.head(3)"
   ]
  },
  {
   "cell_type": "code",
   "execution_count": 8,
   "id": "d5470c0d-01a9-4e34-b7b5-c73cd8df877e",
   "metadata": {},
   "outputs": [],
   "source": [
    "mdf2 = mdf.sum(axis=1).to_frame()"
   ]
  },
  {
   "cell_type": "code",
   "execution_count": 9,
   "id": "c4851531-bc19-4915-b696-23d4f386a7d8",
   "metadata": {},
   "outputs": [
    {
     "data": {
      "text/html": [
       "<div>\n",
       "<style scoped>\n",
       "    .dataframe tbody tr th:only-of-type {\n",
       "        vertical-align: middle;\n",
       "    }\n",
       "\n",
       "    .dataframe tbody tr th {\n",
       "        vertical-align: top;\n",
       "    }\n",
       "\n",
       "    .dataframe thead th {\n",
       "        text-align: right;\n",
       "    }\n",
       "</style>\n",
       "<table border=\"1\" class=\"dataframe\">\n",
       "  <thead>\n",
       "    <tr style=\"text-align: right;\">\n",
       "      <th></th>\n",
       "      <th>0</th>\n",
       "    </tr>\n",
       "  </thead>\n",
       "  <tbody>\n",
       "    <tr>\n",
       "      <th>0</th>\n",
       "      <td>-2.805931</td>\n",
       "    </tr>\n",
       "    <tr>\n",
       "      <th>1</th>\n",
       "      <td>-0.674532</td>\n",
       "    </tr>\n",
       "    <tr>\n",
       "      <th>2</th>\n",
       "      <td>-0.526206</td>\n",
       "    </tr>\n",
       "  </tbody>\n",
       "</table>\n",
       "</div>"
      ],
      "text/plain": [
       "          0\n",
       "0 -2.805931\n",
       "1 -0.674532\n",
       "2 -0.526206"
      ]
     },
     "execution_count": 9,
     "metadata": {},
     "output_type": "execute_result"
    }
   ],
   "source": [
    "mdf2.head(3)"
   ]
  },
  {
   "cell_type": "markdown",
   "id": "0e2cab86-2f21-4193-a2f9-c5fbac512426",
   "metadata": {},
   "source": [
    "#### Findings for medium:\n",
    "* Baseline is a single worker (the head worker) at 96 MiB RAM before starting\n",
    "* Ray Data as follows:\n",
    "    * The read operation did seem to work, and spiked up to ~3 GiB RAM on a single process before settling back to about 1.6 (twice data size to once data size). Also saw about 1.6 GiB in Plasma.\n",
    "    * However `show` killed it.\n",
    "* Modin as follows:\n",
    "    * As of `mpd.read_parquet` I get even RAM usage across 3 workers, 600-675 MiB apiece, plus 1.6 in Plasma. (I am confused about the process RAM usage vs host RAM usage - host has about double, not sure it actually works out to process + Plasma but maybe approximately that?)\n",
    "    * Show is fine\n",
    "    * Sum operation seems to increase all the memory usage by like 10-20% or so, all still fine.\n",
    "\n",
    "In sum, Modin is Better and Smarter at big un-subdivided parquet files."
   ]
  },
  {
   "cell_type": "markdown",
   "id": "e97f3b1d-cb2d-4b6d-905c-87591f43defb",
   "metadata": {},
   "source": [
    "### Goldilocks data\n",
    "Let's try to find out exactly where ray.data kicks the bucket.\n",
    "```\n",
    "With 5000000 rows and 20 columns the new file is 0.7503557354211807 GiB on disk\n",
    "```"
   ]
  },
  {
   "cell_type": "code",
   "execution_count": 4,
   "id": "d0575a1e-7d31-40ee-b8b8-ef68d3bf8c75",
   "metadata": {},
   "outputs": [],
   "source": [
    "# No fancy way to save my \"inventory\" of dummy files for future runs yet\n",
    "#goldilocks_file = generate_dummy_data(5*10**6, 20, \"goldilocks\")"
   ]
  },
  {
   "cell_type": "code",
   "execution_count": 5,
   "id": "ed60af60-1bc4-493e-9e3f-33f9494df851",
   "metadata": {},
   "outputs": [],
   "source": [
    "goldilocks_file = os.path.join(default_dataset_path, \"goldilocks.parquet\")"
   ]
  },
  {
   "cell_type": "code",
   "execution_count": 7,
   "id": "cfc85b04-28e9-46e3-9ae1-a5d101eb5517",
   "metadata": {},
   "outputs": [],
   "source": [
    "ds = ray.data.read_parquet(goldilocks_file)"
   ]
  },
  {
   "cell_type": "code",
   "execution_count": 8,
   "id": "bab7f1f9-e18e-4054-bc60-13e3e0f6991d",
   "metadata": {},
   "outputs": [
    {
     "name": "stdout",
     "output_type": "stream",
     "text": [
      "{'0': 0.8486725261757402, '1': -1.6249991954356522, '2': 0.3491570059240676, '3': -0.3845927848310576, '4': -1.7535548830533385, '5': -1.7415539866200016, '6': -0.06332342022296654, '7': -1.2783767682189873, '8': -1.6925961944833545, '9': 1.3495421016506435, '10': 0.5923182238453245, '11': 0.4341769539541526, '12': 2.2231331215606147, '13': 1.1358900966802883, '14': -0.14083763849360784, '15': -1.7700207958491847, '16': 1.4353060846880865, '17': -0.8130187065371839, '18': -0.8799310305137245, '19': -2.0199181029533215}\n",
      "{'0': 1.3195784578309429, '1': -0.37837809775452397, '2': -0.2789803290710002, '3': -1.1319832239231604, '4': -0.532566660761417, '5': -0.530425986153597, '6': 0.64005241852152, '7': -0.09528005746394203, '8': 1.3393781704897154, '9': 0.5457471334720579, '10': 0.6154668627082043, '11': 0.07025999845420669, '12': 3.373880186735437, '13': 0.36443392326697027, '14': -0.36758903818152144, '15': 1.1488883352672523, '16': 0.37827831033563736, '17': -1.016511292241403, '18': 1.935411613529216, '19': 0.4629305814190948}\n",
      "{'0': -1.0123734478521211, '1': 0.04101718083195206, '2': -0.009389976463606687, '3': -0.7682933530885004, '4': 0.8762645079741113, '5': 0.24319599504740658, '6': 1.5274531481949996, '7': 1.1181160304283733, '8': 0.5634198356944876, '9': 1.6089000547270962, '10': 1.6726246661994564, '11': 1.187101061453842, '12': 0.2666727502043799, '13': -3.1169227982252816, '14': -0.6030529092339794, '15': -1.6574058206248614, '16': 0.6670577295066057, '17': 0.09224083166200917, '18': -1.1926416413855563, '19': 1.4873057922623574}\n"
     ]
    }
   ],
   "source": [
    "ds.show(3)"
   ]
  },
  {
   "cell_type": "code",
   "execution_count": 9,
   "id": "f4b1384f-54a1-4fda-ba34-3756dbe7c1b8",
   "metadata": {},
   "outputs": [
    {
     "name": "stderr",
     "output_type": "stream",
     "text": [
      "Map Progress: 100%|██████████| 1/1 [00:01<00:00,  1.21s/it]\n"
     ]
    }
   ],
   "source": [
    "# Couldn't get this far\n",
    "def dummy_transform_batch(t: pa.Table) -> pd.DataFrame:\n",
    "    return t.to_pandas().sum(axis=1).to_frame()\n",
    "\n",
    "ds2 = ds.map_batches(dummy_transform_batch)"
   ]
  },
  {
   "cell_type": "code",
   "execution_count": 10,
   "id": "963ad712-b70a-4b6f-bfeb-710c4a05d25d",
   "metadata": {},
   "outputs": [
    {
     "name": "stdout",
     "output_type": "stream",
     "text": [
      "{'0': -5.794527392733462}\n",
      "{'0': 7.862591306479691}\n",
      "{'0': 2.9912896373131694}\n"
     ]
    }
   ],
   "source": [
    "ds2.show(3)"
   ]
  },
  {
   "cell_type": "markdown",
   "id": "82e7dae7-7da0-4cc7-bb86-b71f3d07e17a",
   "metadata": {},
   "source": [
    "### Findings for goldilocks\n",
    "\n",
    "Similar pattern to what I described for the medium data; I saw the head node total RAM go up to 3.6 GiB out of 4.0 GiB for just a second during `ds.show`; I think ray.data barely survived this. Looks like 4x data size is roughly the limit here."
   ]
  },
  {
   "cell_type": "markdown",
   "id": "fefe354e-fa39-4de3-81de-66a9e8c71019",
   "metadata": {},
   "source": [
    "## Next steps\n",
    "\n",
    "Would be nice to see what happens to Modin with a file so big it cannot fit in memory on ALL the workers; maybe try spinning up some large HWT workspace with a tiny Ray cluster to test this out. Would especially like to see if I can make some demonstration of object spillage to disk - might need the \"local storage\" option enabled for that?"
   ]
  },
  {
   "cell_type": "code",
   "execution_count": null,
   "id": "2e5fcdea-ad82-414c-8a57-c8680086e823",
   "metadata": {},
   "outputs": [],
   "source": []
  }
 ],
 "metadata": {
  "kernelspec": {
   "display_name": "Python 3 (ipykernel)",
   "language": "python",
   "name": "python3"
  },
  "language_info": {
   "codemirror_mode": {
    "name": "ipython",
    "version": 3
   },
   "file_extension": ".py",
   "mimetype": "text/x-python",
   "name": "python",
   "nbconvert_exporter": "python",
   "pygments_lexer": "ipython3",
   "version": "3.8.12"
  }
 },
 "nbformat": 4,
 "nbformat_minor": 5
}
