{
 "cells": [
  {
   "cell_type": "markdown",
   "id": "077b318c-9672-48d3-8064-243e77ebd1e7",
   "metadata": {},
   "source": [
    "# Mini Demo of Ray Data parallel read considerations\n",
    "\n",
    "Compare reading a single monolith parquet file versus a directory with multiple parquet files, using Ray Data as well as Modin.\n",
    "\n",
    "The file in question is smaller than RAM of a single machine, but larger than 1/3 the RAM of a single machine, so accounting for read overhead it can't be read in a single large chunk.\n",
    "\n",
    "(Spoiler: Modin can do both, but Ray Data can only do the split file, because options for parallelism in reading don't work on the monolith file.)"
   ]
  },
  {
   "cell_type": "code",
   "execution_count": 1,
   "id": "1588ccfb-fe38-42cb-b83c-b9b0fbcfad5a",
   "metadata": {},
   "outputs": [],
   "source": [
    "import numpy as np\n",
    "import pandas as pd\n",
    "import modin.pandas as mpd\n",
    "import pyarrow.parquet as pq\n",
    "import pyarrow.dataset as pds\n",
    "import pyarrow as pa"
   ]
  },
  {
   "cell_type": "code",
   "execution_count": 2,
   "id": "ef697e28-70b7-4f71-9a03-5f1c619ca70b",
   "metadata": {},
   "outputs": [],
   "source": [
    "import ray\n",
    "import os\n",
    "\n",
    "if ray.is_initialized() == False:\n",
    "    service_host = os.environ[\"RAY_HEAD_SERVICE_HOST\"]\n",
    "    service_port = os.environ[\"RAY_HEAD_SERVICE_PORT\"]\n",
    "    ray.init(f\"ray://{service_host}:{service_port}\")"
   ]
  },
  {
   "cell_type": "markdown",
   "id": "f0af0b8d-1e6b-48f5-b1a2-618dc8349a06",
   "metadata": {},
   "source": [
    "## The monolith file\n",
    "\n",
    "Generated with code like this, split into row groups within a single file.\n",
    "\n",
    "```\n",
    "arr = np.random.standard_normal((n_rows, n_columns))\n",
    "df = pd.DataFrame(arr, columns = [str(i) for i in range(n_columns)])\n",
    "df.to_parquet(dummy_file_path, row_group_size = n_rows // 10)\n",
    "```"
   ]
  },
  {
   "cell_type": "code",
   "execution_count": 3,
   "id": "06184866-4a2c-4bfe-af57-ef4269fb61fc",
   "metadata": {},
   "outputs": [],
   "source": [
    "monolith_file = '/domino/datasets/local/Ray-Tutorial/medium-split.parquet'"
   ]
  },
  {
   "cell_type": "code",
   "execution_count": 4,
   "id": "ba9bf668-9fd8-4871-83fd-434f59119173",
   "metadata": {},
   "outputs": [
    {
     "name": "stdout",
     "output_type": "stream",
     "text": [
      "1.6G\t/domino/datasets/local/Ray-Tutorial/medium-split.parquet\n"
     ]
    }
   ],
   "source": [
    "!du -h $monolith_file"
   ]
  },
  {
   "cell_type": "markdown",
   "id": "da8a355c-4232-4e5f-bf54-10b603037b03",
   "metadata": {},
   "source": [
    "## The split file\n",
    "\n",
    "Generated with code like this (requires pyarrow 7.0), to actually split into separate files.\n",
    "\n",
    "```\n",
    "data_columns = {f\"col_{i}\": np.random.standard_normal(n_rows) for i in range(n_columns)}\n",
    "n_per = n_rows // n_parts\n",
    "pds.write_dataset(\n",
    "    pa.Table.from_pydict(data_columns),\n",
    "    dummy_file_root,\n",
    "    format='parquet',\n",
    "    max_rows_per_file = n_per,\n",
    "    max_rows_per_group = n_per\n",
    ")\n",
    "```"
   ]
  },
  {
   "cell_type": "code",
   "execution_count": 5,
   "id": "f6a0173f-0fce-4847-ad17-8c67adcf4136",
   "metadata": {},
   "outputs": [],
   "source": [
    "split_file = '/domino/datasets/local/Ray-Tutorial/medium-filesplit'"
   ]
  },
  {
   "cell_type": "code",
   "execution_count": 6,
   "id": "dd549fe6-545d-4b09-8af6-dabc219d073c",
   "metadata": {},
   "outputs": [
    {
     "name": "stdout",
     "output_type": "stream",
     "text": [
      "1.6G\t/domino/datasets/local/Ray-Tutorial/medium-filesplit\n"
     ]
    }
   ],
   "source": [
    "!du -h $split_file"
   ]
  },
  {
   "cell_type": "code",
   "execution_count": 7,
   "id": "8a3df9ac-fe80-422b-a556-39f9beffaad5",
   "metadata": {},
   "outputs": [
    {
     "name": "stdout",
     "output_type": "stream",
     "text": [
      "total 1.6G\n",
      "-rw-rw-r-- 1 root root 158M Aug  9 00:07 part-0.parquet\n",
      "-rw-rw-r-- 1 root root 160M Aug  9 00:08 part-1.parquet\n",
      "-rw-rw-r-- 1 root root 162M Aug  9 00:08 part-2.parquet\n",
      "-rw-rw-r-- 1 root root 164M Aug  9 00:08 part-3.parquet\n",
      "-rw-rw-r-- 1 root root 164M Aug  9 00:08 part-4.parquet\n",
      "-rw-rw-r-- 1 root root 164M Aug  9 00:08 part-5.parquet\n",
      "-rw-rw-r-- 1 root root 164M Aug  9 00:08 part-6.parquet\n",
      "-rw-rw-r-- 1 root root 164M Aug  9 00:08 part-7.parquet\n",
      "-rw-rw-r-- 1 root root 164M Aug  9 00:08 part-8.parquet\n",
      "-rw-rw-r-- 1 root root 164M Aug  9 00:08 part-9.parquet\n"
     ]
    }
   ],
   "source": [
    "!ls -lh $split_file"
   ]
  },
  {
   "cell_type": "markdown",
   "id": "a16cec44-a18f-44a4-83e2-2ed3b3e33a0e",
   "metadata": {},
   "source": [
    "## Read split file with Modin"
   ]
  },
  {
   "cell_type": "code",
   "execution_count": 8,
   "id": "e7576d2a-93ad-4f42-8d2b-c6749e661de3",
   "metadata": {},
   "outputs": [],
   "source": [
    "mdf = mpd.read_parquet(split_file)"
   ]
  },
  {
   "cell_type": "code",
   "execution_count": 9,
   "id": "3fbc9442-437e-45a8-a779-e4b227f1556f",
   "metadata": {},
   "outputs": [
    {
     "data": {
      "text/html": [
       "<div>\n",
       "<style scoped>\n",
       "    .dataframe tbody tr th:only-of-type {\n",
       "        vertical-align: middle;\n",
       "    }\n",
       "\n",
       "    .dataframe tbody tr th {\n",
       "        vertical-align: top;\n",
       "    }\n",
       "\n",
       "    .dataframe thead th {\n",
       "        text-align: right;\n",
       "    }\n",
       "</style>\n",
       "<table border=\"1\" class=\"dataframe\">\n",
       "  <thead>\n",
       "    <tr style=\"text-align: right;\">\n",
       "      <th></th>\n",
       "      <th>col_0</th>\n",
       "      <th>col_1</th>\n",
       "      <th>col_2</th>\n",
       "      <th>col_3</th>\n",
       "      <th>col_4</th>\n",
       "      <th>col_5</th>\n",
       "      <th>col_6</th>\n",
       "      <th>col_7</th>\n",
       "      <th>col_8</th>\n",
       "      <th>col_9</th>\n",
       "      <th>col_10</th>\n",
       "      <th>col_11</th>\n",
       "      <th>col_12</th>\n",
       "      <th>col_13</th>\n",
       "      <th>col_14</th>\n",
       "      <th>col_15</th>\n",
       "      <th>col_16</th>\n",
       "      <th>col_17</th>\n",
       "      <th>col_18</th>\n",
       "      <th>col_19</th>\n",
       "    </tr>\n",
       "  </thead>\n",
       "  <tbody>\n",
       "    <tr>\n",
       "      <th>0</th>\n",
       "      <td>1.158893</td>\n",
       "      <td>0.602489</td>\n",
       "      <td>0.854727</td>\n",
       "      <td>-0.771795</td>\n",
       "      <td>1.327245</td>\n",
       "      <td>1.676098</td>\n",
       "      <td>0.851014</td>\n",
       "      <td>-0.610542</td>\n",
       "      <td>-0.898746</td>\n",
       "      <td>0.193705</td>\n",
       "      <td>-0.401126</td>\n",
       "      <td>-1.142757</td>\n",
       "      <td>-2.035543</td>\n",
       "      <td>-1.606220</td>\n",
       "      <td>-1.762634</td>\n",
       "      <td>-0.595791</td>\n",
       "      <td>1.244053</td>\n",
       "      <td>0.084862</td>\n",
       "      <td>-0.927860</td>\n",
       "      <td>0.891158</td>\n",
       "    </tr>\n",
       "    <tr>\n",
       "      <th>1</th>\n",
       "      <td>-1.158531</td>\n",
       "      <td>0.155682</td>\n",
       "      <td>-0.103746</td>\n",
       "      <td>0.730911</td>\n",
       "      <td>-0.844126</td>\n",
       "      <td>-0.442617</td>\n",
       "      <td>2.145428</td>\n",
       "      <td>0.773411</td>\n",
       "      <td>0.152442</td>\n",
       "      <td>0.534158</td>\n",
       "      <td>0.213542</td>\n",
       "      <td>0.479042</td>\n",
       "      <td>0.039539</td>\n",
       "      <td>-0.135565</td>\n",
       "      <td>0.027108</td>\n",
       "      <td>-1.388288</td>\n",
       "      <td>-0.023594</td>\n",
       "      <td>0.451480</td>\n",
       "      <td>-0.622062</td>\n",
       "      <td>-1.617443</td>\n",
       "    </tr>\n",
       "    <tr>\n",
       "      <th>2</th>\n",
       "      <td>-0.827434</td>\n",
       "      <td>-0.103443</td>\n",
       "      <td>0.532639</td>\n",
       "      <td>-1.020834</td>\n",
       "      <td>0.024577</td>\n",
       "      <td>-2.515021</td>\n",
       "      <td>0.091969</td>\n",
       "      <td>0.661409</td>\n",
       "      <td>0.566055</td>\n",
       "      <td>0.288772</td>\n",
       "      <td>0.150650</td>\n",
       "      <td>-0.606403</td>\n",
       "      <td>0.781512</td>\n",
       "      <td>0.762483</td>\n",
       "      <td>0.344753</td>\n",
       "      <td>0.048367</td>\n",
       "      <td>-1.749009</td>\n",
       "      <td>1.317534</td>\n",
       "      <td>0.129750</td>\n",
       "      <td>0.416652</td>\n",
       "    </tr>\n",
       "  </tbody>\n",
       "</table>\n",
       "</div>"
      ],
      "text/plain": [
       "      col_0     col_1     col_2     col_3     col_4     col_5     col_6  \\\n",
       "0  1.158893  0.602489  0.854727 -0.771795  1.327245  1.676098  0.851014   \n",
       "1 -1.158531  0.155682 -0.103746  0.730911 -0.844126 -0.442617  2.145428   \n",
       "2 -0.827434 -0.103443  0.532639 -1.020834  0.024577 -2.515021  0.091969   \n",
       "\n",
       "      col_7     col_8     col_9    col_10    col_11    col_12    col_13  \\\n",
       "0 -0.610542 -0.898746  0.193705 -0.401126 -1.142757 -2.035543 -1.606220   \n",
       "1  0.773411  0.152442  0.534158  0.213542  0.479042  0.039539 -0.135565   \n",
       "2  0.661409  0.566055  0.288772  0.150650 -0.606403  0.781512  0.762483   \n",
       "\n",
       "     col_14    col_15    col_16    col_17    col_18    col_19  \n",
       "0 -1.762634 -0.595791  1.244053  0.084862 -0.927860  0.891158  \n",
       "1  0.027108 -1.388288 -0.023594  0.451480 -0.622062 -1.617443  \n",
       "2  0.344753  0.048367 -1.749009  1.317534  0.129750  0.416652  "
      ]
     },
     "execution_count": 9,
     "metadata": {},
     "output_type": "execute_result"
    }
   ],
   "source": [
    "mdf.head(3)"
   ]
  },
  {
   "cell_type": "code",
   "execution_count": 10,
   "id": "aed57cce-c160-4d55-b344-18e41567b269",
   "metadata": {},
   "outputs": [],
   "source": [
    "mdf2 = mdf.sum(axis=1).to_frame()"
   ]
  },
  {
   "cell_type": "code",
   "execution_count": 11,
   "id": "0fe6e045-7004-4a60-9ba6-a71bd5895b8b",
   "metadata": {},
   "outputs": [
    {
     "data": {
      "text/html": [
       "<div>\n",
       "<style scoped>\n",
       "    .dataframe tbody tr th:only-of-type {\n",
       "        vertical-align: middle;\n",
       "    }\n",
       "\n",
       "    .dataframe tbody tr th {\n",
       "        vertical-align: top;\n",
       "    }\n",
       "\n",
       "    .dataframe thead th {\n",
       "        text-align: right;\n",
       "    }\n",
       "</style>\n",
       "<table border=\"1\" class=\"dataframe\">\n",
       "  <thead>\n",
       "    <tr style=\"text-align: right;\">\n",
       "      <th></th>\n",
       "      <th>0</th>\n",
       "    </tr>\n",
       "  </thead>\n",
       "  <tbody>\n",
       "    <tr>\n",
       "      <th>0</th>\n",
       "      <td>-1.868769</td>\n",
       "    </tr>\n",
       "    <tr>\n",
       "      <th>1</th>\n",
       "      <td>-0.633229</td>\n",
       "    </tr>\n",
       "    <tr>\n",
       "      <th>2</th>\n",
       "      <td>-0.705018</td>\n",
       "    </tr>\n",
       "  </tbody>\n",
       "</table>\n",
       "</div>"
      ],
      "text/plain": [
       "          0\n",
       "0 -1.868769\n",
       "1 -0.633229\n",
       "2 -0.705018"
      ]
     },
     "execution_count": 11,
     "metadata": {},
     "output_type": "execute_result"
    }
   ],
   "source": [
    "mdf2.head(3)"
   ]
  },
  {
   "cell_type": "markdown",
   "id": "f1108f74-bc43-46f3-b1d5-354b13a1708d",
   "metadata": {},
   "source": [
    "## Read monolith file with Modin"
   ]
  },
  {
   "cell_type": "code",
   "execution_count": 12,
   "id": "619f88a0-67b7-44bf-a5a6-ee2ac8424b8f",
   "metadata": {},
   "outputs": [],
   "source": [
    "ray.shutdown()"
   ]
  },
  {
   "cell_type": "code",
   "execution_count": 13,
   "id": "c1c52907-a551-4ee9-9935-1d9d2ee2c4b0",
   "metadata": {},
   "outputs": [],
   "source": [
    "if ray.is_initialized() == False:\n",
    "    service_host = os.environ[\"RAY_HEAD_SERVICE_HOST\"]\n",
    "    service_port = os.environ[\"RAY_HEAD_SERVICE_PORT\"]\n",
    "    ray.init(f\"ray://{service_host}:{service_port}\")"
   ]
  },
  {
   "cell_type": "code",
   "execution_count": 14,
   "id": "a29509af-c69e-43bf-9afe-7ffec155796c",
   "metadata": {},
   "outputs": [],
   "source": [
    "mdf = mpd.read_parquet(monolith_file)"
   ]
  },
  {
   "cell_type": "code",
   "execution_count": 15,
   "id": "a96f05ae-95b7-437c-8c84-81c8d8428f27",
   "metadata": {},
   "outputs": [
    {
     "data": {
      "text/html": [
       "<div>\n",
       "<style scoped>\n",
       "    .dataframe tbody tr th:only-of-type {\n",
       "        vertical-align: middle;\n",
       "    }\n",
       "\n",
       "    .dataframe tbody tr th {\n",
       "        vertical-align: top;\n",
       "    }\n",
       "\n",
       "    .dataframe thead th {\n",
       "        text-align: right;\n",
       "    }\n",
       "</style>\n",
       "<table border=\"1\" class=\"dataframe\">\n",
       "  <thead>\n",
       "    <tr style=\"text-align: right;\">\n",
       "      <th></th>\n",
       "      <th>0</th>\n",
       "      <th>1</th>\n",
       "      <th>2</th>\n",
       "      <th>3</th>\n",
       "      <th>4</th>\n",
       "      <th>5</th>\n",
       "      <th>6</th>\n",
       "      <th>7</th>\n",
       "      <th>8</th>\n",
       "      <th>9</th>\n",
       "      <th>10</th>\n",
       "      <th>11</th>\n",
       "      <th>12</th>\n",
       "      <th>13</th>\n",
       "      <th>14</th>\n",
       "      <th>15</th>\n",
       "      <th>16</th>\n",
       "      <th>17</th>\n",
       "      <th>18</th>\n",
       "      <th>19</th>\n",
       "    </tr>\n",
       "  </thead>\n",
       "  <tbody>\n",
       "    <tr>\n",
       "      <th>0</th>\n",
       "      <td>-3.232196</td>\n",
       "      <td>-1.114190</td>\n",
       "      <td>0.711632</td>\n",
       "      <td>-0.250220</td>\n",
       "      <td>-0.131877</td>\n",
       "      <td>-0.005184</td>\n",
       "      <td>1.031817</td>\n",
       "      <td>-0.945482</td>\n",
       "      <td>0.975556</td>\n",
       "      <td>-0.457545</td>\n",
       "      <td>-0.304410</td>\n",
       "      <td>0.378853</td>\n",
       "      <td>-0.273116</td>\n",
       "      <td>1.059342</td>\n",
       "      <td>-0.274358</td>\n",
       "      <td>-0.367763</td>\n",
       "      <td>1.003205</td>\n",
       "      <td>0.236463</td>\n",
       "      <td>1.227877</td>\n",
       "      <td>0.469126</td>\n",
       "    </tr>\n",
       "    <tr>\n",
       "      <th>1</th>\n",
       "      <td>-0.597349</td>\n",
       "      <td>1.118023</td>\n",
       "      <td>-2.043759</td>\n",
       "      <td>-2.229171</td>\n",
       "      <td>0.461430</td>\n",
       "      <td>0.526196</td>\n",
       "      <td>0.472792</td>\n",
       "      <td>-0.135688</td>\n",
       "      <td>0.380900</td>\n",
       "      <td>0.876594</td>\n",
       "      <td>-0.769614</td>\n",
       "      <td>-0.386359</td>\n",
       "      <td>-0.584750</td>\n",
       "      <td>-1.915788</td>\n",
       "      <td>0.798270</td>\n",
       "      <td>-0.972866</td>\n",
       "      <td>-0.121678</td>\n",
       "      <td>0.538673</td>\n",
       "      <td>-0.934768</td>\n",
       "      <td>-0.706762</td>\n",
       "    </tr>\n",
       "    <tr>\n",
       "      <th>2</th>\n",
       "      <td>-1.092904</td>\n",
       "      <td>-0.689833</td>\n",
       "      <td>0.870981</td>\n",
       "      <td>1.322129</td>\n",
       "      <td>-1.732093</td>\n",
       "      <td>-1.638802</td>\n",
       "      <td>0.964642</td>\n",
       "      <td>0.418966</td>\n",
       "      <td>1.118773</td>\n",
       "      <td>-1.233630</td>\n",
       "      <td>-0.298513</td>\n",
       "      <td>1.907154</td>\n",
       "      <td>1.092906</td>\n",
       "      <td>1.630934</td>\n",
       "      <td>0.050813</td>\n",
       "      <td>-0.977698</td>\n",
       "      <td>-0.223904</td>\n",
       "      <td>-0.063423</td>\n",
       "      <td>-1.126671</td>\n",
       "      <td>-1.975544</td>\n",
       "    </tr>\n",
       "  </tbody>\n",
       "</table>\n",
       "</div>"
      ],
      "text/plain": [
       "          0         1         2         3         4         5         6  \\\n",
       "0 -3.232196 -1.114190  0.711632 -0.250220 -0.131877 -0.005184  1.031817   \n",
       "1 -0.597349  1.118023 -2.043759 -2.229171  0.461430  0.526196  0.472792   \n",
       "2 -1.092904 -0.689833  0.870981  1.322129 -1.732093 -1.638802  0.964642   \n",
       "\n",
       "          7         8         9        10        11        12        13  \\\n",
       "0 -0.945482  0.975556 -0.457545 -0.304410  0.378853 -0.273116  1.059342   \n",
       "1 -0.135688  0.380900  0.876594 -0.769614 -0.386359 -0.584750 -1.915788   \n",
       "2  0.418966  1.118773 -1.233630 -0.298513  1.907154  1.092906  1.630934   \n",
       "\n",
       "         14        15        16        17        18        19  \n",
       "0 -0.274358 -0.367763  1.003205  0.236463  1.227877  0.469126  \n",
       "1  0.798270 -0.972866 -0.121678  0.538673 -0.934768 -0.706762  \n",
       "2  0.050813 -0.977698 -0.223904 -0.063423 -1.126671 -1.975544  "
      ]
     },
     "execution_count": 15,
     "metadata": {},
     "output_type": "execute_result"
    }
   ],
   "source": [
    "mdf.head(3)"
   ]
  },
  {
   "cell_type": "code",
   "execution_count": 16,
   "id": "2dee1162-6acd-426e-8f5a-f2c11d39e810",
   "metadata": {},
   "outputs": [],
   "source": [
    "mdf2 = mdf.sum(axis=1).to_frame()"
   ]
  },
  {
   "cell_type": "code",
   "execution_count": 17,
   "id": "2e75e3ab-f606-4054-a3a2-ab5b4f0cff3b",
   "metadata": {},
   "outputs": [
    {
     "data": {
      "text/html": [
       "<div>\n",
       "<style scoped>\n",
       "    .dataframe tbody tr th:only-of-type {\n",
       "        vertical-align: middle;\n",
       "    }\n",
       "\n",
       "    .dataframe tbody tr th {\n",
       "        vertical-align: top;\n",
       "    }\n",
       "\n",
       "    .dataframe thead th {\n",
       "        text-align: right;\n",
       "    }\n",
       "</style>\n",
       "<table border=\"1\" class=\"dataframe\">\n",
       "  <thead>\n",
       "    <tr style=\"text-align: right;\">\n",
       "      <th></th>\n",
       "      <th>0</th>\n",
       "    </tr>\n",
       "  </thead>\n",
       "  <tbody>\n",
       "    <tr>\n",
       "      <th>0</th>\n",
       "      <td>-0.262470</td>\n",
       "    </tr>\n",
       "    <tr>\n",
       "      <th>1</th>\n",
       "      <td>-6.225675</td>\n",
       "    </tr>\n",
       "    <tr>\n",
       "      <th>2</th>\n",
       "      <td>-1.675714</td>\n",
       "    </tr>\n",
       "  </tbody>\n",
       "</table>\n",
       "</div>"
      ],
      "text/plain": [
       "          0\n",
       "0 -0.262470\n",
       "1 -6.225675\n",
       "2 -1.675714"
      ]
     },
     "execution_count": 17,
     "metadata": {},
     "output_type": "execute_result"
    }
   ],
   "source": [
    "mdf2.head(3)"
   ]
  },
  {
   "cell_type": "markdown",
   "id": "3b9aeae9-24f1-466e-9105-bc7685001db2",
   "metadata": {},
   "source": [
    "## Read split file with Ray Data"
   ]
  },
  {
   "cell_type": "code",
   "execution_count": 18,
   "id": "a621e750-b155-4ea7-8c68-1df938d52fa3",
   "metadata": {},
   "outputs": [],
   "source": [
    "ray.shutdown()"
   ]
  },
  {
   "cell_type": "code",
   "execution_count": 19,
   "id": "23dedbd6-08bd-4d95-be26-44416b221b34",
   "metadata": {},
   "outputs": [],
   "source": [
    "if ray.is_initialized() == False:\n",
    "    service_host = os.environ[\"RAY_HEAD_SERVICE_HOST\"]\n",
    "    service_port = os.environ[\"RAY_HEAD_SERVICE_PORT\"]\n",
    "    ray.init(f\"ray://{service_host}:{service_port}\")"
   ]
  },
  {
   "cell_type": "code",
   "execution_count": 20,
   "id": "f14e950f-d89f-4377-a875-ed65fd4cf8ce",
   "metadata": {},
   "outputs": [],
   "source": [
    "ds = ray.data.read_parquet(split_file, parallelism = 10)"
   ]
  },
  {
   "cell_type": "code",
   "execution_count": 21,
   "id": "7905e31a-68ef-41aa-b3d4-ef06ee4b2d64",
   "metadata": {},
   "outputs": [
    {
     "name": "stdout",
     "output_type": "stream",
     "text": [
      "{'col_0': 1.158893411011255, 'col_1': 0.6024888481795232, 'col_2': 0.8547269707463037, 'col_3': -0.7717945711432682, 'col_4': 1.327244959107909, 'col_5': 1.6760976533642786, 'col_6': 0.851013834218383, 'col_7': -0.6105415319538923, 'col_8': -0.8987464297029039, 'col_9': 0.1937053286234583, 'col_10': -0.4011255531356019, 'col_11': -1.142756618209515, 'col_12': -2.0355433205668514, 'col_13': -1.6062197382186973, 'col_14': -1.7626335335372112, 'col_15': -0.5957913560997585, 'col_16': 1.2440529127597844, 'col_17': 0.08486158782383446, 'col_18': -0.9278595131767658, 'col_19': 0.8911579179072887}\n",
      "{'col_0': -1.1585311566375038, 'col_1': 0.155681761397261, 'col_2': -0.10374564341978187, 'col_3': 0.7309110889294081, 'col_4': -0.8441261132098692, 'col_5': -0.4426172541321336, 'col_6': 2.145427727628284, 'col_7': 0.7734108353639534, 'col_8': 0.15244208585701527, 'col_9': 0.5341579368697362, 'col_10': 0.21354196252623878, 'col_11': 0.47904246676231227, 'col_12': 0.03953915050317926, 'col_13': -0.13556525325989377, 'col_14': 0.027108087956649894, 'col_15': -1.38828817629496, 'col_16': -0.02359364095014775, 'col_17': 0.4514799979749801, 'col_18': -0.6220621203730198, 'col_19': -1.6174428235839473}\n",
      "{'col_0': -0.8274336700689704, 'col_1': -0.103442683379517, 'col_2': 0.5326386895996962, 'col_3': -1.0208335822955505, 'col_4': 0.02457744472306014, 'col_5': -2.5150210095705963, 'col_6': 0.09196931793467313, 'col_7': 0.6614094476969256, 'col_8': 0.5660547688867875, 'col_9': 0.28877238208095013, 'col_10': 0.15065016752762012, 'col_11': -0.6064025016952387, 'col_12': 0.7815123898154335, 'col_13': 0.7624828115206352, 'col_14': 0.3447532311292041, 'col_15': 0.04836714331443709, 'col_16': -1.7490090111588246, 'col_17': 1.3175340886702605, 'col_18': 0.12974974153979918, 'col_19': 0.41665238924497133}\n"
     ]
    }
   ],
   "source": [
    "ds.show(3)"
   ]
  },
  {
   "cell_type": "code",
   "execution_count": 22,
   "id": "0869fe8c-da48-47e2-88cf-f4c798bb5372",
   "metadata": {},
   "outputs": [],
   "source": [
    "def dummy_transform_batch(t: pa.Table) -> pd.DataFrame:\n",
    "    return t.to_pandas().sum(axis=1).to_frame()"
   ]
  },
  {
   "cell_type": "code",
   "execution_count": 23,
   "id": "dbcf6afd-d096-42b4-b6fe-732749c9a6e7",
   "metadata": {},
   "outputs": [
    {
     "name": "stderr",
     "output_type": "stream",
     "text": [
      "Map Progress: 100%|██████████| 10/10 [00:05<00:00,  1.91it/s]\n"
     ]
    }
   ],
   "source": [
    "ds2 = ds.map_batches(dummy_transform_batch)"
   ]
  },
  {
   "cell_type": "code",
   "execution_count": 24,
   "id": "765b95d4-783d-497c-8b9e-14d8a35f3a6a",
   "metadata": {},
   "outputs": [
    {
     "name": "stdout",
     "output_type": "stream",
     "text": [
      "{'0': -1.868768742002446}\n",
      "{'0': -0.6332290800922385}\n",
      "{'0': -0.7050184444842438}\n"
     ]
    }
   ],
   "source": [
    "ds2.show(3)"
   ]
  },
  {
   "cell_type": "markdown",
   "id": "de406e05-e250-4d06-9e72-38553101549a",
   "metadata": {
    "tags": []
   },
   "source": [
    "## Read monolith file with Ray Data - it crashes!"
   ]
  },
  {
   "cell_type": "code",
   "execution_count": 25,
   "id": "1f761f94-f319-4385-9789-49ee633b6ebf",
   "metadata": {},
   "outputs": [],
   "source": [
    "# Actually, start fresh from here to get a clean test\n",
    "ray.shutdown()"
   ]
  },
  {
   "cell_type": "code",
   "execution_count": 26,
   "id": "d77cebee-5237-4e53-8dd0-70d1d9252c61",
   "metadata": {},
   "outputs": [],
   "source": [
    "if ray.is_initialized() == False:\n",
    "    service_host = os.environ[\"RAY_HEAD_SERVICE_HOST\"]\n",
    "    service_port = os.environ[\"RAY_HEAD_SERVICE_PORT\"]\n",
    "    ray.init(f\"ray://{service_host}:{service_port}\")"
   ]
  },
  {
   "cell_type": "code",
   "execution_count": 8,
   "id": "2d0bfb44-a279-4fc1-95c5-c049d0ec897b",
   "metadata": {},
   "outputs": [],
   "source": [
    "ds = ray.data.read_parquet(monolith_file, parallelism = 10)"
   ]
  },
  {
   "cell_type": "code",
   "execution_count": 9,
   "id": "2131ad98-c590-4a2e-bf0c-775e12730cae",
   "metadata": {},
   "outputs": [
    {
     "name": "stderr",
     "output_type": "stream",
     "text": [
      "2022-08-23 16:18:46,529\tERROR dataclient.py:150 -- Unrecoverable error in data channel.\n"
     ]
    },
    {
     "ename": "ConnectionError",
     "evalue": "GRPC connection failed: <_InactiveRpcError of RPC that terminated with:\n\tstatus = StatusCode.NOT_FOUND\n\tdetails = \"Failed to serialize response!\"\n\tdebug_error_string = \"{\"created\":\"@1661271527.030029018\",\"description\":\"Error received from peer ipv4:172.20.187.153:10001\",\"file\":\"src/core/lib/surface/call.cc\",\"file_line\":1074,\"grpc_message\":\"Failed to serialize response!\",\"grpc_status\":5}\"\n>",
     "output_type": "error",
     "traceback": [
      "\u001b[0;31m---------------------------------------------------------------------------\u001b[0m",
      "\u001b[0;31m_InactiveRpcError\u001b[0m                         Traceback (most recent call last)",
      "File \u001b[0;32m/opt/conda/lib/python3.8/site-packages/ray/util/client/worker.py:377\u001b[0m, in \u001b[0;36mWorker._get\u001b[0;34m(self, ref, timeout)\u001b[0m\n\u001b[1;32m    376\u001b[0m \u001b[38;5;28;01mtry\u001b[39;00m:\n\u001b[0;32m--> 377\u001b[0m     resp \u001b[38;5;241m=\u001b[39m \u001b[38;5;28;43mself\u001b[39;49m\u001b[38;5;241;43m.\u001b[39;49m\u001b[43m_call_stub\u001b[49m\u001b[43m(\u001b[49m\u001b[38;5;124;43m\"\u001b[39;49m\u001b[38;5;124;43mGetObject\u001b[39;49m\u001b[38;5;124;43m\"\u001b[39;49m\u001b[43m,\u001b[49m\u001b[43m \u001b[49m\u001b[43mreq\u001b[49m\u001b[43m,\u001b[49m\u001b[43m \u001b[49m\u001b[43mmetadata\u001b[49m\u001b[38;5;241;43m=\u001b[39;49m\u001b[38;5;28;43mself\u001b[39;49m\u001b[38;5;241;43m.\u001b[39;49m\u001b[43mmetadata\u001b[49m\u001b[43m)\u001b[49m\n\u001b[1;32m    378\u001b[0m \u001b[38;5;28;01mexcept\u001b[39;00m grpc\u001b[38;5;241m.\u001b[39mRpcError \u001b[38;5;28;01mas\u001b[39;00m e:\n",
      "File \u001b[0;32m/opt/conda/lib/python3.8/site-packages/ray/util/client/worker.py:278\u001b[0m, in \u001b[0;36mWorker._call_stub\u001b[0;34m(self, stub_name, *args, **kwargs)\u001b[0m\n\u001b[1;32m    277\u001b[0m \u001b[38;5;28;01mtry\u001b[39;00m:\n\u001b[0;32m--> 278\u001b[0m     \u001b[38;5;28;01mreturn\u001b[39;00m \u001b[38;5;28;43mgetattr\u001b[39;49m\u001b[43m(\u001b[49m\u001b[38;5;28;43mself\u001b[39;49m\u001b[38;5;241;43m.\u001b[39;49m\u001b[43mserver\u001b[49m\u001b[43m,\u001b[49m\u001b[43m \u001b[49m\u001b[43mstub_name\u001b[49m\u001b[43m)\u001b[49m\u001b[43m(\u001b[49m\u001b[38;5;241;43m*\u001b[39;49m\u001b[43margs\u001b[49m\u001b[43m,\u001b[49m\u001b[43m \u001b[49m\u001b[38;5;241;43m*\u001b[39;49m\u001b[38;5;241;43m*\u001b[39;49m\u001b[43mkwargs\u001b[49m\u001b[43m)\u001b[49m\n\u001b[1;32m    279\u001b[0m \u001b[38;5;28;01mexcept\u001b[39;00m grpc\u001b[38;5;241m.\u001b[39mRpcError \u001b[38;5;28;01mas\u001b[39;00m e:\n",
      "File \u001b[0;32m/opt/conda/lib/python3.8/site-packages/grpc/_channel.py:946\u001b[0m, in \u001b[0;36m_UnaryUnaryMultiCallable.__call__\u001b[0;34m(self, request, timeout, metadata, credentials, wait_for_ready, compression)\u001b[0m\n\u001b[1;32m    944\u001b[0m state, call, \u001b[38;5;241m=\u001b[39m \u001b[38;5;28mself\u001b[39m\u001b[38;5;241m.\u001b[39m_blocking(request, timeout, metadata, credentials,\n\u001b[1;32m    945\u001b[0m                               wait_for_ready, compression)\n\u001b[0;32m--> 946\u001b[0m \u001b[38;5;28;01mreturn\u001b[39;00m \u001b[43m_end_unary_response_blocking\u001b[49m\u001b[43m(\u001b[49m\u001b[43mstate\u001b[49m\u001b[43m,\u001b[49m\u001b[43m \u001b[49m\u001b[43mcall\u001b[49m\u001b[43m,\u001b[49m\u001b[43m \u001b[49m\u001b[38;5;28;43;01mFalse\u001b[39;49;00m\u001b[43m,\u001b[49m\u001b[43m \u001b[49m\u001b[38;5;28;43;01mNone\u001b[39;49;00m\u001b[43m)\u001b[49m\n",
      "File \u001b[0;32m/opt/conda/lib/python3.8/site-packages/grpc/_channel.py:849\u001b[0m, in \u001b[0;36m_end_unary_response_blocking\u001b[0;34m(state, call, with_call, deadline)\u001b[0m\n\u001b[1;32m    848\u001b[0m \u001b[38;5;28;01melse\u001b[39;00m:\n\u001b[0;32m--> 849\u001b[0m     \u001b[38;5;28;01mraise\u001b[39;00m _InactiveRpcError(state)\n",
      "\u001b[0;31m_InactiveRpcError\u001b[0m: <_InactiveRpcError of RPC that terminated with:\n\tstatus = StatusCode.NOT_FOUND\n\tdetails = \"Failed to serialize response!\"\n\tdebug_error_string = \"{\"created\":\"@1661271527.030029018\",\"description\":\"Error received from peer ipv4:172.20.187.153:10001\",\"file\":\"src/core/lib/surface/call.cc\",\"file_line\":1074,\"grpc_message\":\"Failed to serialize response!\",\"grpc_status\":5}\"\n>",
      "\nDuring handling of the above exception, another exception occurred:\n",
      "\u001b[0;31mConnectionError\u001b[0m                           Traceback (most recent call last)",
      "Input \u001b[0;32mIn [9]\u001b[0m, in \u001b[0;36m<module>\u001b[0;34m\u001b[0m\n\u001b[0;32m----> 1\u001b[0m \u001b[43mds\u001b[49m\u001b[38;5;241;43m.\u001b[39;49m\u001b[43mshow\u001b[49m\u001b[43m(\u001b[49m\u001b[38;5;241;43m3\u001b[39;49m\u001b[43m)\u001b[49m\n",
      "File \u001b[0;32m/opt/conda/lib/python3.8/site-packages/ray/data/dataset.py:1427\u001b[0m, in \u001b[0;36mDataset.show\u001b[0;34m(self, limit)\u001b[0m\n\u001b[1;32m   1419\u001b[0m \u001b[38;5;28;01mdef\u001b[39;00m \u001b[38;5;21mshow\u001b[39m(\u001b[38;5;28mself\u001b[39m, limit: \u001b[38;5;28mint\u001b[39m \u001b[38;5;241m=\u001b[39m \u001b[38;5;241m20\u001b[39m) \u001b[38;5;241m-\u001b[39m\u001b[38;5;241m>\u001b[39m \u001b[38;5;28;01mNone\u001b[39;00m:\n\u001b[1;32m   1420\u001b[0m     \u001b[38;5;124;03m\"\"\"Print up to the given number of records from the dataset.\u001b[39;00m\n\u001b[1;32m   1421\u001b[0m \n\u001b[1;32m   1422\u001b[0m \u001b[38;5;124;03m    Time complexity: O(limit specified)\u001b[39;00m\n\u001b[0;32m   (...)\u001b[0m\n\u001b[1;32m   1425\u001b[0m \u001b[38;5;124;03m        limit: The max number of records to print.\u001b[39;00m\n\u001b[1;32m   1426\u001b[0m \u001b[38;5;124;03m    \"\"\"\u001b[39;00m\n\u001b[0;32m-> 1427\u001b[0m     \u001b[38;5;28;01mfor\u001b[39;00m row \u001b[38;5;129;01min\u001b[39;00m \u001b[38;5;28;43mself\u001b[39;49m\u001b[38;5;241;43m.\u001b[39;49m\u001b[43mtake\u001b[49m\u001b[43m(\u001b[49m\u001b[43mlimit\u001b[49m\u001b[43m)\u001b[49m:\n\u001b[1;32m   1428\u001b[0m         \u001b[38;5;28mprint\u001b[39m(row)\n",
      "File \u001b[0;32m/opt/conda/lib/python3.8/site-packages/ray/data/dataset.py:1393\u001b[0m, in \u001b[0;36mDataset.take\u001b[0;34m(self, limit)\u001b[0m\n\u001b[1;32m   1382\u001b[0m \u001b[38;5;124;03m\"\"\"Take up to the given number of records from the dataset.\u001b[39;00m\n\u001b[1;32m   1383\u001b[0m \n\u001b[1;32m   1384\u001b[0m \u001b[38;5;124;03mTime complexity: O(limit specified)\u001b[39;00m\n\u001b[0;32m   (...)\u001b[0m\n\u001b[1;32m   1390\u001b[0m \u001b[38;5;124;03m    A list of up to ``limit`` records from the dataset.\u001b[39;00m\n\u001b[1;32m   1391\u001b[0m \u001b[38;5;124;03m\"\"\"\u001b[39;00m\n\u001b[1;32m   1392\u001b[0m output \u001b[38;5;241m=\u001b[39m []\n\u001b[0;32m-> 1393\u001b[0m \u001b[38;5;28;01mfor\u001b[39;00m row \u001b[38;5;129;01min\u001b[39;00m \u001b[38;5;28mself\u001b[39m\u001b[38;5;241m.\u001b[39miter_rows():\n\u001b[1;32m   1394\u001b[0m     output\u001b[38;5;241m.\u001b[39mappend(row)\n\u001b[1;32m   1395\u001b[0m     \u001b[38;5;28;01mif\u001b[39;00m \u001b[38;5;28mlen\u001b[39m(output) \u001b[38;5;241m>\u001b[39m\u001b[38;5;241m=\u001b[39m limit:\n",
      "File \u001b[0;32m/opt/conda/lib/python3.8/site-packages/ray/data/dataset.py:1784\u001b[0m, in \u001b[0;36mDataset.iter_rows\u001b[0;34m(self, prefetch_blocks)\u001b[0m\n\u001b[1;32m   1768\u001b[0m \u001b[38;5;28;01mdef\u001b[39;00m \u001b[38;5;21miter_rows\u001b[39m(\u001b[38;5;28mself\u001b[39m, \u001b[38;5;241m*\u001b[39m, prefetch_blocks: \u001b[38;5;28mint\u001b[39m \u001b[38;5;241m=\u001b[39m \u001b[38;5;241m0\u001b[39m) \u001b[38;5;241m-\u001b[39m\u001b[38;5;241m>\u001b[39m Iterator[T]:\n\u001b[1;32m   1769\u001b[0m     \u001b[38;5;124;03m\"\"\"Return a local row iterator over the dataset.\u001b[39;00m\n\u001b[1;32m   1770\u001b[0m \n\u001b[1;32m   1771\u001b[0m \u001b[38;5;124;03m    Examples:\u001b[39;00m\n\u001b[0;32m   (...)\u001b[0m\n\u001b[1;32m   1782\u001b[0m \u001b[38;5;124;03m        A local iterator over the entire dataset.\u001b[39;00m\n\u001b[1;32m   1783\u001b[0m \u001b[38;5;124;03m    \"\"\"\u001b[39;00m\n\u001b[0;32m-> 1784\u001b[0m     \u001b[38;5;28;01mfor\u001b[39;00m batch \u001b[38;5;129;01min\u001b[39;00m \u001b[38;5;28mself\u001b[39m\u001b[38;5;241m.\u001b[39miter_batches(\n\u001b[1;32m   1785\u001b[0m             prefetch_blocks\u001b[38;5;241m=\u001b[39mprefetch_blocks, batch_format\u001b[38;5;241m=\u001b[39m\u001b[38;5;124m\"\u001b[39m\u001b[38;5;124mnative\u001b[39m\u001b[38;5;124m\"\u001b[39m):\n\u001b[1;32m   1786\u001b[0m         batch \u001b[38;5;241m=\u001b[39m BlockAccessor\u001b[38;5;241m.\u001b[39mfor_block(batch)\n\u001b[1;32m   1787\u001b[0m         \u001b[38;5;28;01mfor\u001b[39;00m row \u001b[38;5;129;01min\u001b[39;00m batch\u001b[38;5;241m.\u001b[39miter_rows():\n",
      "File \u001b[0;32m/opt/conda/lib/python3.8/site-packages/ray/data/dataset.py:1865\u001b[0m, in \u001b[0;36mDataset.iter_batches\u001b[0;34m(self, prefetch_blocks, batch_size, batch_format, drop_last)\u001b[0m\n\u001b[1;32m   1863\u001b[0m     block_window \u001b[38;5;241m=\u001b[39m \u001b[38;5;28mlist\u001b[39m(block_window)\n\u001b[1;32m   1864\u001b[0m     ray\u001b[38;5;241m.\u001b[39mwait(block_window, num_returns\u001b[38;5;241m=\u001b[39m\u001b[38;5;241m1\u001b[39m, fetch_local\u001b[38;5;241m=\u001b[39m\u001b[38;5;28;01mTrue\u001b[39;00m)\n\u001b[0;32m-> 1865\u001b[0m     \u001b[38;5;28;01myield from\u001b[39;00m batch_block(block_window[\u001b[38;5;241m0\u001b[39m])\n\u001b[1;32m   1867\u001b[0m \u001b[38;5;66;03m# Consume remainder of final block window.\u001b[39;00m\n\u001b[1;32m   1868\u001b[0m \u001b[38;5;28;01mfor\u001b[39;00m block \u001b[38;5;129;01min\u001b[39;00m block_window[\u001b[38;5;241m1\u001b[39m:]:\n",
      "File \u001b[0;32m/opt/conda/lib/python3.8/site-packages/ray/data/dataset.py:1855\u001b[0m, in \u001b[0;36mDataset.iter_batches.<locals>.batch_block\u001b[0;34m(block)\u001b[0m\n\u001b[1;32m   1854\u001b[0m \u001b[38;5;28;01mdef\u001b[39;00m \u001b[38;5;21mbatch_block\u001b[39m(block: ObjectRef[Block]):\n\u001b[0;32m-> 1855\u001b[0m     block \u001b[38;5;241m=\u001b[39m \u001b[43mray\u001b[49m\u001b[38;5;241;43m.\u001b[39;49m\u001b[43mget\u001b[49m\u001b[43m(\u001b[49m\u001b[43mblock\u001b[49m\u001b[43m)\u001b[49m\n\u001b[1;32m   1856\u001b[0m     batcher\u001b[38;5;241m.\u001b[39madd(block)\n\u001b[1;32m   1857\u001b[0m     \u001b[38;5;28;01mwhile\u001b[39;00m batcher\u001b[38;5;241m.\u001b[39mhas_batch():\n",
      "File \u001b[0;32m/opt/conda/lib/python3.8/site-packages/ray/_private/client_mode_hook.py:104\u001b[0m, in \u001b[0;36mclient_mode_hook.<locals>.wrapper\u001b[0;34m(*args, **kwargs)\u001b[0m\n\u001b[1;32m    100\u001b[0m \u001b[38;5;28;01mif\u001b[39;00m client_mode_should_convert(auto_init\u001b[38;5;241m=\u001b[39mauto_init):\n\u001b[1;32m    101\u001b[0m     \u001b[38;5;66;03m# Legacy code\u001b[39;00m\n\u001b[1;32m    102\u001b[0m     \u001b[38;5;66;03m# we only convert init function if RAY_CLIENT_MODE=1\u001b[39;00m\n\u001b[1;32m    103\u001b[0m     \u001b[38;5;28;01mif\u001b[39;00m func\u001b[38;5;241m.\u001b[39m\u001b[38;5;18m__name__\u001b[39m \u001b[38;5;241m!=\u001b[39m \u001b[38;5;124m\"\u001b[39m\u001b[38;5;124minit\u001b[39m\u001b[38;5;124m\"\u001b[39m \u001b[38;5;129;01mor\u001b[39;00m is_client_mode_enabled_by_default:\n\u001b[0;32m--> 104\u001b[0m         \u001b[38;5;28;01mreturn\u001b[39;00m \u001b[38;5;28;43mgetattr\u001b[39;49m\u001b[43m(\u001b[49m\u001b[43mray\u001b[49m\u001b[43m,\u001b[49m\u001b[43m \u001b[49m\u001b[43mfunc\u001b[49m\u001b[38;5;241;43m.\u001b[39;49m\u001b[38;5;18;43m__name__\u001b[39;49m\u001b[43m)\u001b[49m\u001b[43m(\u001b[49m\u001b[38;5;241;43m*\u001b[39;49m\u001b[43margs\u001b[49m\u001b[43m,\u001b[49m\u001b[43m \u001b[49m\u001b[38;5;241;43m*\u001b[39;49m\u001b[38;5;241;43m*\u001b[39;49m\u001b[43mkwargs\u001b[49m\u001b[43m)\u001b[49m\n\u001b[1;32m    105\u001b[0m \u001b[38;5;28;01mreturn\u001b[39;00m func(\u001b[38;5;241m*\u001b[39margs, \u001b[38;5;241m*\u001b[39m\u001b[38;5;241m*\u001b[39mkwargs)\n",
      "File \u001b[0;32m/opt/conda/lib/python3.8/site-packages/ray/util/client/api.py:42\u001b[0m, in \u001b[0;36mClientAPI.get\u001b[0;34m(self, vals, timeout)\u001b[0m\n\u001b[1;32m     35\u001b[0m \u001b[38;5;28;01mdef\u001b[39;00m \u001b[38;5;21mget\u001b[39m(\u001b[38;5;28mself\u001b[39m, vals, \u001b[38;5;241m*\u001b[39m, timeout\u001b[38;5;241m=\u001b[39m\u001b[38;5;28;01mNone\u001b[39;00m):\n\u001b[1;32m     36\u001b[0m     \u001b[38;5;124;03m\"\"\"get is the hook stub passed on to replace `ray.get`\u001b[39;00m\n\u001b[1;32m     37\u001b[0m \n\u001b[1;32m     38\u001b[0m \u001b[38;5;124;03m    Args:\u001b[39;00m\n\u001b[1;32m     39\u001b[0m \u001b[38;5;124;03m        vals: [Client]ObjectRef or list of these refs to retrieve.\u001b[39;00m\n\u001b[1;32m     40\u001b[0m \u001b[38;5;124;03m        timeout: Optional timeout in milliseconds\u001b[39;00m\n\u001b[1;32m     41\u001b[0m \u001b[38;5;124;03m    \"\"\"\u001b[39;00m\n\u001b[0;32m---> 42\u001b[0m     \u001b[38;5;28;01mreturn\u001b[39;00m \u001b[38;5;28;43mself\u001b[39;49m\u001b[38;5;241;43m.\u001b[39;49m\u001b[43mworker\u001b[49m\u001b[38;5;241;43m.\u001b[39;49m\u001b[43mget\u001b[49m\u001b[43m(\u001b[49m\u001b[43mvals\u001b[49m\u001b[43m,\u001b[49m\u001b[43m \u001b[49m\u001b[43mtimeout\u001b[49m\u001b[38;5;241;43m=\u001b[39;49m\u001b[43mtimeout\u001b[49m\u001b[43m)\u001b[49m\n",
      "File \u001b[0;32m/opt/conda/lib/python3.8/site-packages/ray/util/client/worker.py:359\u001b[0m, in \u001b[0;36mWorker.get\u001b[0;34m(self, vals, timeout)\u001b[0m\n\u001b[1;32m    357\u001b[0m     op_timeout \u001b[38;5;241m=\u001b[39m MAX_BLOCKING_OPERATION_TIME_S\n\u001b[1;32m    358\u001b[0m \u001b[38;5;28;01mtry\u001b[39;00m:\n\u001b[0;32m--> 359\u001b[0m     res \u001b[38;5;241m=\u001b[39m \u001b[38;5;28;43mself\u001b[39;49m\u001b[38;5;241;43m.\u001b[39;49m\u001b[43m_get\u001b[49m\u001b[43m(\u001b[49m\u001b[43mto_get\u001b[49m\u001b[43m,\u001b[49m\u001b[43m \u001b[49m\u001b[43mop_timeout\u001b[49m\u001b[43m)\u001b[49m\n\u001b[1;32m    360\u001b[0m     \u001b[38;5;28;01mbreak\u001b[39;00m\n\u001b[1;32m    361\u001b[0m \u001b[38;5;28;01mexcept\u001b[39;00m GetTimeoutError:\n",
      "File \u001b[0;32m/opt/conda/lib/python3.8/site-packages/ray/util/client/worker.py:379\u001b[0m, in \u001b[0;36mWorker._get\u001b[0;34m(self, ref, timeout)\u001b[0m\n\u001b[1;32m    377\u001b[0m     resp \u001b[38;5;241m=\u001b[39m \u001b[38;5;28mself\u001b[39m\u001b[38;5;241m.\u001b[39m_call_stub(\u001b[38;5;124m\"\u001b[39m\u001b[38;5;124mGetObject\u001b[39m\u001b[38;5;124m\"\u001b[39m, req, metadata\u001b[38;5;241m=\u001b[39m\u001b[38;5;28mself\u001b[39m\u001b[38;5;241m.\u001b[39mmetadata)\n\u001b[1;32m    378\u001b[0m \u001b[38;5;28;01mexcept\u001b[39;00m grpc\u001b[38;5;241m.\u001b[39mRpcError \u001b[38;5;28;01mas\u001b[39;00m e:\n\u001b[0;32m--> 379\u001b[0m     \u001b[38;5;28;01mraise\u001b[39;00m decode_exception(e)\n\u001b[1;32m    380\u001b[0m \u001b[38;5;28;01mif\u001b[39;00m \u001b[38;5;129;01mnot\u001b[39;00m resp\u001b[38;5;241m.\u001b[39mvalid:\n\u001b[1;32m    381\u001b[0m     \u001b[38;5;28;01mtry\u001b[39;00m:\n",
      "\u001b[0;31mConnectionError\u001b[0m: GRPC connection failed: <_InactiveRpcError of RPC that terminated with:\n\tstatus = StatusCode.NOT_FOUND\n\tdetails = \"Failed to serialize response!\"\n\tdebug_error_string = \"{\"created\":\"@1661271527.030029018\",\"description\":\"Error received from peer ipv4:172.20.187.153:10001\",\"file\":\"src/core/lib/surface/call.cc\",\"file_line\":1074,\"grpc_message\":\"Failed to serialize response!\",\"grpc_status\":5}\"\n>"
     ]
    }
   ],
   "source": [
    "ds.show(3)"
   ]
  },
  {
   "cell_type": "markdown",
   "id": "2a1b5220-6034-4c73-b77f-f69887a7bf91",
   "metadata": {
    "tags": []
   },
   "source": [
    "## Read split file with Ray Data and no explicit parallelism\n",
    "It's fine, because the default parallelism is 200"
   ]
  },
  {
   "cell_type": "code",
   "execution_count": 8,
   "id": "063c2440-fc71-41e2-81d3-ad39bd23968e",
   "metadata": {},
   "outputs": [],
   "source": [
    "ds = ray.data.read_parquet(split_file)"
   ]
  },
  {
   "cell_type": "code",
   "execution_count": 9,
   "id": "450d0dae-5600-4045-8ef0-77e30ed7a9ac",
   "metadata": {},
   "outputs": [
    {
     "name": "stdout",
     "output_type": "stream",
     "text": [
      "{'col_0': 1.158893411011255, 'col_1': 0.6024888481795232, 'col_2': 0.8547269707463037, 'col_3': -0.7717945711432682, 'col_4': 1.327244959107909, 'col_5': 1.6760976533642786, 'col_6': 0.851013834218383, 'col_7': -0.6105415319538923, 'col_8': -0.8987464297029039, 'col_9': 0.1937053286234583, 'col_10': -0.4011255531356019, 'col_11': -1.142756618209515, 'col_12': -2.0355433205668514, 'col_13': -1.6062197382186973, 'col_14': -1.7626335335372112, 'col_15': -0.5957913560997585, 'col_16': 1.2440529127597844, 'col_17': 0.08486158782383446, 'col_18': -0.9278595131767658, 'col_19': 0.8911579179072887}\n",
      "{'col_0': -1.1585311566375038, 'col_1': 0.155681761397261, 'col_2': -0.10374564341978187, 'col_3': 0.7309110889294081, 'col_4': -0.8441261132098692, 'col_5': -0.4426172541321336, 'col_6': 2.145427727628284, 'col_7': 0.7734108353639534, 'col_8': 0.15244208585701527, 'col_9': 0.5341579368697362, 'col_10': 0.21354196252623878, 'col_11': 0.47904246676231227, 'col_12': 0.03953915050317926, 'col_13': -0.13556525325989377, 'col_14': 0.027108087956649894, 'col_15': -1.38828817629496, 'col_16': -0.02359364095014775, 'col_17': 0.4514799979749801, 'col_18': -0.6220621203730198, 'col_19': -1.6174428235839473}\n",
      "{'col_0': -0.8274336700689704, 'col_1': -0.103442683379517, 'col_2': 0.5326386895996962, 'col_3': -1.0208335822955505, 'col_4': 0.02457744472306014, 'col_5': -2.5150210095705963, 'col_6': 0.09196931793467313, 'col_7': 0.6614094476969256, 'col_8': 0.5660547688867875, 'col_9': 0.28877238208095013, 'col_10': 0.15065016752762012, 'col_11': -0.6064025016952387, 'col_12': 0.7815123898154335, 'col_13': 0.7624828115206352, 'col_14': 0.3447532311292041, 'col_15': 0.04836714331443709, 'col_16': -1.7490090111588246, 'col_17': 1.3175340886702605, 'col_18': 0.12974974153979918, 'col_19': 0.41665238924497133}\n"
     ]
    }
   ],
   "source": [
    "ds.show(3)"
   ]
  },
  {
   "cell_type": "code",
   "execution_count": 10,
   "id": "8bf74c22-3212-4fdc-b644-5914679dde27",
   "metadata": {},
   "outputs": [],
   "source": [
    "def dummy_transform_batch(t: pa.Table) -> pd.DataFrame:\n",
    "    return t.to_pandas().sum(axis=1).to_frame()"
   ]
  },
  {
   "cell_type": "code",
   "execution_count": 11,
   "id": "1359f9c8-9d5c-4e23-912c-ec68a2c2fafb",
   "metadata": {},
   "outputs": [
    {
     "name": "stderr",
     "output_type": "stream",
     "text": [
      "Map Progress: 100%|██████████| 10/10 [00:04<00:00,  2.03it/s]\n"
     ]
    }
   ],
   "source": [
    "ds2 = ds.map_batches(dummy_transform_batch)"
   ]
  },
  {
   "cell_type": "code",
   "execution_count": 12,
   "id": "79400c14-536b-4f3b-b86f-572c931ac6e4",
   "metadata": {},
   "outputs": [
    {
     "name": "stdout",
     "output_type": "stream",
     "text": [
      "{'0': -1.868768742002446}\n",
      "{'0': -0.6332290800922385}\n",
      "{'0': -0.7050184444842438}\n"
     ]
    }
   ],
   "source": [
    "ds2.show(3)"
   ]
  },
  {
   "cell_type": "code",
   "execution_count": null,
   "id": "ae45a9e4-590a-4c41-97f4-5deb86461325",
   "metadata": {},
   "outputs": [],
   "source": []
  }
 ],
 "metadata": {
  "kernelspec": {
   "display_name": "Python 3 (ipykernel)",
   "language": "python",
   "name": "python3"
  },
  "language_info": {
   "codemirror_mode": {
    "name": "ipython",
    "version": 3
   },
   "file_extension": ".py",
   "mimetype": "text/x-python",
   "name": "python",
   "nbconvert_exporter": "python",
   "pygments_lexer": "ipython3",
   "version": "3.8.12"
  }
 },
 "nbformat": 4,
 "nbformat_minor": 5
}
