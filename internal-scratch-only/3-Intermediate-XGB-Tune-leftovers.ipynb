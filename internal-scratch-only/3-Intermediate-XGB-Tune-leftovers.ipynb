{
 "cells": [
  {
   "cell_type": "markdown",
   "id": "8603a121-0939-4902-9675-082ddb551706",
   "metadata": {},
   "source": [
    "## LEFTOVERS TIME\n",
    "\n",
    "Here are a bunch of cells I don't want in the final notebook, but don't want to get rid of completely"
   ]
  },
  {
   "cell_type": "code",
   "execution_count": null,
   "id": "9bdef66d-cf93-450b-a22c-11d5633a7ffc",
   "metadata": {},
   "outputs": [],
   "source": []
  },
  {
   "cell_type": "markdown",
   "id": "6a081881-f9ec-4ce9-8521-ede65bd13f05",
   "metadata": {},
   "source": [
    "### Tune with sklearn API"
   ]
  },
  {
   "cell_type": "markdown",
   "id": "fb5ad013-e3b8-4638-9b89-5af2bbd984b2",
   "metadata": {},
   "source": [
    "Skip this for now, it is too much of a pain. Maybe try it again once I update things, but I need to stop spending time on this guy.\n",
    "\n",
    "It has memory leaks, it won't do the callback, last error was supremely unhelpful \"an actor died\"."
   ]
  },
  {
   "cell_type": "code",
   "execution_count": 9,
   "id": "7608b545-4df4-4fc3-a7df-bf3f6ba542b9",
   "metadata": {},
   "outputs": [
    {
     "data": {
      "text/html": [
       "== Status ==<br>Current time: 2022-10-17 13:29:59 (running for 00:00:23.52)<br>Memory usage on this node: 4.3/30.9 GiB<br>Using FIFO scheduling algorithm.<br>Resources requested: 0/3 CPUs, 0/0 GPUs, 0.0/7.87 GiB heap, 0.0/3.54 GiB objects<br>Result logdir: /domino/datasets/local/Ray-Tutorial/ray_results/my_trainer_2022-10-17_13-29-35<br>Number of trials: 4/4 (4 ERROR)<br><table>\n",
       "<thead>\n",
       "<tr><th>Trial name            </th><th>status  </th><th>loc             </th><th style=\"text-align: right;\">      eta</th><th style=\"text-align: right;\">  max_depth</th></tr>\n",
       "</thead>\n",
       "<tbody>\n",
       "<tr><td>my_trainer_6a544_00000</td><td>ERROR   </td><td>10.0.106.182:530</td><td style=\"text-align: right;\">0.0184061</td><td style=\"text-align: right;\">          4</td></tr>\n",
       "<tr><td>my_trainer_6a544_00001</td><td>ERROR   </td><td>10.0.106.182:636</td><td style=\"text-align: right;\">0.0116847</td><td style=\"text-align: right;\">          7</td></tr>\n",
       "<tr><td>my_trainer_6a544_00002</td><td>ERROR   </td><td>10.0.106.182:726</td><td style=\"text-align: right;\">0.0656046</td><td style=\"text-align: right;\">          5</td></tr>\n",
       "<tr><td>my_trainer_6a544_00003</td><td>ERROR   </td><td>10.0.106.182:828</td><td style=\"text-align: right;\">0.0175047</td><td style=\"text-align: right;\">          7</td></tr>\n",
       "</tbody>\n",
       "</table><br>Number of errored trials: 4<br><table>\n",
       "<thead>\n",
       "<tr><th>Trial name            </th><th style=\"text-align: right;\">  # failures</th><th>error file                                                                                                                                                    </th></tr>\n",
       "</thead>\n",
       "<tbody>\n",
       "<tr><td>my_trainer_6a544_00000</td><td style=\"text-align: right;\">           1</td><td>/domino/datasets/local/Ray-Tutorial/ray_results/my_trainer_2022-10-17_13-29-35/my_trainer_6a544_00000_0_eta=0.018406,max_depth=4_2022-10-17_13-29-36/error.txt</td></tr>\n",
       "<tr><td>my_trainer_6a544_00001</td><td style=\"text-align: right;\">           1</td><td>/domino/datasets/local/Ray-Tutorial/ray_results/my_trainer_2022-10-17_13-29-35/my_trainer_6a544_00001_1_eta=0.011685,max_depth=7_2022-10-17_13-29-39/error.txt</td></tr>\n",
       "<tr><td>my_trainer_6a544_00002</td><td style=\"text-align: right;\">           1</td><td>/domino/datasets/local/Ray-Tutorial/ray_results/my_trainer_2022-10-17_13-29-35/my_trainer_6a544_00002_2_eta=0.065605,max_depth=5_2022-10-17_13-29-43/error.txt</td></tr>\n",
       "<tr><td>my_trainer_6a544_00003</td><td style=\"text-align: right;\">           1</td><td>/domino/datasets/local/Ray-Tutorial/ray_results/my_trainer_2022-10-17_13-29-35/my_trainer_6a544_00003_3_eta=0.017505,max_depth=7_2022-10-17_13-29-48/error.txt</td></tr>\n",
       "</tbody>\n",
       "</table><br>"
      ],
      "text/plain": [
       "<IPython.core.display.HTML object>"
      ]
     },
     "metadata": {},
     "output_type": "display_data"
    },
    {
     "ename": "RayTaskError(TuneError)",
     "evalue": "\u001b[36mray::run()\u001b[39m (pid=465, ip=10.0.106.182)\n  File \"/home/ray/anaconda3/lib/python3.8/site-packages/ray/tune/tune.py\", line 620, in run\n    raise TuneError(\"Trials did not complete\", incomplete_trials)\nray.tune.error.TuneError: ('Trials did not complete', [my_trainer_6a544_00000, my_trainer_6a544_00001, my_trainer_6a544_00002, my_trainer_6a544_00003])",
     "output_type": "error",
     "traceback": [
      "\u001b[0;31m---------------------------------------------------------------------------\u001b[0m",
      "\u001b[0;31mRayTaskError(TuneError)\u001b[0m                   Traceback (most recent call last)",
      "Input \u001b[0;32mIn [9]\u001b[0m, in \u001b[0;36m<module>\u001b[0;34m\u001b[0m\n\u001b[1;32m     20\u001b[0m     \u001b[38;5;66;03m#xgbr_model.save_model(\"model.xgb\")\u001b[39;00m\n\u001b[1;32m     22\u001b[0m config \u001b[38;5;241m=\u001b[39m {\n\u001b[1;32m     23\u001b[0m     \u001b[38;5;66;03m#\"tree_method\": \"approx\",\u001b[39;00m\n\u001b[1;32m     24\u001b[0m     \u001b[38;5;124m\"\u001b[39m\u001b[38;5;124mrandom_state\u001b[39m\u001b[38;5;124m\"\u001b[39m: \u001b[38;5;241m42\u001b[39m,\n\u001b[0;32m   (...)\u001b[0m\n\u001b[1;32m     29\u001b[0m     \u001b[38;5;124m\"\u001b[39m\u001b[38;5;124mmax_depth\u001b[39m\u001b[38;5;124m\"\u001b[39m: tune\u001b[38;5;241m.\u001b[39mrandint(\u001b[38;5;241m4\u001b[39m, \u001b[38;5;241m8\u001b[39m)\n\u001b[1;32m     30\u001b[0m }\n\u001b[0;32m---> 32\u001b[0m analysis \u001b[38;5;241m=\u001b[39m \u001b[43mtune\u001b[49m\u001b[38;5;241;43m.\u001b[39;49m\u001b[43mrun\u001b[49m\u001b[43m(\u001b[49m\n\u001b[1;32m     33\u001b[0m \u001b[43m    \u001b[49m\u001b[43mmy_trainer\u001b[49m\u001b[43m,\u001b[49m\n\u001b[1;32m     34\u001b[0m \u001b[43m    \u001b[49m\u001b[43mconfig\u001b[49m\u001b[38;5;241;43m=\u001b[39;49m\u001b[43mconfig\u001b[49m\u001b[43m,\u001b[49m\n\u001b[1;32m     35\u001b[0m \u001b[43m    \u001b[49m\u001b[43mlocal_dir\u001b[49m\u001b[38;5;241;43m=\u001b[39;49m\u001b[43mtune_results_dir\u001b[49m\u001b[43m,\u001b[49m\u001b[43m \u001b[49m\u001b[38;5;66;43;03m# gotta change this to avoid permission denied on ~/ray_results\u001b[39;49;00m\n\u001b[1;32m     36\u001b[0m \u001b[43m    \u001b[49m\u001b[43msync_config\u001b[49m\u001b[38;5;241;43m=\u001b[39;49m\u001b[43mtune\u001b[49m\u001b[38;5;241;43m.\u001b[39;49m\u001b[43mSyncConfig\u001b[49m\u001b[43m(\u001b[49m\u001b[43msyncer\u001b[49m\u001b[38;5;241;43m=\u001b[39;49m\u001b[38;5;28;43;01mNone\u001b[39;49;00m\u001b[43m)\u001b[49m\u001b[43m,\u001b[49m\u001b[43m \u001b[49m\u001b[38;5;66;43;03m# gotta change this to avoid weird \"getpwuid(): uid not found: 12574\"\u001b[39;49;00m\n\u001b[1;32m     37\u001b[0m \u001b[43m    \u001b[49m\u001b[43mmetric\u001b[49m\u001b[38;5;241;43m=\u001b[39;49m\u001b[38;5;124;43m\"\u001b[39;49m\u001b[38;5;124;43meval-rmse\u001b[39;49m\u001b[38;5;124;43m\"\u001b[39;49m\u001b[43m,\u001b[49m\u001b[43m \u001b[49m\u001b[38;5;66;43;03m# need a serious digression here on how to find the errors\u001b[39;49;00m\n\u001b[1;32m     38\u001b[0m \u001b[43m    \u001b[49m\u001b[43mmode\u001b[49m\u001b[38;5;241;43m=\u001b[39;49m\u001b[38;5;124;43m\"\u001b[39;49m\u001b[38;5;124;43mmin\u001b[39;49m\u001b[38;5;124;43m\"\u001b[39;49m\u001b[43m,\u001b[49m\n\u001b[1;32m     39\u001b[0m \u001b[43m    \u001b[49m\u001b[43mnum_samples\u001b[49m\u001b[38;5;241;43m=\u001b[39;49m\u001b[38;5;241;43m4\u001b[39;49m\u001b[43m,\u001b[49m\n\u001b[1;32m     40\u001b[0m \u001b[43m    \u001b[49m\u001b[43mresources_per_trial\u001b[49m\u001b[38;5;241;43m=\u001b[39;49m\u001b[43mray_param\u001b[49m\u001b[38;5;241;43m.\u001b[39;49m\u001b[43mget_tune_resources\u001b[49m\u001b[43m(\u001b[49m\u001b[43m)\u001b[49m\u001b[43m,\u001b[49m\n\u001b[1;32m     41\u001b[0m \u001b[43m    \u001b[49m\u001b[43mverbose\u001b[49m\u001b[38;5;241;43m=\u001b[39;49m\u001b[38;5;241;43m1\u001b[39;49m\u001b[43m,\u001b[49m\n\u001b[1;32m     42\u001b[0m \u001b[43m    \u001b[49m\u001b[43mprogress_reporter\u001b[49m\u001b[38;5;241;43m=\u001b[39;49m\u001b[43mtune\u001b[49m\u001b[38;5;241;43m.\u001b[39;49m\u001b[43mJupyterNotebookReporter\u001b[49m\u001b[43m(\u001b[49m\u001b[43moverwrite\u001b[49m\u001b[38;5;241;43m=\u001b[39;49m\u001b[38;5;28;43;01mTrue\u001b[39;49;00m\u001b[43m)\u001b[49m\n\u001b[1;32m     43\u001b[0m \u001b[43m)\u001b[49m\n",
      "File \u001b[0;32m/opt/conda/lib/python3.8/site-packages/ray/tune/tune.py:365\u001b[0m, in \u001b[0;36mrun\u001b[0;34m(run_or_experiment, name, metric, mode, stop, time_budget_s, config, resources_per_trial, num_samples, local_dir, search_alg, scheduler, keep_checkpoints_num, checkpoint_score_attr, checkpoint_freq, checkpoint_at_end, verbose, progress_reporter, log_to_file, trial_name_creator, trial_dirname_creator, sync_config, export_formats, max_failures, fail_fast, restore, server_port, resume, reuse_actors, trial_executor, raise_on_failed_trial, callbacks, max_concurrent_trials, queue_trials, loggers, _remote)\u001b[0m\n\u001b[1;32m    362\u001b[0m     \u001b[38;5;66;03m# Handle queue one last time\u001b[39;00m\n\u001b[1;32m    363\u001b[0m     _handle_execute_queue()\n\u001b[0;32m--> 365\u001b[0m     \u001b[38;5;28;01mreturn\u001b[39;00m \u001b[43mray\u001b[49m\u001b[38;5;241;43m.\u001b[39;49m\u001b[43mget\u001b[49m\u001b[43m(\u001b[49m\u001b[43mremote_future\u001b[49m\u001b[43m)\u001b[49m\n\u001b[1;32m    367\u001b[0m \u001b[38;5;28;01mdel\u001b[39;00m remote_run_kwargs\n\u001b[1;32m    369\u001b[0m all_start \u001b[38;5;241m=\u001b[39m time\u001b[38;5;241m.\u001b[39mtime()\n",
      "File \u001b[0;32m/opt/conda/lib/python3.8/site-packages/ray/_private/client_mode_hook.py:104\u001b[0m, in \u001b[0;36mclient_mode_hook.<locals>.wrapper\u001b[0;34m(*args, **kwargs)\u001b[0m\n\u001b[1;32m    100\u001b[0m \u001b[38;5;28;01mif\u001b[39;00m client_mode_should_convert(auto_init\u001b[38;5;241m=\u001b[39mauto_init):\n\u001b[1;32m    101\u001b[0m     \u001b[38;5;66;03m# Legacy code\u001b[39;00m\n\u001b[1;32m    102\u001b[0m     \u001b[38;5;66;03m# we only convert init function if RAY_CLIENT_MODE=1\u001b[39;00m\n\u001b[1;32m    103\u001b[0m     \u001b[38;5;28;01mif\u001b[39;00m func\u001b[38;5;241m.\u001b[39m\u001b[38;5;18m__name__\u001b[39m \u001b[38;5;241m!=\u001b[39m \u001b[38;5;124m\"\u001b[39m\u001b[38;5;124minit\u001b[39m\u001b[38;5;124m\"\u001b[39m \u001b[38;5;129;01mor\u001b[39;00m is_client_mode_enabled_by_default:\n\u001b[0;32m--> 104\u001b[0m         \u001b[38;5;28;01mreturn\u001b[39;00m \u001b[38;5;28;43mgetattr\u001b[39;49m\u001b[43m(\u001b[49m\u001b[43mray\u001b[49m\u001b[43m,\u001b[49m\u001b[43m \u001b[49m\u001b[43mfunc\u001b[49m\u001b[38;5;241;43m.\u001b[39;49m\u001b[38;5;18;43m__name__\u001b[39;49m\u001b[43m)\u001b[49m\u001b[43m(\u001b[49m\u001b[38;5;241;43m*\u001b[39;49m\u001b[43margs\u001b[49m\u001b[43m,\u001b[49m\u001b[43m \u001b[49m\u001b[38;5;241;43m*\u001b[39;49m\u001b[38;5;241;43m*\u001b[39;49m\u001b[43mkwargs\u001b[49m\u001b[43m)\u001b[49m\n\u001b[1;32m    105\u001b[0m \u001b[38;5;28;01mreturn\u001b[39;00m func(\u001b[38;5;241m*\u001b[39margs, \u001b[38;5;241m*\u001b[39m\u001b[38;5;241m*\u001b[39mkwargs)\n",
      "File \u001b[0;32m/opt/conda/lib/python3.8/site-packages/ray/util/client/api.py:42\u001b[0m, in \u001b[0;36mClientAPI.get\u001b[0;34m(self, vals, timeout)\u001b[0m\n\u001b[1;32m     35\u001b[0m \u001b[38;5;28;01mdef\u001b[39;00m \u001b[38;5;21mget\u001b[39m(\u001b[38;5;28mself\u001b[39m, vals, \u001b[38;5;241m*\u001b[39m, timeout\u001b[38;5;241m=\u001b[39m\u001b[38;5;28;01mNone\u001b[39;00m):\n\u001b[1;32m     36\u001b[0m     \u001b[38;5;124;03m\"\"\"get is the hook stub passed on to replace `ray.get`\u001b[39;00m\n\u001b[1;32m     37\u001b[0m \n\u001b[1;32m     38\u001b[0m \u001b[38;5;124;03m    Args:\u001b[39;00m\n\u001b[1;32m     39\u001b[0m \u001b[38;5;124;03m        vals: [Client]ObjectRef or list of these refs to retrieve.\u001b[39;00m\n\u001b[1;32m     40\u001b[0m \u001b[38;5;124;03m        timeout: Optional timeout in milliseconds\u001b[39;00m\n\u001b[1;32m     41\u001b[0m \u001b[38;5;124;03m    \"\"\"\u001b[39;00m\n\u001b[0;32m---> 42\u001b[0m     \u001b[38;5;28;01mreturn\u001b[39;00m \u001b[38;5;28;43mself\u001b[39;49m\u001b[38;5;241;43m.\u001b[39;49m\u001b[43mworker\u001b[49m\u001b[38;5;241;43m.\u001b[39;49m\u001b[43mget\u001b[49m\u001b[43m(\u001b[49m\u001b[43mvals\u001b[49m\u001b[43m,\u001b[49m\u001b[43m \u001b[49m\u001b[43mtimeout\u001b[49m\u001b[38;5;241;43m=\u001b[39;49m\u001b[43mtimeout\u001b[49m\u001b[43m)\u001b[49m\n",
      "File \u001b[0;32m/opt/conda/lib/python3.8/site-packages/ray/util/client/worker.py:359\u001b[0m, in \u001b[0;36mWorker.get\u001b[0;34m(self, vals, timeout)\u001b[0m\n\u001b[1;32m    357\u001b[0m     op_timeout \u001b[38;5;241m=\u001b[39m MAX_BLOCKING_OPERATION_TIME_S\n\u001b[1;32m    358\u001b[0m \u001b[38;5;28;01mtry\u001b[39;00m:\n\u001b[0;32m--> 359\u001b[0m     res \u001b[38;5;241m=\u001b[39m \u001b[38;5;28;43mself\u001b[39;49m\u001b[38;5;241;43m.\u001b[39;49m\u001b[43m_get\u001b[49m\u001b[43m(\u001b[49m\u001b[43mto_get\u001b[49m\u001b[43m,\u001b[49m\u001b[43m \u001b[49m\u001b[43mop_timeout\u001b[49m\u001b[43m)\u001b[49m\n\u001b[1;32m    360\u001b[0m     \u001b[38;5;28;01mbreak\u001b[39;00m\n\u001b[1;32m    361\u001b[0m \u001b[38;5;28;01mexcept\u001b[39;00m GetTimeoutError:\n",
      "File \u001b[0;32m/opt/conda/lib/python3.8/site-packages/ray/util/client/worker.py:386\u001b[0m, in \u001b[0;36mWorker._get\u001b[0;34m(self, ref, timeout)\u001b[0m\n\u001b[1;32m    384\u001b[0m         logger\u001b[38;5;241m.\u001b[39mexception(\u001b[38;5;124m\"\u001b[39m\u001b[38;5;124mFailed to deserialize \u001b[39m\u001b[38;5;132;01m{}\u001b[39;00m\u001b[38;5;124m\"\u001b[39m\u001b[38;5;241m.\u001b[39mformat(resp\u001b[38;5;241m.\u001b[39merror))\n\u001b[1;32m    385\u001b[0m         \u001b[38;5;28;01mraise\u001b[39;00m\n\u001b[0;32m--> 386\u001b[0m     \u001b[38;5;28;01mraise\u001b[39;00m err\n\u001b[1;32m    387\u001b[0m \u001b[38;5;28;01mreturn\u001b[39;00m loads_from_server(resp\u001b[38;5;241m.\u001b[39mdata)\n",
      "\u001b[0;31mRayTaskError(TuneError)\u001b[0m: \u001b[36mray::run()\u001b[39m (pid=465, ip=10.0.106.182)\n  File \"/home/ray/anaconda3/lib/python3.8/site-packages/ray/tune/tune.py\", line 620, in run\n    raise TuneError(\"Trials did not complete\", incomplete_trials)\nray.tune.error.TuneError: ('Trials did not complete', [my_trainer_6a544_00000, my_trainer_6a544_00001, my_trainer_6a544_00002, my_trainer_6a544_00003])"
     ]
    }
   ],
   "source": [
    "from ray.tune.integration.xgboost import TuneReportCheckpointCallback\n",
    "# Using this as a reference for the sklearn API way where I do callback stuff myself\n",
    "# https://docs.ray.io/en/releases-1.11.0/tune/tutorials/tune-xgboost.html\n",
    "dtrain = xgbr.RayDMatrix(X_train, y_train)\n",
    "dtest = xgbr.RayDMatrix(X_test, y_test)\n",
    "def my_trainer(config):\n",
    "    evals_result = {}\n",
    "    xgbr_model = xgbr.RayXGBRegressor(**config)\n",
    "    #    n_jobs=3,  # In XGBoost-Ray, n_jobs sets the number of actors\n",
    "    #    random_state=42,\n",
    "    #    objective='reg:tweedie',\n",
    "        #use_label_encoder=False,\n",
    "        #eval_metric=mean_poisson_deviance\n",
    "    #)\n",
    "    xgbr_model.fit(dtrain, None, ray_params=ray_param, eval_metric=\"rmse\", callbacks=[TuneReportCheckpointCallback])\n",
    "    predictions = xgbr_model.predict(X_test) \n",
    "    actuals = y_test\n",
    "    score = mean_poisson_deviance(predictions, actuals)\n",
    "    tune.report(score=score)\n",
    "    #xgbr_model.save_model(\"model.xgb\")\n",
    "\n",
    "config = {\n",
    "    #\"tree_method\": \"approx\",\n",
    "    \"random_state\": 42,\n",
    "    \"objective\": \"reg:gamma\",\n",
    "    #\"objective\": \"reg:squarederror\",\n",
    "    #\"eval_metric\": \"rmse\",\n",
    "    \"eta\": tune.loguniform(3e-3, 3e-1),\n",
    "    \"max_depth\": tune.randint(4, 8)\n",
    "}\n",
    "\n",
    "analysis = tune.run(\n",
    "    my_trainer,\n",
    "    config=config,\n",
    "    local_dir=tune_results_dir, # gotta change this to avoid permission denied on ~/ray_results\n",
    "    sync_config=tune.SyncConfig(syncer=None), # gotta change this to avoid weird \"getpwuid(): uid not found: 12574\"\n",
    "    metric=\"eval-rmse\", # need a serious digression here on how to find the errors\n",
    "    mode=\"min\",\n",
    "    num_samples=4,\n",
    "    resources_per_trial=ray_param.get_tune_resources(),\n",
    "    verbose=1,\n",
    "    progress_reporter=tune.JupyterNotebookReporter(overwrite=True)\n",
    ")"
   ]
  },
  {
   "cell_type": "markdown",
   "id": "9d4233f7-35c7-4ba8-bd80-6a6ab790d195",
   "metadata": {},
   "source": [
    "# Minimal Example (old iris one)\n",
    "Use Iris example to validate packages etc."
   ]
  },
  {
   "cell_type": "code",
   "execution_count": 1,
   "id": "d6c31a91-702d-4f41-b8de-9496f43cea58",
   "metadata": {},
   "outputs": [],
   "source": [
    "from sklearn.datasets import load_iris\n",
    "from sklearn.model_selection import train_test_split\n",
    "\n",
    "X, y = load_iris(return_X_y=True)\n",
    "X_train, X_test, y_train, y_test = train_test_split(X, y, test_size=0.3, random_state=42)"
   ]
  },
  {
   "cell_type": "code",
   "execution_count": 2,
   "id": "43f1a461-c5ad-4578-bf75-ee4143fd9569",
   "metadata": {},
   "outputs": [
    {
     "name": "stdout",
     "output_type": "stream",
     "text": [
      "[16:07:23] WARNING: ../src/learner.cc:1061: Starting in XGBoost 1.3.0, the default evaluation metric used with the objective 'multi:softprob' was changed from 'merror' to 'mlogloss'. Explicitly set eval_metric if you'd like to restore the old behavior.\n",
      "[[19  0  0]\n",
      " [ 0 13  0]\n",
      " [ 0  0 13]]\n"
     ]
    }
   ],
   "source": [
    "from sklearn.metrics import confusion_matrix\n",
    "import xgboost as xgb\n",
    "\n",
    "# Play with some of these params:\n",
    "# https://xgboost.readthedocs.io/en/stable/python/python_api.html#xgboost.XGBClassifier\n",
    "xgb_model = xgb.XGBClassifier(\n",
    "    n_jobs=1,\n",
    "    random_state=42,\n",
    "    use_label_encoder=False\n",
    ").fit(X_train, y_train) \n",
    "predictions = xgb_model.predict(X_test) \n",
    "actuals = y_test\n",
    "print(confusion_matrix(actuals, predictions)) \n"
   ]
  },
  {
   "cell_type": "code",
   "execution_count": 3,
   "id": "f36ea307-3196-489a-9264-09c462b1f630",
   "metadata": {},
   "outputs": [],
   "source": [
    "import ray\n",
    "import os\n",
    "\n",
    "if ray.is_initialized() == False:\n",
    "    service_host = os.environ[\"RAY_HEAD_SERVICE_HOST\"]\n",
    "    service_port = os.environ[\"RAY_HEAD_SERVICE_PORT\"]\n",
    "    ray.init(f\"ray://{service_host}:{service_port}\")"
   ]
  },
  {
   "cell_type": "code",
   "execution_count": 4,
   "id": "a0790f77-e00c-42bc-a21c-4b138418218a",
   "metadata": {},
   "outputs": [],
   "source": [
    "import xgboost_ray as xgbray\n",
    "train_set = xgbray.RayDMatrix(X_train, y_train)\n"
   ]
  },
  {
   "cell_type": "code",
   "execution_count": 16,
   "id": "1061e87c-7877-4dd1-9421-e0bf2ec6bd8f",
   "metadata": {},
   "outputs": [
    {
     "name": "stderr",
     "output_type": "stream",
     "text": [
      "UserWarning: You are using `xgboost_ray` with a legacy XGBoost version (version 1.3.3). While we try to support older XGBoost versions, please note that this library is only fully tested and supported for XGBoost >= 1.4. Please consider upgrading your XGBoost version (`pip install -U xgboost`).\n"
     ]
    }
   ],
   "source": [
    "xgbray_model = xgbray.RayXGBClassifier(\n",
    "    n_jobs=3,  # In XGBoost-Ray, n_jobs sets the number of actors\n",
    "    random_state=42,\n",
    "    use_label_encoder=False\n",
    ")\n"
   ]
  },
  {
   "cell_type": "code",
   "execution_count": 17,
   "id": "b135ffb3-e001-47a0-80d9-7a02c9f721dc",
   "metadata": {},
   "outputs": [
    {
     "name": "stderr",
     "output_type": "stream",
     "text": [
      "\u001b[2m\u001b[36m(_wrapped pid=219)\u001b[0m 2022-10-16 09:21:58,045\tINFO main.py:926 -- [RayXGBoost] Created 3 new actors (3 total actors). Waiting until actors are ready for training.\n",
      "\u001b[2m\u001b[36m(_RemoteRayXGBoostActor pid=77, ip=10.0.59.16)\u001b[0m [09:21:59] task [xgboost.ray]:140375377122976 got new rank 2\n",
      "\u001b[2m\u001b[36m(_wrapped pid=219)\u001b[0m 2022-10-16 09:21:59,653\tINFO main.py:971 -- [RayXGBoost] Starting XGBoost training.\n",
      "\u001b[2m\u001b[36m(_RemoteRayXGBoostActor pid=521)\u001b[0m [09:21:59] task [xgboost.ray]:139886842213760 got new rank 0\n",
      "\u001b[2m\u001b[36m(_RemoteRayXGBoostActor pid=201, ip=10.0.42.51)\u001b[0m [09:21:59] task [xgboost.ray]:140319019763360 got new rank 1\n",
      "\u001b[2m\u001b[36m(_RemoteRayXGBoostActor pid=201, ip=10.0.42.51)\u001b[0m [09:21:59] WARNING: ../src/learner.cc:1061: Starting in XGBoost 1.3.0, the default evaluation metric used with the objective 'multi:softprob' was changed from 'merror' to 'mlogloss'. Explicitly set eval_metric if you'd like to restore the old behavior.\n",
      "\u001b[2m\u001b[36m(_RemoteRayXGBoostActor pid=77, ip=10.0.59.16)\u001b[0m [09:21:59] WARNING: ../src/learner.cc:1061: Starting in XGBoost 1.3.0, the default evaluation metric used with the objective 'multi:softprob' was changed from 'merror' to 'mlogloss'. Explicitly set eval_metric if you'd like to restore the old behavior.\n",
      "\u001b[2m\u001b[36m(_RemoteRayXGBoostActor pid=521)\u001b[0m [09:21:59] WARNING: ../src/learner.cc:1061: Starting in XGBoost 1.3.0, the default evaluation metric used with the objective 'multi:softprob' was changed from 'merror' to 'mlogloss'. Explicitly set eval_metric if you'd like to restore the old behavior.\n",
      "\u001b[2m\u001b[36m(_wrapped pid=219)\u001b[0m 2022-10-16 09:22:11,457\tINFO main.py:1450 -- [RayXGBoost] Finished XGBoost training on training data with total N=105 in 18.32 seconds (11.80 pure XGBoost training time).\n"
     ]
    },
    {
     "data": {
      "text/plain": [
       "RayXGBClassifier(base_score=0.5, booster='gbtree', colsample_bylevel=1,\n",
       "                 colsample_bynode=1, colsample_bytree=1, gamma=0, gpu_id=-1,\n",
       "                 importance_type='gain', interaction_constraints='',\n",
       "                 learning_rate=0.300000012, max_delta_step=0, max_depth=6,\n",
       "                 min_child_weight=1, missing=nan, monotone_constraints='()',\n",
       "                 n_estimators=100, n_jobs=3, num_parallel_tree=1,\n",
       "                 objective='multi:softprob', random_state=42, reg_alpha=0,\n",
       "                 reg_lambda=1, scale_pos_weight=None, subsample=1,\n",
       "                 tree_method='approx', use_label_encoder=False,\n",
       "                 validate_parameters=1, verbosity=None)"
      ]
     },
     "execution_count": 17,
     "metadata": {},
     "output_type": "execute_result"
    }
   ],
   "source": [
    "# This can result in an error:\n",
    "#  \"ModuleNotFoundError: No module named 'tblib'\"\n",
    "# if tblib is not installed on the workspace environment\n",
    "xgbray_model.fit(X_train, y_train)"
   ]
  },
  {
   "cell_type": "code",
   "execution_count": 18,
   "id": "b7fee529-d30c-4ddf-ac77-41289bae6677",
   "metadata": {},
   "outputs": [
    {
     "name": "stderr",
     "output_type": "stream",
     "text": [
      "\u001b[2m\u001b[36m(predict pid=219)\u001b[0m 2022-10-16 09:22:27,175\tINFO main.py:1490 -- [RayXGBoost] Created 3 remote actors.\n"
     ]
    }
   ],
   "source": [
    "# This can result in an error:\n",
    "#  \"TypeError: predict() got an unexpected keyword argument 'iteration_range'\"\n",
    "#  if xgboost does not match across workspace and cluster\n",
    "#  (seen with workspace xgboost 1.5.2 and cluster xgboost 1.3.3)\n",
    "pred_ray = xgbray_model.predict(X_test)"
   ]
  },
  {
   "cell_type": "code",
   "execution_count": 19,
   "id": "26b15364-6c9f-4210-bd99-155c64a27970",
   "metadata": {},
   "outputs": [
    {
     "data": {
      "text/plain": [
       "array([1, 0, 2, 1, 1, 0, 1, 2, 1, 1, 2, 0, 0, 0, 0, 1, 2, 1, 1, 2, 0, 2,\n",
       "       0, 2, 2, 2, 2, 2, 0, 0, 0, 0, 1, 0, 0, 2, 1, 0, 0, 0, 2, 1, 1, 0,\n",
       "       0])"
      ]
     },
     "execution_count": 19,
     "metadata": {},
     "output_type": "execute_result"
    }
   ],
   "source": [
    "pred_ray"
   ]
  },
  {
   "cell_type": "code",
   "execution_count": 20,
   "id": "250df117-14e4-4329-bbbb-79efbf1d27fd",
   "metadata": {},
   "outputs": [
    {
     "data": {
      "text/plain": [
       "array([[19,  0,  0],\n",
       "       [ 0, 13,  0],\n",
       "       [ 0,  0, 13]])"
      ]
     },
     "execution_count": 20,
     "metadata": {},
     "output_type": "execute_result"
    }
   ],
   "source": [
    "confusion_matrix(actuals, pred_ray)"
   ]
  },
  {
   "cell_type": "code",
   "execution_count": 21,
   "id": "e79a633a-2344-4858-8bff-efa670fc6fd5",
   "metadata": {},
   "outputs": [
    {
     "name": "stderr",
     "output_type": "stream",
     "text": [
      "A worker died or was killed while executing a task by an unexpected system error. To troubleshoot the problem, check the logs for the dead worker. RayTask ID: ffffffffffffffffbd06aeef78adce52ce0d5ef401000000 Worker ID: 2aa6b173d1acc23d4a112316250fea4fe77560efaed672ef02676859 Node ID: 1f1a7582775718123e59a0aecba0aac17958a709e6c9d325c2974922 Worker IP address: 10.0.113.219 Worker port: 10011 Worker PID: 582\n",
      "\u001b[2m\u001b[36m(predict pid=219)\u001b[0m 2022-10-16 09:22:30,565\tINFO main.py:1507 -- [RayXGBoost] Starting XGBoost prediction.\n"
     ]
    }
   ],
   "source": [
    "xgbray_model.save_model(\"model.xgb\")"
   ]
  },
  {
   "cell_type": "code",
   "execution_count": 22,
   "id": "52485ab4-168a-4633-8c3b-d58a1a469f42",
   "metadata": {},
   "outputs": [],
   "source": [
    "xgbray_model = xgb.Booster(model_file=\"model.xgb\")"
   ]
  },
  {
   "cell_type": "code",
   "execution_count": 23,
   "id": "2724d0bf-3729-4017-91b5-a1b498359307",
   "metadata": {},
   "outputs": [
    {
     "name": "stderr",
     "output_type": "stream",
     "text": [
      "\u001b[2m\u001b[36m(predict pid=219)\u001b[0m 2022-10-16 09:22:51,347\tINFO main.py:1490 -- [RayXGBoost] Created 2 remote actors.\n"
     ]
    },
    {
     "name": "stdout",
     "output_type": "stream",
     "text": [
      "[[2.24131113e-03 9.88115311e-01 9.64334048e-03]\n",
      " [9.83814895e-01 1.48946904e-02 1.29038270e-03]\n",
      " [4.66208701e-04 2.38856534e-03 9.97145236e-01]\n",
      " [1.86032848e-03 9.86977160e-01 1.11625614e-02]\n",
      " [3.16508673e-03 9.68412161e-01 2.84227841e-02]\n",
      " [9.92588520e-01 6.10954128e-03 1.30189036e-03]\n",
      " [5.25772432e-03 9.93141353e-01 1.60099554e-03]\n",
      " [2.31618597e-03 1.23781925e-02 9.85305607e-01]\n",
      " [1.21991476e-03 9.54050660e-01 4.47293557e-02]\n",
      " [1.92491431e-03 9.97014761e-01 1.06028316e-03]\n",
      " [3.55823454e-03 1.90159660e-02 9.77425754e-01]\n",
      " [9.95287895e-01 3.28664947e-03 1.42548338e-03]\n",
      " [9.88850653e-01 9.85232182e-03 1.29698764e-03]\n",
      " [9.95393991e-01 3.28699965e-03 1.31905486e-03]\n",
      " [9.95407343e-01 3.28704366e-03 1.30558747e-03]\n",
      " [1.23849756e-03 9.92311537e-01 6.44996716e-03]\n",
      " [4.24794620e-04 1.08198158e-03 9.98493195e-01]\n",
      " [2.42856308e-03 9.94871795e-01 2.69956584e-03]\n",
      " [4.18672757e-03 9.91830409e-01 3.98287782e-03]\n",
      " [2.70034914e-04 6.27312518e-04 9.99102712e-01]\n",
      " [9.95407343e-01 3.28704366e-03 1.30558747e-03]\n",
      " [1.49010075e-03 7.40873590e-02 9.24422562e-01]\n",
      " [9.95407343e-01 3.28704366e-03 1.30558747e-03]\n",
      " [2.70034914e-04 6.27312518e-04 9.99102712e-01]\n",
      " [1.18816691e-03 3.02634272e-03 9.95785415e-01]\n",
      " [4.70314844e-04 1.19792472e-03 9.98331726e-01]\n",
      " [4.66208701e-04 2.38856534e-03 9.97145236e-01]\n",
      " [1.18816691e-03 3.02634272e-03 9.95785415e-01]\n",
      " [9.95287895e-01 3.28664947e-03 1.42548338e-03]\n",
      " [9.95393991e-01 3.28699965e-03 1.31905486e-03]\n",
      " [9.95407343e-01 3.28704366e-03 1.30558747e-03]\n",
      " [9.83814895e-01 1.48946904e-02 1.29038270e-03]\n",
      " [2.27587414e-03 9.95406270e-01 2.31791288e-03]\n",
      " [9.95407343e-01 3.28704366e-03 1.30558747e-03]\n",
      " [9.95407343e-01 3.28704366e-03 1.30558747e-03]\n",
      " [5.98840008e-04 5.10121742e-03 9.94299889e-01]\n",
      " [2.26097088e-03 9.88887966e-01 8.85111373e-03]\n",
      " [9.94846344e-01 3.84885189e-03 1.30485161e-03]\n",
      " [9.95407343e-01 3.28704366e-03 1.30558747e-03]\n",
      " [9.94846344e-01 3.84885189e-03 1.30485161e-03]\n",
      " [2.35204073e-03 7.56327994e-03 9.90084648e-01]\n",
      " [1.02105434e-03 9.92353678e-01 6.62520900e-03]\n",
      " [2.47905799e-03 9.87878740e-01 9.64219030e-03]\n",
      " [9.92588520e-01 6.10954128e-03 1.30189036e-03]\n",
      " [9.92588520e-01 6.10954128e-03 1.30189036e-03]]\n"
     ]
    },
    {
     "name": "stderr",
     "output_type": "stream",
     "text": [
      "\u001b[2m\u001b[36m(predict pid=219)\u001b[0m 2022-10-16 09:22:54,253\tINFO main.py:1507 -- [RayXGBoost] Starting XGBoost prediction.\n"
     ]
    }
   ],
   "source": [
    "pred_ray_2 = xgbray.predict(xgbray_model, xgbray.RayDMatrix(X_test, y_test),ray_params=xgbray.RayParams(num_actors=2))\n",
    "print(pred_ray_2)\n"
   ]
  },
  {
   "cell_type": "code",
   "execution_count": 13,
   "id": "fd8ccd87-601c-4c54-b121-1421f348a169",
   "metadata": {},
   "outputs": [
    {
     "data": {
      "text/plain": [
       "array([1, 0, 2, 1, 1, 0, 1, 2, 1, 1, 2, 0, 0, 0, 0, 1, 2, 1, 1, 2, 0, 2,\n",
       "       0, 2, 2, 2, 2, 2, 0, 0, 0, 0, 1, 0, 0, 2, 1, 0, 0, 0, 2, 1, 1, 0,\n",
       "       0])"
      ]
     },
     "execution_count": 13,
     "metadata": {},
     "output_type": "execute_result"
    }
   ],
   "source": [
    "import numpy as np\n",
    "np.argmax(pred_ray_2, axis=1)"
   ]
  },
  {
   "cell_type": "code",
   "execution_count": 14,
   "id": "dc7e0b2a-4882-4e40-be71-2a23d6e13e88",
   "metadata": {},
   "outputs": [
    {
     "data": {
      "text/plain": [
       "array([[19,  0,  0],\n",
       "       [ 0, 13,  0],\n",
       "       [ 0,  0, 13]])"
      ]
     },
     "execution_count": 14,
     "metadata": {},
     "output_type": "execute_result"
    }
   ],
   "source": [
    "confusion_matrix(actuals, np.argmax(pred_ray_2, axis=1))"
   ]
  },
  {
   "cell_type": "code",
   "execution_count": 15,
   "id": "d7d412f3-8ee6-483d-8fc9-9557c41bc678",
   "metadata": {},
   "outputs": [
    {
     "data": {
      "text/plain": [
       "array([0.99999994, 0.99999994, 1.        , 1.        , 1.        ,\n",
       "       0.99999994, 1.0000001 , 1.        , 0.99999994, 1.        ,\n",
       "       0.99999994, 1.        , 1.        , 1.0000001 , 0.99999994,\n",
       "       1.        , 1.        , 0.99999994, 1.        , 1.        ,\n",
       "       0.99999994, 1.        , 0.99999994, 1.        , 0.99999994,\n",
       "       0.99999994, 1.        , 0.99999994, 1.        , 1.0000001 ,\n",
       "       0.99999994, 0.99999994, 1.0000001 , 0.99999994, 0.99999994,\n",
       "       0.99999994, 1.0000001 , 1.        , 0.99999994, 1.        ,\n",
       "       0.99999994, 0.99999994, 1.        , 0.99999994, 0.99999994],\n",
       "      dtype=float32)"
      ]
     },
     "execution_count": 15,
     "metadata": {},
     "output_type": "execute_result"
    }
   ],
   "source": [
    "# sanity check the probabilities\n",
    "np.sum(pred_ray_2, axis=1)"
   ]
  }
 ],
 "metadata": {
  "kernelspec": {
   "display_name": "Python 3 (ipykernel)",
   "language": "python",
   "name": "python3"
  },
  "language_info": {
   "codemirror_mode": {
    "name": "ipython",
    "version": 3
   },
   "file_extension": ".py",
   "mimetype": "text/x-python",
   "name": "python",
   "nbconvert_exporter": "python",
   "pygments_lexer": "ipython3",
   "version": "3.8.12"
  }
 },
 "nbformat": 4,
 "nbformat_minor": 5
}
