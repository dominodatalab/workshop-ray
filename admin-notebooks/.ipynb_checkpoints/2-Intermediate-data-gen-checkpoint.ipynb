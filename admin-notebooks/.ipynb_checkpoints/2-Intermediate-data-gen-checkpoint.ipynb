{
 "cells": [
  {
   "cell_type": "markdown",
   "id": "5cae14e2-5742-4f59-a78e-b70c94dae7c3",
   "metadata": {},
   "source": [
    "# Generate dummy data for tutorial notebook 2"
   ]
  },
  {
   "cell_type": "markdown",
   "id": "ede8c7e0-b688-409c-b787-86e039d7c01c",
   "metadata": {},
   "source": [
    "The second tutorial notebook (Intermediate Ray Core and Large Data) involves reading in parquet files that contain randomly generated x,y points.\n",
    "This notebook will generate those files.\n",
    "\n",
    "This notebook should be run on a Large hardware tier, with no need to attach any cluster.\n",
    "By default, it will generate files in the default dataset of the current project; adjust this accordingly if "
   ]
  },
  {
   "cell_type": "code",
   "execution_count": 1,
   "id": "84f013de-80b0-43be-a50c-b6f6b617d2c1",
   "metadata": {},
   "outputs": [],
   "source": [
    "#If pyarrow is not already 7.0.0 may need this\n",
    "#!pip install pyarrow==7.0.0 --user"
   ]
  },
  {
   "cell_type": "code",
   "execution_count": 1,
   "id": "4f944751-d550-4ae1-a08d-d28fe851cfa4",
   "metadata": {},
   "outputs": [],
   "source": [
    "import os\n",
    "import numpy as np\n",
    "import pyarrow as pa\n",
    "import pyarrow.parquet as pq\n",
    "import pyarrow.dataset as pds"
   ]
  },
  {
   "cell_type": "code",
   "execution_count": 2,
   "id": "d790e618-8bc7-45c8-94ae-1145090569fe",
   "metadata": {},
   "outputs": [
    {
     "data": {
      "text/plain": [
       "'7.0.0'"
      ]
     },
     "execution_count": 2,
     "metadata": {},
     "output_type": "execute_result"
    }
   ],
   "source": [
    "pa.__version__"
   ]
  },
  {
   "cell_type": "code",
   "execution_count": 3,
   "id": "b5b8cd47-38f7-4f3c-963d-cd30781582af",
   "metadata": {},
   "outputs": [],
   "source": [
    "dataset_path = f\"/domino/datasets/local/{os.environ['DOMINO_PROJECT_NAME']}\"\n",
    "#dataset_path = f\"/domino/datasets/local/Points-For-Pi-Approximation\""
   ]
  },
  {
   "cell_type": "code",
   "execution_count": 4,
   "id": "a41e652f-1b6f-48e1-acc6-c8ffc265c788",
   "metadata": {},
   "outputs": [],
   "source": [
    "def generate_dummy_points(n_rows, name, n_parts = None):\n",
    "    dummy_file_root = os.path.join(dataset_path, name)\n",
    "    table = pa.Table.from_pydict({name: np.random.uniform(size=n_rows) for name in ['x', 'y']})\n",
    "    if n_parts is None:\n",
    "        pq.write_table(table, dummy_file_root + \".parquet\")\n",
    "    else:\n",
    "        n_per = n_rows // n_parts\n",
    "        pds.write_dataset(\n",
    "            table,\n",
    "            dummy_file_root,\n",
    "            format='parquet',\n",
    "            max_rows_per_file = n_per,\n",
    "            max_rows_per_group = n_per,\n",
    "        )"
   ]
  },
  {
   "cell_type": "code",
   "execution_count": 6,
   "id": "5576558d-564f-4c11-a33a-5e57de100365",
   "metadata": {},
   "outputs": [],
   "source": [
    "generate_dummy_points(10**6, \"points_1e6\")"
   ]
  },
  {
   "cell_type": "code",
   "execution_count": 7,
   "id": "f925ab19-86d6-44d4-a312-d901855f3b03",
   "metadata": {},
   "outputs": [
    {
     "name": "stdout",
     "output_type": "stream",
     "text": [
      "16M\t/domino/datasets/local/ray-tutorial/points_1e6.parquet\n"
     ]
    }
   ],
   "source": [
    "!du -sh {dataset_path}/points_1e6.parquet"
   ]
  },
  {
   "cell_type": "code",
   "execution_count": 8,
   "id": "ffaf3179-d352-442c-b294-d60c036a2ac7",
   "metadata": {},
   "outputs": [],
   "source": [
    "generate_dummy_points(3*10**6, \"points_3e6\")"
   ]
  },
  {
   "cell_type": "code",
   "execution_count": 9,
   "id": "6c9875fc-9f21-41e0-b977-5d47f706c38e",
   "metadata": {},
   "outputs": [
    {
     "name": "stdout",
     "output_type": "stream",
     "text": [
      "47M\t/domino/datasets/local/ray-tutorial/points_3e6.parquet\n"
     ]
    }
   ],
   "source": [
    "!du -sh {dataset_path}/points_3e6.parquet"
   ]
  },
  {
   "cell_type": "code",
   "execution_count": 10,
   "id": "2f302200-6376-47d5-8d4b-ec374b4118fb",
   "metadata": {},
   "outputs": [],
   "source": [
    "generate_dummy_points(10**7, \"points_1e7\")"
   ]
  },
  {
   "cell_type": "code",
   "execution_count": 11,
   "id": "5da9b023-f6f5-48c2-9510-aa41e7adf0b0",
   "metadata": {},
   "outputs": [
    {
     "name": "stdout",
     "output_type": "stream",
     "text": [
      "154M\t/domino/datasets/local/ray-tutorial/points_1e7.parquet\n"
     ]
    }
   ],
   "source": [
    "!du -sh {dataset_path}/points_1e7.parquet"
   ]
  },
  {
   "cell_type": "code",
   "execution_count": 12,
   "id": "81770787-fa5e-486b-a371-26f79f17ed39",
   "metadata": {},
   "outputs": [],
   "source": [
    "generate_dummy_points(3*10**7, \"points_3e7\")"
   ]
  },
  {
   "cell_type": "code",
   "execution_count": 13,
   "id": "1e7b645e-cabc-48bf-b27e-df15dc110218",
   "metadata": {},
   "outputs": [
    {
     "name": "stdout",
     "output_type": "stream",
     "text": [
      "459M\t/domino/datasets/local/ray-tutorial/points_3e7.parquet\n"
     ]
    }
   ],
   "source": [
    "!du -sh {dataset_path}/points_3e7.parquet"
   ]
  },
  {
   "cell_type": "code",
   "execution_count": 14,
   "id": "0d9bce80-db31-45a2-87ee-96fb29dd9524",
   "metadata": {},
   "outputs": [],
   "source": [
    "generate_dummy_points(3*10**7, \"points_3e7_split10\", n_parts=10)"
   ]
  },
  {
   "cell_type": "code",
   "execution_count": 15,
   "id": "d8288a74-100e-4632-88a9-8195db43dd79",
   "metadata": {},
   "outputs": [
    {
     "name": "stdout",
     "output_type": "stream",
     "text": [
      "478M\t/domino/datasets/local/ray-tutorial/points_3e7_split10\n"
     ]
    }
   ],
   "source": [
    "!du -sh {dataset_path}/points_3e7_split10"
   ]
  },
  {
   "cell_type": "code",
   "execution_count": 16,
   "id": "cbcfd4ab-a5da-45b8-8086-5d3324096478",
   "metadata": {},
   "outputs": [],
   "source": [
    "generate_dummy_points(10**8, \"points_1e8\")"
   ]
  },
  {
   "cell_type": "code",
   "execution_count": 17,
   "id": "ad8b1dfb-c66d-4575-980e-75eaa8644b54",
   "metadata": {},
   "outputs": [
    {
     "name": "stdout",
     "output_type": "stream",
     "text": [
      "1.5G\t/domino/datasets/local/ray-tutorial/points_1e8.parquet\n"
     ]
    }
   ],
   "source": [
    "!du -sh {dataset_path}/points_1e8.parquet"
   ]
  },
  {
   "cell_type": "code",
   "execution_count": 18,
   "id": "648c3aeb-3c68-4737-806c-3e14aa48f6c3",
   "metadata": {},
   "outputs": [],
   "source": [
    "generate_dummy_points(10**8, \"points_1e8_split10\", n_parts=10)"
   ]
  },
  {
   "cell_type": "code",
   "execution_count": 19,
   "id": "96a06be6-001e-4015-928d-293a312b0685",
   "metadata": {},
   "outputs": [
    {
     "name": "stdout",
     "output_type": "stream",
     "text": [
      "1.6G\t/domino/datasets/local/ray-tutorial/points_1e8_split10\n"
     ]
    }
   ],
   "source": [
    "!du -sh {dataset_path}/points_1e8_split10"
   ]
  },
  {
   "cell_type": "code",
   "execution_count": 5,
   "id": "9d466e3f-6d27-4f13-8fa3-c5941432449f",
   "metadata": {},
   "outputs": [],
   "source": [
    "generate_dummy_points(3*10**8, \"points_3e8_split30\", n_parts=30)"
   ]
  },
  {
   "cell_type": "code",
   "execution_count": 6,
   "id": "2c6cc352-85fd-4ba3-9283-f53bb60e6211",
   "metadata": {},
   "outputs": [
    {
     "name": "stdout",
     "output_type": "stream",
     "text": [
      "4.7G\t/domino/datasets/local/ray-tutorial/points_3e8_split30\n"
     ]
    }
   ],
   "source": [
    "!du -sh {dataset_path}/points_3e8_split30"
   ]
  },
  {
   "cell_type": "code",
   "execution_count": null,
   "id": "03d37f0e-9f75-4297-b0c5-443561ccaaa3",
   "metadata": {},
   "outputs": [],
   "source": []
  },
  {
   "cell_type": "code",
   "execution_count": null,
   "id": "7230f738-9634-49e2-bb80-e9255dabf539",
   "metadata": {},
   "outputs": [],
   "source": []
  }
 ],
 "metadata": {
  "kernelspec": {
   "display_name": "Python 3 (ipykernel)",
   "language": "python",
   "name": "python3"
  },
  "language_info": {
   "codemirror_mode": {
    "name": "ipython",
    "version": 3
   },
   "file_extension": ".py",
   "mimetype": "text/x-python",
   "name": "python",
   "nbconvert_exporter": "python",
   "pygments_lexer": "ipython3",
   "version": "3.8.12"
  }
 },
 "nbformat": 4,
 "nbformat_minor": 5
}
