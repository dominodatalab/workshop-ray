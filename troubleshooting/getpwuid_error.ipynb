{
 "cells": [
  {
   "cell_type": "markdown",
   "id": "67bd1a43-a0b3-41ed-b366-1833e29f5bbe",
   "metadata": {},
   "source": [
    "# Check for `getpwuid` error\n",
    "\n",
    "Some Ray Tune runs have a dependency on the `getpwuid` function for syncing results.\n",
    "This does not come up for every run, but if it does, the Tune library will make a call to `getpwuid(os.getuid())`.\n",
    "This may error if the worker container uid is not registered in the `/etc/passwd` file.\n",
    "To enable quicker troubleshooting of this scenario, use this notebook to check for this condition."
   ]
  },
  {
   "cell_type": "code",
   "execution_count": 1,
   "id": "e0a2f3db-2a86-432e-a736-fc5e29287602",
   "metadata": {},
   "outputs": [],
   "source": [
    "import pwd, os\n",
    "def check_user():\n",
    "    print(os.getuid())\n",
    "    #for l in open(\"/etc/passwd\", 'r').readlines():\n",
    "    #    if '12574' in l: print(l)\n",
    "    #    elif 'ubuntu' in l: print(l)\n",
    "    print(pwd.getpwuid(os.getuid())[0])"
   ]
  },
  {
   "cell_type": "code",
   "execution_count": 2,
   "id": "2f063604-5cff-48fa-9e2e-b297c9ebfe8d",
   "metadata": {},
   "outputs": [
    {
     "name": "stdout",
     "output_type": "stream",
     "text": [
      "12574\n",
      "ubuntu\n"
     ]
    }
   ],
   "source": [
    "# This should always succeed in a Domino workspace\n",
    "check_user()"
   ]
  },
  {
   "cell_type": "code",
   "execution_count": 3,
   "id": "3e4df277-efc1-4c9b-95e1-4f1e9df5fb02",
   "metadata": {},
   "outputs": [],
   "source": [
    "import ray\n",
    "\n",
    "if ray.is_initialized() == False:\n",
    "    service_host = os.environ[\"RAY_HEAD_SERVICE_HOST\"]\n",
    "    service_port = os.environ[\"RAY_HEAD_SERVICE_PORT\"]\n",
    "    ray.init(f\"ray://{service_host}:{service_port}\")"
   ]
  },
  {
   "cell_type": "code",
   "execution_count": 4,
   "id": "8c183bf8-5b98-4f9c-8343-65ec69803fad",
   "metadata": {},
   "outputs": [],
   "source": [
    "@ray.remote\n",
    "def check_user_ray():\n",
    "    check_user()"
   ]
  },
  {
   "cell_type": "code",
   "execution_count": 5,
   "id": "9245226d-4d9b-409b-b742-2e58ebdda4e0",
   "metadata": {},
   "outputs": [
    {
     "name": "stdout",
     "output_type": "stream",
     "text": [
      "\u001b[2m\u001b[36m(check_user_ray pid=384)\u001b[0m 12574\n",
      "\u001b[2m\u001b[36m(check_user_ray pid=384)\u001b[0m ubuntu\n"
     ]
    }
   ],
   "source": [
    "# This may error if the cluster compute environment does not have the correct user configuration.\n",
    "ray.get(check_user_ray.remote())"
   ]
  },
  {
   "cell_type": "markdown",
   "id": "a0f8fc64-a3a9-4c39-a6fa-5816fdb5dc2f",
   "metadata": {},
   "source": [
    "## Fixing the cluster compute environment\n",
    "If the above cell throws an error, it may be necessary to add the following to the Ray cluster compute environment.\n",
    "This shouldn't be needed for any workspace environments, because Domino-vendored base images already include it.\n",
    "\n",
    "```\n",
    "USER root\n",
    "RUN \\\n",
    "  groupadd -g 12574 ubuntu && \\\n",
    "  useradd -u 12574 -g 12574 -m -N -s /bin/bash ubuntu\n",
    "USER ubuntu\n",
    "```"
   ]
  },
  {
   "cell_type": "code",
   "execution_count": null,
   "id": "7bdb1d8b-ac00-41f6-bf23-5f4fc10d3b7c",
   "metadata": {},
   "outputs": [],
   "source": []
  }
 ],
 "metadata": {
  "kernelspec": {
   "display_name": "Python 3 (ipykernel)",
   "language": "python",
   "name": "python3"
  },
  "language_info": {
   "codemirror_mode": {
    "name": "ipython",
    "version": 3
   },
   "file_extension": ".py",
   "mimetype": "text/x-python",
   "name": "python",
   "nbconvert_exporter": "python",
   "pygments_lexer": "ipython3",
   "version": "3.8.12"
  }
 },
 "nbformat": 4,
 "nbformat_minor": 5
}
