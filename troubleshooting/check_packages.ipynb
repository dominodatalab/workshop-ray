{
 "cells": [
  {
   "cell_type": "markdown",
   "id": "cba181d2-4132-4ba0-a74e-8882daf002ea",
   "metadata": {},
   "source": [
    "# Compare workspace and cluster packages\n",
    "\n",
    "This notebook will help check and compare package versions on the workspace and cluster compute environments.\n",
    "* Useful when mysterious stack traces appear with errors like \"unexpected keyword argument\" coming from deep inside some package code. Often these may be caused by some dependency package having a mismatch in version between workspace and cluster.\n",
    "* Useful to identify flat-out missing packages in the cluster environment. These errors are usually a bit more obvious in the stack trace, something like \"module not found\" despite being able to import the package just fine in the workspace.\n",
    "* When doing extended troubleshooting with multiple environment revisions, it can be very useful to save this output to a file with a good naming scheme (including environment revision numbers or dates) and some commentary about the current attempt.\n",
    "\n",
    "Note that Ray itself must be installed correctly and be able to connect to the cluster for this notebook to function as intended.\n",
    "Some package differences between workspace and cluster environments are expected, as most packages are not relevant to the Ray cluster."
   ]
  },
  {
   "cell_type": "code",
   "execution_count": null,
   "id": "d235695a-6845-4029-a22b-bf663c7254e7",
   "metadata": {},
   "outputs": [],
   "source": [
    "import ray\n",
    "import os\n",
    "import pandas as pd\n",
    "\n",
    "if ray.is_initialized() == False:\n",
    "    service_host = os.environ[\"RAY_HEAD_SERVICE_HOST\"]\n",
    "    service_port = os.environ[\"RAY_HEAD_SERVICE_PORT\"]\n",
    "    ray.init(f\"ray://{service_host}:{service_port}\")"
   ]
  },
  {
   "cell_type": "code",
   "execution_count": null,
   "id": "eb640550-762e-40e1-8570-bfd1a813bf49",
   "metadata": {},
   "outputs": [],
   "source": [
    "def dump_packages():\n",
    "    pkgs = {}\n",
    "    for dist in __import__('pkg_resources').working_set:\n",
    "        pkgs[dist.project_name] = dist.version\n",
    "    return pkgs\n",
    "\n",
    "@ray.remote\n",
    "def dump_packages_ray():\n",
    "    return dump_packages()"
   ]
  },
  {
   "cell_type": "code",
   "execution_count": null,
   "id": "b7a165ce-6be0-49bd-987f-cc8c2df0b64d",
   "metadata": {},
   "outputs": [],
   "source": [
    "def package_comparison_report(save_file_path = None, save_file_message = 'no comments'):\n",
    "    local_pkgs = dump_packages()\n",
    "    cluster_pkgs = ray.get(dump_packages_ray.remote())\n",
    "    all_pkgs = pd.DataFrame.from_dict(local_pkgs, orient='index', columns=['local_version']).join(\n",
    "        pd.DataFrame.from_dict(cluster_pkgs, orient='index', columns=['cluster_version']),\n",
    "        how='outer')\n",
    "    all_pkgs['status'] = pd.Categorical( len(all_pkgs)*['mismatch'], categories = [\n",
    "        'mismatch',\n",
    "        'matching',\n",
    "        'cluster missing',\n",
    "        'local missing'\n",
    "    ])\n",
    "    all_pkgs['status'][pd.isna(all_pkgs['local_version'])] = 'local missing'\n",
    "    all_pkgs['status'][pd.isna(all_pkgs['cluster_version'])] = 'cluster missing'\n",
    "    all_pkgs['status'][all_pkgs['local_version'] == all_pkgs['cluster_version']] = 'matching'\n",
    "    all_pkgs.sort_index(inplace=True)\n",
    "    if save_file_path is not None:\n",
    "        with open(save_file_path, 'w') as f:\n",
    "            f.write('#' + save_file_message + '\\n')\n",
    "            all_pkgs.to_csv(f, header=True)\n",
    "    return all_pkgs"
   ]
  },
  {
   "cell_type": "code",
   "execution_count": null,
   "id": "e510ebef-6f19-45a7-a7da-a5671fc9d364",
   "metadata": {},
   "outputs": [],
   "source": [
    "# Check packages and write results to file\n",
    "pkg_dump_file = '/mnt/troubleshooting/check_packages.csv'\n",
    "pkg_dump_msg = 'Add comments here'\n",
    "pkgs = package_comparison_report(save_file_path = pkg_dump_file, save_file_message = pkg_dump_msg)"
   ]
  },
  {
   "cell_type": "code",
   "execution_count": null,
   "id": "8ca88d3a-2fea-433f-982b-05fa344e0f77",
   "metadata": {},
   "outputs": [],
   "source": [
    "# Inspect the resulting csv file however you like; directly, or via pandas, or via shell commands, etc\n",
    "pkgs = pd.read_csv(pkg_dump_file, comment='#', index_col=0)\n",
    "pkgs[pkgs['status'] == 'mismatch']"
   ]
  },
  {
   "cell_type": "code",
   "execution_count": null,
   "id": "5e09ea0c-da9d-42b1-80d0-e54230f93740",
   "metadata": {},
   "outputs": [],
   "source": [
    "!grep ray $pkg_dump_file"
   ]
  },
  {
   "cell_type": "code",
   "execution_count": null,
   "id": "ac9b31da-a2b9-4723-b4ec-b706fd29ce6e",
   "metadata": {},
   "outputs": [],
   "source": []
  }
 ],
 "metadata": {
  "kernelspec": {
   "display_name": "Python 3 (ipykernel)",
   "language": "python",
   "name": "python3"
  },
  "language_info": {
   "codemirror_mode": {
    "name": "ipython",
    "version": 3
   },
   "file_extension": ".py",
   "mimetype": "text/x-python",
   "name": "python",
   "nbconvert_exporter": "python",
   "pygments_lexer": "ipython3",
   "version": "3.8.12"
  }
 },
 "nbformat": 4,
 "nbformat_minor": 5
}
