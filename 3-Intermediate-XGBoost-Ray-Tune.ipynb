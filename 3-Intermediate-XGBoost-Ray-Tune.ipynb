{
 "cells": [
  {
   "cell_type": "markdown",
   "id": "e34e9022-0825-4d11-86bc-b761dfe0a1a1",
   "metadata": {},
   "source": [
    "# Intermediate Ray (part 2) - XGBoost and Ray Tune"
   ]
  },
  {
   "cell_type": "markdown",
   "id": "7cdccc38-23c1-4f4c-8501-0db81eb1bf83",
   "metadata": {},
   "source": [
    "[Ray](https://docs.ray.io/en/latest/index.html) has a rich ecosystem of libraries and frameworks for Machine Learning.\n",
    "These are built on top of the simple primitives provided by [Ray Core](https://docs.ray.io/en/latest/ray-core/walkthrough.html),\n",
    "and the fundamental concepts were covered in the first workshops in the series (see `1-Beginner-Ray-Core.ipynb` and `2-Intermediate-Ray-Core-And-Large-Data.ipynb`).\n",
    "\n",
    "This notebook will begin exploring that rich ecosystem of libraries with [XGBoost](https://xgboost.readthedocs.io/en/latest/tutorials/model.html) and [Ray Tune](https://docs.ray.io/en/latest/tune/index.html).\n",
    "It assumes familiarity with XGBoost and the concepts of hyperparameter tuning,\n",
    "and will focus on how to integrate with Ray to distribute and scale.\n",
    "\n",
    "Both XGBoost and the built-in Ray Tune are considered \"level 3\" integrations,\n",
    "which are the libraries \"most integrated\" with Ray.\n",
    "The [blog post](https://www.anyscale.com/blog/ray-distributed-library-patterns) describing the levels of integration is great reading for getting a deeper understanding of the overall ecosystem.\n",
    "\n",
    "In this notebook we will cover:\n",
    "* Baseline code for XGBoost without Ray\n",
    "* XGBoost integrated with Ray\n",
    "    * Distributed data loading\n",
    "    * Distributed training\n",
    "* Ray Tune with XGBoost integration\n",
    "    * Specifying resources\n",
    "    * Defining a search space\n",
    "    * Defining a training function\n",
    "    * Running trials\n",
    "    * Analyzing results\n",
    "* Bonus: non-integrated XGBoost with Ray Tune"
   ]
  },
  {
   "cell_type": "markdown",
   "id": "533afa58-2ad6-4cf0-8944-1e9ee884f91f",
   "metadata": {},
   "source": [
    "## Sample problem: predict housing prices"
   ]
  },
  {
   "cell_type": "markdown",
   "id": "27ecc780-eb3c-4b0c-931f-f54c52bf610e",
   "metadata": {},
   "source": [
    "We will be using a the sample California housing dataset built into scikit-learn, and training a regression model to predict median house prices."
   ]
  },
  {
   "cell_type": "markdown",
   "id": "1d93cf4f-c96b-4ad2-86b9-dc4d80637228",
   "metadata": {},
   "source": [
    "### Get and format data"
   ]
  },
  {
   "cell_type": "markdown",
   "id": "c9521e75-133a-4a58-9219-2cf617a70f82",
   "metadata": {},
   "source": [
    "We will first load the data from scikit-learn, split into training/validation/test sets,\n",
    "then save it into various formats to explore different data loading strategies.\n",
    "* Each subset (training/validation/test) will be saved to a single `csv` file.\n",
    "* Training and validation data will also be split into `n_files` separate `csv` files to enable distributed data loading.\n",
    "* All files will be saved to a Domino Dataset.\n",
    "\n",
    "To simulate good practices for working with large data, you're encouraged to mount the Dataset from the main copy of this tutorial project rather than saving your own copy of the data.\n",
    "The below cells will define all the necessary paths and lists of files, and will not recreate the data unless the `save_ca_data` function is run."
   ]
  },
  {
   "cell_type": "code",
   "execution_count": 3,
   "id": "533d4f26-1d58-4d35-8c96-b3741cefa4b0",
   "metadata": {},
   "outputs": [],
   "source": [
    "import os\n",
    "import numpy as np\n",
    "from sklearn.datasets import fetch_california_housing\n",
    "from sklearn.model_selection import train_test_split"
   ]
  },
  {
   "cell_type": "markdown",
   "id": "9c4e1536-5325-4b60-8a81-e9a8cfbff00e",
   "metadata": {},
   "source": [
    "Adjust the path below to match where the files are located in your project."
   ]
  },
  {
   "cell_type": "code",
   "execution_count": 4,
   "id": "9c351241-85f6-4f38-921c-0920542e0700",
   "metadata": {},
   "outputs": [],
   "source": [
    "# data_root = f\"/domino/datasets/local/{os.environ['DOMINO_PROJECT_NAME']}\"\n",
    "# data_root = \"/domino/datasets/local/CA-Housing\"\n",
    "data_root = \"/mnt/imported/data/CA-Housing\""
   ]
  },
  {
   "cell_type": "code",
   "execution_count": 5,
   "id": "3ce81ac7-23b4-44d7-ac45-cb3697cefe72",
   "metadata": {},
   "outputs": [],
   "source": [
    "n_files = 4\n",
    "\n",
    "train_file = os.path.join(data_root, \"ca_train.csv\")\n",
    "val_file = os.path.join(data_root, \"ca_val.csv\")\n",
    "test_file = os.path.join(data_root, \"ca_test.csv\")\n",
    "\n",
    "# Also save multi-file versions of training  and validation data\n",
    "train_files = [os.path.join(data_root, f\"ca_train_{i}.csv\") \n",
    "               for i in range(n_files)]\n",
    "val_files = [os.path.join(data_root, f\"ca_val_{i}.csv\") \n",
    "             for i in range(n_files)]\n",
    "\n",
    "# These variables will be used in later sections\n",
    "target_col = \"MedHouseVal\"\n",
    "model_dir = \"3-Intermediate-XGB-models\" # relative path, in /mnt\n",
    "if not os.path.isdir(model_dir):\n",
    "    os.mkdir(model_dir)"
   ]
  },
  {
   "cell_type": "code",
   "execution_count": 6,
   "id": "31f51507-0e45-4913-bffb-73c6ba03cf13",
   "metadata": {},
   "outputs": [],
   "source": [
    "# Load CA Housing Data from sklearn\n",
    "def save_cadata_chunks(n_files):\n",
    "    ca_data_df = fetch_california_housing(as_frame=True).frame\n",
    "    print(f\"Data has {ca_data_df.shape} total rows, columns\")\n",
    "\n",
    "    # Split off and save test data\n",
    "    train_val_data, test_data = train_test_split(ca_data_df, test_size=0.2, \n",
    "                                                 random_state=42)\n",
    "    print(f\"Saving test data with {test_data.shape[0]} rows to {test_file}\")\n",
    "    test_data.to_csv(test_file, index=False)\n",
    "\n",
    "    # Split and save training and validation data\n",
    "    train_data, val_data = train_test_split(train_val_data, test_size=0.3, \n",
    "                                            random_state=42)\n",
    "    print(f\"Saving training data with {train_data.shape[0]} \\\n",
    "          rows to {train_file}\")\n",
    "    train_data.to_csv(train_file, index=False)\n",
    "    print(f\"Saving validation data with {val_data.shape[0]} \\\n",
    "          rows to {val_file}\")\n",
    "    val_data.to_csv(val_file, index=False)\n",
    "\n",
    "    # Further split and save training and validation data \n",
    "    # to n_files files each\n",
    "    train_data_split = np.array_split(train_data, n_files)\n",
    "    val_data_split = np.array_split(val_data, n_files)\n",
    "    for i in range(n_files):\n",
    "        print(f\"Saving {train_data_split[i].shape[0]} \\\n",
    "              training rows to {train_files[i]}\")\n",
    "        train_data_split[i].to_csv(train_files[i], index=False) \n",
    "        print(f\"Saving {val_data_split[i].shape[0]} \\\n",
    "              validation rows to {val_files[i]}\")\n",
    "        val_data_split[i].to_csv(val_files[i], index=False)\n",
    "    print(\"Done!\")"
   ]
  },
  {
   "cell_type": "code",
   "execution_count": 7,
   "id": "d0f91c38-f0e7-4332-8b8f-70e685134200",
   "metadata": {},
   "outputs": [],
   "source": [
    "# No need to actually run this again if mounting the dataset\n",
    "# save_cadata_chunks(n_files)"
   ]
  },
  {
   "cell_type": "code",
   "execution_count": 8,
   "id": "3600dbda-b754-4ab8-a6fa-bfdc97e0c626",
   "metadata": {},
   "outputs": [],
   "source": [
    "# Check that the files are available as expected\n",
    "all_files = train_files.copy()\n",
    "all_files.extend(val_files)\n",
    "all_files.extend([train_file, val_file, test_file])\n",
    "for f in all_files:\n",
    "    assert os.path.isfile(f)"
   ]
  },
  {
   "cell_type": "code",
   "execution_count": 9,
   "id": "c5273bcc-8d99-48d5-8a4c-32fdc670c125",
   "metadata": {},
   "outputs": [
    {
     "name": "stdout",
     "output_type": "stream",
     "text": [
      "ca_test.csv\tca_train_2.csv\tca_val_0.csv  ca_val_3.csv\n",
      "ca_train_0.csv\tca_train_3.csv\tca_val_1.csv  ca_val.csv\n",
      "ca_train_1.csv\tca_train.csv\tca_val_2.csv\n"
     ]
    }
   ],
   "source": [
    "!ls $data_root"
   ]
  },
  {
   "cell_type": "markdown",
   "id": "b67ef433-13c8-4f81-8085-f4eac09a4cb4",
   "metadata": {
    "tags": []
   },
   "source": [
    "## Baseline: XGBoost without Ray"
   ]
  },
  {
   "cell_type": "markdown",
   "id": "c265ce3a-7520-45bf-80ca-9dec5adc9273",
   "metadata": {
    "tags": []
   },
   "source": [
    "Before involving our Ray cluster, let's train a model with plain [XGBoost](https://xgboost.readthedocs.io/en/latest/tutorials/model.html) as a baseline.\n",
    "Keep the following in mind to compare with the later Ray versions of the code:\n",
    "* We are importing `xgboost` as `xgb`\n",
    "* We read in the data as regular Pandas dataframes.\n",
    "* There are two different APIs available for XGBoost:\n",
    "    * The native API using `xgb.train`\n",
    "    * The scikit-learn API wrapper using `xgb.XGBRegressor`\n",
    "* XGBoost can make use of some parallelism even outside Ray, with `njobs` or `nthreads` parameters.\n",
    "* We are setting a few [hyperparameters]( https://xgboost.readthedocs.io/en/stable/parameter.html#learning-task-parameters) explicitly here, to specific values."
   ]
  },
  {
   "cell_type": "code",
   "execution_count": 7,
   "id": "41c88730-31b5-4f1c-97e9-61dbc65fed4c",
   "metadata": {},
   "outputs": [],
   "source": [
    "from sklearn.metrics import mean_absolute_error\n",
    "import pandas as pd\n",
    "import xgboost as xgb"
   ]
  },
  {
   "cell_type": "code",
   "execution_count": 8,
   "id": "2fa2ed21-4e41-443d-8482-163354fda251",
   "metadata": {},
   "outputs": [],
   "source": [
    "train_data = pd.read_csv(train_file)\n",
    "test_data = pd.read_csv(test_file)\n",
    "\n",
    "X_train = train_data.drop(target_col, axis=1)\n",
    "y_train = train_data[target_col]\n",
    "X_test = test_data.drop(target_col, axis=1)\n",
    "y_test = test_data[target_col]"
   ]
  },
  {
   "cell_type": "markdown",
   "id": "ed624565-3d81-44d1-b712-b2acfd9dabd9",
   "metadata": {
    "tags": []
   },
   "source": [
    "### XGBoost scikit-learn API wrapper\n",
    "\n",
    "The scikit-learn API is a wrapper around core XGboost functionality,\n",
    "and is a familiar interface for many data scientists, so it is a good place to start."
   ]
  },
  {
   "cell_type": "code",
   "execution_count": 9,
   "id": "c879f8c6-4c5c-43f1-97d4-26ace318fb65",
   "metadata": {},
   "outputs": [
    {
     "name": "stdout",
     "output_type": "stream",
     "text": [
      "Model object type: <class 'xgboost.sklearn.XGBRegressor'>\n"
     ]
    }
   ],
   "source": [
    "# Initialize the model, setting a few hyperparameters to specific values\n",
    "xgb_model = xgb.XGBRegressor(\n",
    "    n_jobs=1,\n",
    "    random_state=42,\n",
    "    max_depth=3,\n",
    "    learning_rate=0.1,\n",
    "    n_estimators=50,\n",
    "    eval_metric='mae'\n",
    ")\n",
    "\n",
    "# Train the model\n",
    "xgb_model.fit(X_train, y_train)\n",
    "\n",
    "# Serialize the model\n",
    "xgb_model.save_model(os.path.join(model_dir, \"plain_sklearn.xgb\"))\n",
    "print(f\"Model object type: {type(xgb_model)}\")"
   ]
  },
  {
   "cell_type": "code",
   "execution_count": 10,
   "id": "a5f53b45-afdb-4144-a4dd-657bd939c5f7",
   "metadata": {},
   "outputs": [
    {
     "name": "stdout",
     "output_type": "stream",
     "text": [
      "MAE: 0.4039994703799625\n"
     ]
    },
    {
     "data": {
      "image/png": "[encoded data removed]",
      "text/plain": [
       "<Figure size 432x288 with 1 Axes>"
      ]
     },
     "metadata": {
      "needs_background": "light"
     },
     "output_type": "display_data"
    }
   ],
   "source": [
    "# Load the serialized model\n",
    "xgb_model = xgb.XGBRegressor()\n",
    "xgb_model.load_model(os.path.join(model_dir, \"plain_sklearn.xgb\"))\n",
    "\n",
    "# Make predictions on the test data\n",
    "predictions = xgb_model.predict(X_test)\n",
    "actuals = y_test\n",
    "print(f\"MAE: {mean_absolute_error(actuals, predictions)}\")\n",
    "pd.DataFrame.from_dict({\"actuals\": actuals, \"predictions\": predictions}).plot.scatter(\n",
    "    x=\"actuals\", y=\"predictions\", title=\"Plain XGBoost model built with sklearn wrapper\");"
   ]
  },
  {
   "cell_type": "markdown",
   "id": "abb965b3-6b69-49a0-b024-792d7da333aa",
   "metadata": {
    "tags": []
   },
   "source": [
    "### XGBoost native API"
   ]
  },
  {
   "cell_type": "markdown",
   "id": "dc269aa2-413d-4b74-9bb4-817b150bb93d",
   "metadata": {
    "tags": []
   },
   "source": [
    "Using XGBoost directly has a slightly different structure.\n",
    "* Some parameters are named differently and/or have different default values.\n",
    "* Data is passed via `xgb.DMatrix` rather than pandas dataframes\n",
    "* The model object has a different type, and loads the serialized model object differently"
   ]
  },
  {
   "cell_type": "code",
   "execution_count": 11,
   "id": "71f5dad2-8fb8-4319-8ac7-ae575b6fc164",
   "metadata": {},
   "outputs": [
    {
     "name": "stdout",
     "output_type": "stream",
     "text": [
      "Model object type: <class 'xgboost.core.Booster'>\n"
     ]
    }
   ],
   "source": [
    "# Set a few hyperparameters to specific values\n",
    "param = {\n",
    "    'nthread':1,\n",
    "    'seed':42,\n",
    "    'max_depth':3,\n",
    "    'eta':0.1,\n",
    "    'eval_metric':'mae'\n",
    "}\n",
    "\n",
    "# Train the model\n",
    "bst = xgb.train(\n",
    "    param,\n",
    "    xgb.DMatrix(X_train, y_train),\n",
    "    num_boost_round=50,\n",
    "    verbose_eval=False,\n",
    ")\n",
    "\n",
    "# Serialize the model\n",
    "bst.save_model(os.path.join(model_dir, \"plain_native.xgb\"))\n",
    "print(f\"Model object type: {type(bst)}\")"
   ]
  },
  {
   "cell_type": "code",
   "execution_count": 12,
   "id": "81d61c98-56b0-4785-94e8-0d9b49b7d95a",
   "metadata": {},
   "outputs": [
    {
     "name": "stdout",
     "output_type": "stream",
     "text": [
      "MAE: 0.4039994703799625\n"
     ]
    },
    {
     "data": {
      "image/png": "[encoded data removed]",
      "text/plain": [
       "<Figure size 432x288 with 1 Axes>"
      ]
     },
     "metadata": {
      "needs_background": "light"
     },
     "output_type": "display_data"
    }
   ],
   "source": [
    "# Load the serialized model\n",
    "bst = xgb.Booster(model_file=os.path.join(model_dir, \"plain_native.xgb\"))\n",
    "\n",
    "# Make predictions on the test data\n",
    "predictions = bst.predict(xgb.DMatrix(X_test, y_test))\n",
    "actuals = y_test\n",
    "print(f\"MAE: {mean_absolute_error(actuals, predictions)}\")\n",
    "pd.DataFrame.from_dict({\"actuals\": actuals, \"predictions\": predictions}).plot.scatter(\n",
    "    x=\"actuals\", y=\"predictions\", title=\"Plain XGBoost model built with native interface\");"
   ]
  },
  {
   "cell_type": "markdown",
   "id": "2ae739a1-831e-41b1-b9b0-d57535057276",
   "metadata": {},
   "source": [
    "## XGBoost in Ray"
   ]
  },
  {
   "cell_type": "markdown",
   "id": "2bb85621-6ed0-4853-9a67-3a52a53b9916",
   "metadata": {},
   "source": [
    "Our data set is small, but what if it was too large to effectively train on a single machine?\n",
    "What if the training times are very long?\n",
    "Ray comes to the rescue!\n",
    "\n",
    "Now we will import a new [library](https://github.com/ray-project/xgboost_ray), `xgboost_ray`, which allows distributing XGBoost model training on a Ray cluster.\n",
    "Notice the following similarities and differences to the non-Ray baseline code above:\n",
    "* We are importing a `xgboost_ray` as `xgbr`.\n",
    "* We can still use either the native XGBoost style API or the scikit-learn style wrapper\n",
    "* We read in the data differently - this is a very important change!\n",
    "* We set the parallelism in a different way to distribute work on the Ray cluster\n",
    "* Nothing has really changed in how we set the hyperparameters (yet - this will come when we introduce Ray Tune)"
   ]
  },
  {
   "cell_type": "code",
   "execution_count": 13,
   "id": "095257c5-91d9-478c-8e64-143d51507864",
   "metadata": {},
   "outputs": [],
   "source": [
    "import ray\n",
    "import os\n",
    "from sklearn.metrics import mean_absolute_error\n",
    "import xgboost_ray as xgbr\n",
    "import modin.pandas as mpd\n",
    "\n",
    "#ray.shutdown()\n",
    "\n",
    "if ray.is_initialized() == False:\n",
    "    service_host = os.environ[\"RAY_HEAD_SERVICE_HOST\"]\n",
    "    service_port = os.environ[\"RAY_HEAD_SERVICE_PORT\"]\n",
    "    ray.init(f\"ray://{service_host}:{service_port}\")"
   ]
  },
  {
   "cell_type": "markdown",
   "id": "fc2aa5a9-0b90-443f-aabb-40064a8068fe",
   "metadata": {},
   "source": [
    "### Distributed data loading\n",
    "\n",
    "In practice, this is one of the most important steps to get right when scaling to large data.\n",
    "The `xgboost_ray` library uses the `RayDMatrix` instead of `DMatrix` to load data,\n",
    "and [it has a lot of options](https://github.com/ray-project/xgboost_ray#data-sources) for distributed data loading.\n",
    "The most important things to keep in mind are:\n",
    "* Similar to Ray Data, the `RayDMatrix` is limited in parallelism by the number of input files being loaded.\n",
    "    * Single or multiple csv and parquet files can be loaded directly\n",
    "    * Data can be loaded via Modin dataframe (notice the import of `modin.pandas`, which was covered in the previous notebook)\n",
    "    * Data can be loaded via Ray Data dataset and other methods as well. (We won't make use of Ray Data in this code, but it may be useful for certain types of last-mile processing.)\n",
    "* Data read into the `RayDMatrix` should be fully ready for training or validation, with no remaining pre-processing.\n",
    "    * Passing data to a `RayDMatrix` is a \"one-way\" operation - you can convert from many file and object formats to a `RayDMatrix`, but you cannot convert back.\n",
    "    * The target column must be specified when passing the data.\n",
    "* A `RayDMatrix` uses *lazy* loading, and will not actually read data until needed for training."
   ]
  },
  {
   "cell_type": "code",
   "execution_count": 14,
   "id": "bd4129c6-2e0e-419f-88a5-d902d00fd93e",
   "metadata": {},
   "outputs": [],
   "source": [
    "# Read in data directly to RayDMatrix from a list of files\n",
    "# Notice that the files are already separated into training and validation sets\n",
    "rdm_train = xgbr.RayDMatrix(train_files, label=target_col)\n",
    "rdm_val = xgbr.RayDMatrix(val_files, label=target_col)"
   ]
  },
  {
   "cell_type": "code",
   "execution_count": 15,
   "id": "0e40f0d3-6d44-4ea6-bf9e-5fb013d64c4c",
   "metadata": {},
   "outputs": [],
   "source": [
    "# Although it is possible to specify the number of Actors when initializing the RayDMatrix, it is not necessary,\n",
    "#  and can cause a conflict if different from the number of Actors chosen for training.\n",
    "\n",
    "# This function verifies whether the data will support splitting into a given number of shards.\n",
    "# Try this with n_files+1 and see the error that results.\n",
    "rdm_train.assert_enough_shards_for_actors(n_files)"
   ]
  },
  {
   "cell_type": "code",
   "execution_count": 16,
   "id": "c0fd5863-bc40-4fcc-a48e-3513020af8f2",
   "metadata": {},
   "outputs": [
    {
     "name": "stdout",
     "output_type": "stream",
     "text": [
      "Will the read be distributed? True\n",
      "Has any data been read yet? False\n"
     ]
    }
   ],
   "source": [
    "print(f\"Will the read be distributed? {rdm_train.distributed}\")\n",
    "print(f\"Has any data been read yet? {rdm_train.loaded}\")"
   ]
  },
  {
   "cell_type": "code",
   "execution_count": 17,
   "id": "b7c0cf16-54ef-4e7e-aa7a-317744f934f2",
   "metadata": {},
   "outputs": [
    {
     "name": "stdout",
     "output_type": "stream",
     "text": [
      "Will the read from Modin be distributed? True\n"
     ]
    }
   ],
   "source": [
    "# We will read the test data using Modin, to demonstrate another option for loading.\n",
    "# This will also be convenient when plotting predictions vs actuals as in previous sections\n",
    "\n",
    "mdf_test = mpd.read_csv(test_file)\n",
    "rdm_test = xgbr.RayDMatrix(mdf_test, label=target_col)\n",
    "print(f\"Will the read from Modin be distributed? {rdm_test.distributed}\")"
   ]
  },
  {
   "cell_type": "markdown",
   "id": "e45470c1-1136-45fb-91ed-16e9506f9b57",
   "metadata": {},
   "source": [
    "### Distributed training with scikit-learn API wrapper"
   ]
  },
  {
   "cell_type": "markdown",
   "id": "d19ff304-3cf5-4727-a8a0-972eb3dab7e7",
   "metadata": {},
   "source": [
    "This is nearly identical to the non-Ray code, except for the following\n",
    "* The n_jobs parameter now controls number of Ray Actors.\n",
    "    * Note that it will generate an error if you request more actors than the data can be sharded for.\n",
    "* The model object is a different type, from the `xgboost_ray` library.\n",
    "* The data is passed via a single `RayDMatrix` object, instead of `X` and `y` pandas objects."
   ]
  },
  {
   "cell_type": "code",
   "execution_count": 18,
   "id": "6040acd6-d118-4daa-b0d1-93eef8bf0c5b",
   "metadata": {},
   "outputs": [
    {
     "name": "stderr",
     "output_type": "stream",
     "text": [
      "UserWarning: X is a RayDMatrix, y will be ignored!\n",
      "\u001b[2m\u001b[36m(_wrapped pid=5721)\u001b[0m 2023-02-02 17:40:45,400\tINFO main.py:985 -- [RayXGBoost] Created 3 new actors (3 total actors). Waiting until actors are ready for training.\n",
      "\u001b[2m\u001b[36m(_wrapped pid=5721)\u001b[0m 2023-02-02 17:40:47,109\tINFO main.py:1030 -- [RayXGBoost] Starting XGBoost training.\n",
      "\u001b[2m\u001b[36m(_RemoteRayXGBoostActor pid=1702, ip=10.0.36.194)\u001b[0m [17:40:47] task [xgboost.ray]:139878199794992 got new rank 0\n",
      "\u001b[2m\u001b[36m(_RemoteRayXGBoostActor pid=757, ip=10.0.40.94)\u001b[0m [17:40:47] task [xgboost.ray]:139897392831696 got new rank 1\n",
      "\u001b[2m\u001b[36m(_RemoteRayXGBoostActor pid=5752)\u001b[0m [17:40:47] task [xgboost.ray]:140229896506336 got new rank 2\n"
     ]
    },
    {
     "name": "stdout",
     "output_type": "stream",
     "text": [
      "Model object type: <class 'xgboost_ray.sklearn.RayXGBRegressor'>\n"
     ]
    }
   ],
   "source": [
    "# Initialize the model, setting a few hyperparameters to specific values\n",
    "xgbr_model = xgbr.RayXGBRegressor(\n",
    "    n_jobs=3,\n",
    "    random_state=42,\n",
    "    max_depth=3,\n",
    "    learning_rate=0.1,\n",
    "    n_estimators=50,\n",
    "    eval_metric='mae'\n",
    ")\n",
    "\n",
    "# Train the model\n",
    "xgbr_model.fit(rdm_train, None)\n",
    "\n",
    "# Serialize the model\n",
    "xgbr_model.save_model(os.path.join(model_dir, \"ray_sklearn.xgb\"))\n",
    "print(f\"Model object type: {type(xgbr_model)}\")"
   ]
  },
  {
   "cell_type": "code",
   "execution_count": 19,
   "id": "602080ec-73f1-4186-9996-1950f80aaafa",
   "metadata": {},
   "outputs": [
    {
     "name": "stderr",
     "output_type": "stream",
     "text": [
      "\u001b[2m\u001b[36m(_wrapped pid=5721)\u001b[0m 2023-02-02 17:40:47,898\tINFO main.py:1509 -- [RayXGBoost] Finished XGBoost training on training data with total N=11,558 in 4.14 seconds (0.79 pure XGBoost training time).\n",
      "\u001b[2m\u001b[36m(predict pid=5721)\u001b[0m 2023-02-02 17:40:48,225\tINFO main.py:1549 -- [RayXGBoost] Created 3 remote actors.\n",
      "\u001b[2m\u001b[36m(predict pid=5721)\u001b[0m 2023-02-02 17:40:53,705\tINFO main.py:1566 -- [RayXGBoost] Starting XGBoost prediction.\n"
     ]
    },
    {
     "name": "stdout",
     "output_type": "stream",
     "text": [
      "MAE: 0.39935954362601966\n"
     ]
    },
    {
     "data": {
      "image/png": "[encoded data removed]",
      "text/plain": [
       "<Figure size 432x288 with 1 Axes>"
      ]
     },
     "metadata": {
      "needs_background": "light"
     },
     "output_type": "display_data"
    }
   ],
   "source": [
    "# Load the serialized model\n",
    "xgbr_model = xgbr.RayXGBRegressor()\n",
    "xgbr_model.load_model(os.path.join(model_dir, \"ray_sklearn.xgb\"))\n",
    "\n",
    "# Make predictions on the test data\n",
    "predictions = xgbr_model.predict(rdm_test)\n",
    "actuals = mdf_test[target_col]\n",
    "print(f\"MAE: {mean_absolute_error(actuals, predictions)}\")\n",
    "pd.DataFrame.from_dict({\"actuals\": actuals, \"predictions\": predictions}).plot.scatter(\n",
    "    x=\"actuals\", y=\"predictions\", title=\"Ray XGBoost model built with sklearn interface\");"
   ]
  },
  {
   "cell_type": "markdown",
   "id": "646acf98-7125-49f3-a61a-41bc600d9b7d",
   "metadata": {},
   "source": [
    "### Distributed training with XGBoost native API\n",
    "Again there are only small differences compared to the non-Ray code\n",
    "* Instead of the `nthreads` argument, we now pass a `RayParams` object to control number of Actors.\n",
    "* We pass the data via `RayDMatrix` objects.\n",
    "* Predictions are done using `xgboost_ray.predict` instead of the Booster object `predict` function.\n",
    "    * The model object here is *not* a different type - a normal `xgboost` Booster object is returned. This object does not know how to make predictions on a `RayDMatrix`."
   ]
  },
  {
   "cell_type": "code",
   "execution_count": 20,
   "id": "b8fdacce-1953-4a84-b8d6-9223b6553f9c",
   "metadata": {},
   "outputs": [
    {
     "name": "stderr",
     "output_type": "stream",
     "text": [
      "\u001b[2m\u001b[36m(_wrapped pid=6093)\u001b[0m 2023-02-02 17:40:57,148\tINFO main.py:985 -- [RayXGBoost] Created 2 new actors (2 total actors). Waiting until actors are ready for training.\n",
      "\u001b[2m\u001b[36m(_wrapped pid=6093)\u001b[0m 2023-02-02 17:40:58,956\tINFO main.py:1030 -- [RayXGBoost] Starting XGBoost training.\n",
      "\u001b[2m\u001b[36m(_RemoteRayXGBoostActor pid=1872, ip=10.0.36.194)\u001b[0m [17:40:59] task [xgboost.ray]:139828764693744 got new rank 0\n",
      "\u001b[2m\u001b[36m(_RemoteRayXGBoostActor pid=6157)\u001b[0m [17:40:59] task [xgboost.ray]:140045280281360 got new rank 1\n"
     ]
    },
    {
     "name": "stdout",
     "output_type": "stream",
     "text": [
      "Model object type: <class 'xgboost.core.Booster'>\n"
     ]
    }
   ],
   "source": [
    "# Set a few hyperparameters to specific values\n",
    "param = {\n",
    "    'seed':42,\n",
    "    'max_depth':3,\n",
    "    'eta':0.1,\n",
    "    'eval_metric':'mae'\n",
    "}\n",
    "\n",
    "xgb_ray_params = xgbr.RayParams(\n",
    "    num_actors=2,\n",
    "    cpus_per_actor=1\n",
    ")\n",
    "\n",
    "# Train the model\n",
    "evals_result = {}\n",
    "bst = xgbr.train(\n",
    "    param,\n",
    "    rdm_train,\n",
    "    num_boost_round=50,\n",
    "    verbose_eval=False,\n",
    "    evals_result=evals_result,\n",
    "    evals =[(rdm_train, \"train\"), (rdm_val, \"val\")],\n",
    "    ray_params=xgb_ray_params\n",
    ")\n",
    "\n",
    "# Serialize the model\n",
    "bst.save_model(os.path.join(model_dir, \"ray_native.xgb\"))\n",
    "print(f\"Model object type: {type(bst)}\")"
   ]
  },
  {
   "cell_type": "markdown",
   "id": "5deaa3dd-e1aa-47ae-ac74-76a67656ba27",
   "metadata": {},
   "source": [
    "We have also added the `evals_result` and `evals` arguments, so that the model will be evaluated against both training and validation data.\n",
    "This is not specific to the Ray version of XGBoost (except that the `evals` argument accepts `RayDMatrix` instead of `DMatrix`).\n",
    "We will be using it more when we introduce Ray Tune, but let's inspect the results now to get familiar."
   ]
  },
  {
   "cell_type": "code",
   "execution_count": 21,
   "id": "262f8b29-a112-4f09-8427-1d1fe9c5d74e",
   "metadata": {},
   "outputs": [
    {
     "name": "stdout",
     "output_type": "stream",
     "text": [
      "Last 3 rounds training MAE: [0.39514803591690834, 0.3925108027939855, 0.3915360653316878]\n",
      "Last 3 rounds validation MAE: [0.4047519665333259, 0.40229560276000886, 0.4014341846186642]\n"
     ]
    }
   ],
   "source": [
    "print(f\"Last 3 rounds training MAE: {evals_result['train']['mae'][-3:]}\")\n",
    "print(f\"Last 3 rounds validation MAE: {evals_result['val']['mae'][-3:]}\")"
   ]
  },
  {
   "cell_type": "code",
   "execution_count": 22,
   "id": "6d83ebc7-1453-479a-a1ff-f395f70f6dde",
   "metadata": {},
   "outputs": [
    {
     "name": "stderr",
     "output_type": "stream",
     "text": [
      "\u001b[2m\u001b[36m(_wrapped pid=6093)\u001b[0m 2023-02-02 17:40:59,843\tINFO main.py:1509 -- [RayXGBoost] Finished XGBoost training on training data with total N=11,558 in 4.39 seconds (0.88 pure XGBoost training time).\n",
      "\u001b[2m\u001b[36m(predict pid=6093)\u001b[0m 2023-02-02 17:40:59,918\tINFO main.py:1549 -- [RayXGBoost] Created 2 remote actors.\n",
      "\u001b[2m\u001b[36m(predict pid=6093)\u001b[0m 2023-02-02 17:41:05,398\tINFO main.py:1566 -- [RayXGBoost] Starting XGBoost prediction.\n"
     ]
    },
    {
     "name": "stdout",
     "output_type": "stream",
     "text": [
      "MAE: 0.4010873359413295\n"
     ]
    },
    {
     "data": {
      "image/png": "[encoded data removed]",
      "text/plain": [
       "<Figure size 432x288 with 1 Axes>"
      ]
     },
     "metadata": {
      "needs_background": "light"
     },
     "output_type": "display_data"
    }
   ],
   "source": [
    "# Load the serialized model\n",
    "bst = xgb.Booster(model_file=os.path.join(model_dir, \"ray_native.xgb\"))\n",
    "\n",
    "# Make predictions on the test data\n",
    "#predictions = bst.predict(rdm_test) # cannot do this because \"bst\" is not Ray-aware\n",
    "predictions = xgbr.predict(bst, rdm_test, ray_params=xgb_ray_params)\n",
    "actuals = mdf_test[target_col]\n",
    "print(f\"MAE: {mean_absolute_error(actuals, predictions)}\")\n",
    "pd.DataFrame.from_dict({\"actuals\": actuals, \"predictions\": predictions}).plot.scatter(\n",
    "    x=\"actuals\", y=\"predictions\", title=\"Ray XGBoost model built with native interface\");"
   ]
  },
  {
   "cell_type": "markdown",
   "id": "bfcda334-b466-444e-9e15-bcb56196f2cf",
   "metadata": {},
   "source": [
    "# Ray Tune"
   ]
  },
  {
   "cell_type": "markdown",
   "id": "5541c977-97b4-43a7-9769-b3bfb034192c",
   "metadata": {},
   "source": [
    "We've seen how to do distributed training of a single XGBoost model on a Ray cluster.\n",
    "Now, let's introduce the [Ray Tune](https://docs.ray.io/en/latest/tune/index.html) library for hyperparameter tuning.\n",
    "Even when a single model can be trained reasonably without a cluster,\n",
    "training many copies of the model for hyperparameter tuning can be prohibitively slow.\n",
    "Ray Tune integrates especially well with XGBoost and certain other libraries,\n",
    "but it can be used with almost any machine learning library.\n",
    "\n",
    "In the next few sections we'll set up a basic example.\n",
    "In addition, the [Key Concepts page](https://docs.ray.io/en/latest/tune/key-concepts.html#tune-60-seconds) of the Ray Tune documentation is highly recommended reading.\n",
    "There are some structural changes to the Tune API in Ray 2.0, but the concepts remain very similar."
   ]
  },
  {
   "cell_type": "code",
   "execution_count": 23,
   "id": "ef0172d3-6597-4fb9-8431-637a2b49d750",
   "metadata": {},
   "outputs": [],
   "source": [
    "from ray import tune"
   ]
  },
  {
   "cell_type": "markdown",
   "id": "fe4d4709-07fc-4eef-87fd-6a437ac7e77b",
   "metadata": {},
   "source": [
    "## Resources per Trial"
   ]
  },
  {
   "cell_type": "markdown",
   "id": "469276bd-15e8-42b1-83f9-3d4a1071d61b",
   "metadata": {},
   "source": [
    "Hyperparameter tuning requires training many copies of a model,\n",
    "each with a different set of hyperparameters,\n",
    "and seeing which one performs the best.\n",
    "Each time we train a model, that is one *trial*.\n",
    "To do this in our Ray cluster, we can specify what resources to use:\n",
    "* Required CPU, Memory, and/or GPU *per trial*\n",
    "* Where to store intermediate results\n",
    "\n",
    "The `xgboost_ray` library includes a built-in method for generating a `PlacementGroupFactory` to pass to Ray Tune, based on the `RayParams` object used for XGBoost training.\n",
    "Resources can also be requested in a simpler dictionary format, e.g. `{\"cpu\": 2.0}`.\n",
    "As described in the [Tune docs](https://docs.ray.io/en/latest/tune/tutorials/tune-resources.html), by default Ray Tune will schedule N concurrent trials, using 1 CPU per trial, where N is the total number of CPUs available in the cluster.\n",
    "\n",
    "Note that Ray Tune will stall if the requested resources are not available.\n",
    "Since autoscaling in Domino is based on actual resource usage, not pending assignments in the Ray cluster, a Domino cluster will NOT autoscale (even if autoscaling is enabled) to accommodate a larger resource request."
   ]
  },
  {
   "cell_type": "code",
   "execution_count": 24,
   "id": "59b4cd82-6b8b-48bb-9e0a-4043c660c9dd",
   "metadata": {},
   "outputs": [
    {
     "name": "stdout",
     "output_type": "stream",
     "text": [
      "We will pass a <class 'ray.tune.utils.placement_groups.PlacementGroupFactory'> to Ray Tune.\n",
      "It will request {'CPU': 3.0} per trial.\n",
      "The cluster has 18.0 CPU total.\n"
     ]
    }
   ],
   "source": [
    "# Define the resources we want to use per trial (i.e. per XGBoost training run)\n",
    "xgb_ray_params = xgbr.RayParams(num_actors=2, cpus_per_actor=1)\n",
    "\n",
    "# Get the placement group factory to pass to Ray Tune\n",
    "# Notice how the tune resources are 1 CPU greater!\n",
    "xgb_tune_resources = xgb_ray_params.get_tune_resources()\n",
    "print(f\"We will pass a {type(xgb_tune_resources)} to Ray Tune.\")\n",
    "print(f\"It will request {xgb_tune_resources.required_resources} per trial.\")\n",
    "print(f\"The cluster has {ray.cluster_resources()['CPU']} CPU total.\")"
   ]
  },
  {
   "cell_type": "markdown",
   "id": "f57f609c-b0eb-446d-8f03-c8aeafbd95ce",
   "metadata": {},
   "source": [
    "By default, Ray Tune places intermediate results is `~/results-dir`, which is generally `/home/ubuntu/results-dir` in Domino.\n",
    "This path is not accessible to Ray workers in Domino, so it is necessary to specify a different location.\n",
    "There are two possible options:\n",
    "* Put results in the `/tmp` dir (backed by share storage, or dedicated local storage if enabled).\n",
    "    * This will be temporary, cleared any time the cluster stops.\n",
    "    * It is not directly accessible from the workspace\n",
    "* Put results in a dataset, e.g. `/domino/datasets/local/Ray-Tutorial`.\n",
    "    * This will be persistent between workspace sessions - you must clear old results yourself to avoid unnecessary storage usage.\n",
    "    * It is directly accessible from the workspace, and from any workspace in the project.\n",
    "\n",
    "The second option is generally more convenient, but requires some care to avoid clutter for yourself or your collaborators."
   ]
  },
  {
   "cell_type": "code",
   "execution_count": 25,
   "id": "c7bbdbed-f726-49c0-97c8-781609870e85",
   "metadata": {},
   "outputs": [
    {
     "name": "stdout",
     "output_type": "stream",
     "text": [
      "Saving intermediate tune results to /domino/datasets/local/ray-tutorial/ray_results\n"
     ]
    }
   ],
   "source": [
    "# Place results in a subfolder under the default project dataset\n",
    "tune_local_dir = os.path.join(\"/domino/datasets/local\", os.environ[\"DOMINO_PROJECT_NAME\"], \"ray_results\")\n",
    "print(f\"Saving intermediate tune results to {tune_local_dir}\")"
   ]
  },
  {
   "cell_type": "markdown",
   "id": "6dd3614b-a287-43dc-a14b-0be06af8a968",
   "metadata": {},
   "source": [
    "## Defining a hyperparameter search space"
   ]
  },
  {
   "cell_type": "markdown",
   "id": "58b6fd89-d5ee-48b7-9067-55e845cf986d",
   "metadata": {},
   "source": [
    "The simplest search is a grid search across a predefined grid of hyperparameter choices - and it's easy to imaging writing a simple for loop to implement it.\n",
    "However, for `n` choices each of `k` hyperparameters, a full grid search requires `O(n^k)` trials and  quickly becomes prohibitively expensive.\n",
    "\n",
    "Ray Tune provides much more sophisticated options for optimization.\n",
    "Instead of pre-defining a fixed grid to search over,\n",
    "Ray Tune allows specifying a [search space](https://docs.ray.io/en/releases-1.11.0/tune/key-concepts.html#search-spaces) with distributions of parameters.\n",
    "\n",
    "The total number of trials is defined separately,\n",
    "and hyperparameters for each trial are drawn from this search space according to the [search algorithm](https://docs.ray.io/en/releases-1.11.0/tune/key-concepts.html#search-algorithms).\n",
    "Ray Tune can integrate with many popular optimization libraries, but we will stick with the default Random Grid Search for now and not explicitly specify the algorithm to use."
   ]
  },
  {
   "cell_type": "code",
   "execution_count": 26,
   "id": "27f96b64-bf79-45a2-af0d-c4dedbf374bc",
   "metadata": {},
   "outputs": [],
   "source": [
    "# Note the config object is just an ordinary dictionary\n",
    "# It can include fixed parameters as well as Ray Tune search space definitions\n",
    "config = {\n",
    "    \"seed\": 42,\n",
    "    \"eta\": tune.loguniform(3e-3, 3e-1),\n",
    "    \"max_depth\": tune.randint(2, 6),\n",
    "    \"eval_metric\": \"mae\"\n",
    "}"
   ]
  },
  {
   "cell_type": "markdown",
   "id": "8cdcd31c-6921-4595-95df-d57c1edb1a9a",
   "metadata": {},
   "source": [
    "## Defining a training function"
   ]
  },
  {
   "cell_type": "markdown",
   "id": "370a1843-c1c4-4147-bc30-0f8e01cf93de",
   "metadata": {},
   "source": [
    "For each trial, a `config` dictionary like the one we just defined,\n",
    "with the single value for each hyperparameter chosen for that trial,\n",
    "will be passed into a [trainable](https://docs.ray.io/en/releases-1.11.0/tune/key-concepts.html#search-algorithms) that we define and pass to Ray Tune.\n",
    "Below we have defined such a function to wrap training a single XGBoost model on Ray.\n",
    "* This function must accept the `config` we defined as input.\n",
    "* It must report results back to Ray Tune - the `xgboost_ray` library takes care of this automatically!\n",
    "    * Notice the `evals` we are passing; these will determine what metrics are reported\n",
    "* Any checkpoints saved (like the `model.xgb` below) will be saved to `tune_local_dir`.\n",
    "\n",
    "Notice that we are referencing three global variables below: `rdm_train`, `rdm_val`, and `xgb_ray_params`.\n",
    "This can be convenient to do when writing complicated training functions in a notebook,\n",
    "but is a somewhat risky practice in general.\n",
    "Be **very careful** to avoid referencing large amounts of data directly like this;\n",
    "our data is wrapped in a `RayDMatrix` with lazy loading, so this works for our case,\n",
    "but e.g. plain dataframes should NOT be referenced this way."
   ]
  },
  {
   "cell_type": "code",
   "execution_count": 27,
   "id": "507d11a2-8741-49ba-bbae-bd0a2b5c168c",
   "metadata": {},
   "outputs": [],
   "source": [
    "def my_trainer(config):\n",
    "    evals_result = {}\n",
    "    bst = xgbr.train(\n",
    "        params=config,\n",
    "        dtrain=rdm_train,\n",
    "        num_boost_round=50,\n",
    "        evals_result=evals_result,\n",
    "        evals=[(rdm_train, \"train\"), (rdm_val, \"val\")],\n",
    "        ray_params=xgb_ray_params\n",
    "    )\n",
    "    bst.save_model(\"model.xgb\") # This will go into the Tune results folder"
   ]
  },
  {
   "cell_type": "markdown",
   "id": "3706fd11-7705-470f-a2e5-32d2a3e481ab",
   "metadata": {},
   "source": [
    "## Running the trials"
   ]
  },
  {
   "cell_type": "markdown",
   "id": "b7243e9b-b17b-4d2d-afd3-e90239a3e8e9",
   "metadata": {},
   "source": [
    "Finally, we can now run our trials!\n",
    "Here we bring together the previous few sections:\n",
    "* The training function\n",
    "* The search space defined in the config\n",
    "* The resources per trial and results location\n",
    "\n",
    "We also specify a few more important items:\n",
    "* The metric must be something that is reported by the training function.\n",
    "    * This is where the `evals` passed to XGBoost come in; it will automatically report metrics where the prefix is the name given in the `evals`, and the suffix is the `eval_metric`. So, in our case we can choose either `train-mae` or `val-mae`.\n",
    "    * The metric can be either minimized (error metrics) or maximized (accuracy metrics) - be sure to specify the correct mode.\n",
    "* The `num_samples` controls the number of trials.\n",
    "\n",
    "There are many other options that can be specified, such as functions for early stopping, but we won't explore all of them here.\n",
    "We do include two very convenient options for controlling the output of the tuning run, the `verbosity` (which defaults to 3, the most verbose) and the `progress_reporter`.\n",
    "You may prefer to leave the verbosity at maximum and use the default progress reporter when first developing your code, as this gives the most thorough record of warnings and errors.\n",
    "Less verbose output that is overwritten at each update is usually more convenient in the long run."
   ]
  },
  {
   "cell_type": "code",
   "execution_count": 28,
   "id": "49455d05-240c-4dbf-82b2-9f25f7c21943",
   "metadata": {},
   "outputs": [
    {
     "data": {
      "text/html": [
       "== Status ==<br>Current time: 2023-02-02 17:41:24 (running for 00:00:06.18)<br>Memory usage on this node: 11.2/30.9 GiB<br>Using FIFO scheduling algorithm.<br>Resources requested: 0/18 CPUs, 0/0 GPUs, 0.0/53.87 GiB heap, 0.0/24.24 GiB objects<br>Current best trial: da3c8_00001 with val-mae=0.46140180682770227 and parameters={'seed': 42, 'eta': 0.05528289967989549, 'max_depth': 3, 'eval_metric': 'mae', 'nthread': 1, 'n_jobs': 1}<br>Result logdir: /domino/datasets/local/ray-tutorial/ray_results/my_trainer_2023-02-02_17-41-17<br>Number of trials: 4/4 (4 TERMINATED)<br><table>\n",
       "<thead>\n",
       "<tr><th>Trial name            </th><th>status    </th><th>loc             </th><th style=\"text-align: right;\">       eta</th><th style=\"text-align: right;\">  max_depth</th><th style=\"text-align: right;\">  iter</th><th style=\"text-align: right;\">  total time (s)</th><th style=\"text-align: right;\">  train-mae</th><th style=\"text-align: right;\">  val-mae</th></tr>\n",
       "</thead>\n",
       "<tbody>\n",
       "<tr><td>my_trainer_da3c8_00000</td><td>TERMINATED</td><td>10.0.46.72:6514 </td><td style=\"text-align: right;\">0.0192792 </td><td style=\"text-align: right;\">          2</td><td style=\"text-align: right;\">    50</td><td style=\"text-align: right;\">         3.50207</td><td style=\"text-align: right;\">   0.753203</td><td style=\"text-align: right;\"> 0.762669</td></tr>\n",
       "<tr><td>my_trainer_da3c8_00001</td><td>TERMINATED</td><td>10.0.40.94:1035 </td><td style=\"text-align: right;\">0.0552829 </td><td style=\"text-align: right;\">          3</td><td style=\"text-align: right;\">    50</td><td style=\"text-align: right;\">         4.01011</td><td style=\"text-align: right;\">   0.454477</td><td style=\"text-align: right;\"> 0.461402</td></tr>\n",
       "<tr><td>my_trainer_da3c8_00002</td><td>TERMINATED</td><td>10.0.36.194:1982</td><td style=\"text-align: right;\">0.00386366</td><td style=\"text-align: right;\">          4</td><td style=\"text-align: right;\">    50</td><td style=\"text-align: right;\">         3.7786 </td><td style=\"text-align: right;\">   1.30028 </td><td style=\"text-align: right;\"> 1.31021 </td></tr>\n",
       "<tr><td>my_trainer_da3c8_00003</td><td>TERMINATED</td><td>10.0.36.194:1983</td><td style=\"text-align: right;\">0.0142417 </td><td style=\"text-align: right;\">          3</td><td style=\"text-align: right;\">    50</td><td style=\"text-align: right;\">         3.88215</td><td style=\"text-align: right;\">   0.84686 </td><td style=\"text-align: right;\"> 0.857105</td></tr>\n",
       "</tbody>\n",
       "</table><br><br>"
      ],
      "text/plain": [
       "<IPython.core.display.HTML object>"
      ]
     },
     "metadata": {},
     "output_type": "display_data"
    }
   ],
   "source": [
    "analysis = tune.run(\n",
    "    my_trainer,\n",
    "    config=config,\n",
    "    resources_per_trial=xgb_tune_resources,\n",
    "    local_dir=tune_local_dir,\n",
    "    metric=\"val-mae\",\n",
    "    mode=\"min\",\n",
    "    num_samples=4,\n",
    "    verbose=1,\n",
    "    progress_reporter=tune.JupyterNotebookReporter(overwrite=True)\n",
    ")"
   ]
  },
  {
   "cell_type": "markdown",
   "id": "5b280087-0f43-42d4-b1c4-445417c17fc4",
   "metadata": {},
   "source": [
    "## Analyze results and get the best model"
   ]
  },
  {
   "cell_type": "markdown",
   "id": "ef95d4f2-62e0-4c7d-95cb-5102ac969000",
   "metadata": {},
   "source": [
    "Ray Tune returns an [`ExperimentAnalysis` object](https://docs.ray.io/en/releases-1.11.0/tune/key-concepts.html#analysis) which contains the results of the trials.\n",
    "We'll cover only a few of the results it contains, so you are encouraged to explore other available methods.\n",
    "\n",
    "One of the most useful results is the directory where the best model results are stored.\n",
    "* We can copy the serialized model object to our working directory for future use.\n",
    "* In the event of errors, a directory like this will contain the detailed error text.\n",
    "    * Try deliberately specifying an invalid metric, e.g. a typo like `metric=\"val-maee\"`, then explore the trial directory to see how you might diagnose the problem.\n",
    "* The directory is used as the \"key\" for various other results returned by the analysis."
   ]
  },
  {
   "cell_type": "code",
   "execution_count": 29,
   "id": "a6ef12df-351e-44d7-9306-8fe09d9a8aad",
   "metadata": {},
   "outputs": [
    {
     "data": {
      "text/plain": [
       "{'seed': 42, 'eta': 0.05528289967989549, 'max_depth': 3, 'eval_metric': 'mae'}"
      ]
     },
     "execution_count": 29,
     "metadata": {},
     "output_type": "execute_result"
    }
   ],
   "source": [
    "# Hyperparameters from the best trial\n",
    "analysis.best_config"
   ]
  },
  {
   "cell_type": "code",
   "execution_count": 30,
   "id": "0a8fd598-0a3d-4674-8494-b0e7ba385501",
   "metadata": {},
   "outputs": [
    {
     "data": {
      "text/plain": [
       "'/domino/datasets/local/ray-tutorial/ray_results/my_trainer_2023-02-02_17-41-17/my_trainer_da3c8_00001_1_eta=0.055283,max_depth=3_2023-02-02_17-41-20'"
      ]
     },
     "execution_count": 30,
     "metadata": {},
     "output_type": "execute_result"
    },
    {
     "name": "stderr",
     "output_type": "stream",
     "text": [
      "\u001b[2m\u001b[36m(run pid=6437)\u001b[0m 2023-02-02 17:41:24,771\tINFO tune.py:626 -- Total run time: 7.12 seconds (6.15 seconds for the tuning loop).\n"
     ]
    }
   ],
   "source": [
    "# Directory with the best model results\n",
    "analysis.best_logdir"
   ]
  },
  {
   "cell_type": "code",
   "execution_count": 31,
   "id": "41c36ea9-a7ef-482d-8f4e-197cf34530a9",
   "metadata": {},
   "outputs": [
    {
     "data": {
      "text/plain": [
       "'3-Intermediate-XGB-models/tune_best.xgb'"
      ]
     },
     "execution_count": 31,
     "metadata": {},
     "output_type": "execute_result"
    }
   ],
   "source": [
    "# Copy the best model object to the same directory as our earlier models\n",
    "import shutil\n",
    "shutil.copy(\n",
    "    os.path.join(analysis.best_logdir, \"model.xgb\"),\n",
    "    os.path.join(model_dir, \"tune_best.xgb\")\n",
    ")"
   ]
  },
  {
   "cell_type": "code",
   "execution_count": 32,
   "id": "3890b7d6-e91b-4bdc-bb30-f331c310b6db",
   "metadata": {},
   "outputs": [
    {
     "name": "stderr",
     "output_type": "stream",
     "text": [
      "\u001b[2m\u001b[36m(predict pid=6437)\u001b[0m 2023-02-02 17:41:25,190\tINFO main.py:1549 -- [RayXGBoost] Created 2 remote actors.\n",
      "\u001b[2m\u001b[36m(predict pid=6437)\u001b[0m 2023-02-02 17:41:29,036\tINFO main.py:1566 -- [RayXGBoost] Starting XGBoost prediction.\n",
      "\u001b[2m\u001b[36m(compute_sliced_len pid=1273, ip=10.0.40.94)\u001b[0m Exception ignored in: <module 'collections.abc' from '/home/ray/anaconda3/lib/python3.8/collections/abc.py'>\n",
      "\u001b[2m\u001b[36m(compute_sliced_len pid=1273, ip=10.0.40.94)\u001b[0m Traceback (most recent call last):\n",
      "\u001b[2m\u001b[36m(compute_sliced_len pid=1273, ip=10.0.40.94)\u001b[0m   File \"<string>\", line 1, in <module>\n",
      "\u001b[2m\u001b[36m(compute_sliced_len pid=1273, ip=10.0.40.94)\u001b[0m   File \"/home/ray/anaconda3/lib/python3.8/site-packages/ray/worker.py\", line 428, in sigterm_handler\n",
      "\u001b[2m\u001b[36m(compute_sliced_len pid=1273, ip=10.0.40.94)\u001b[0m     sys.exit(1)\n",
      "\u001b[2m\u001b[36m(compute_sliced_len pid=1273, ip=10.0.40.94)\u001b[0m SystemExit: 1\n",
      "\u001b[2m\u001b[36m(compute_sliced_len pid=1273, ip=10.0.40.94)\u001b[0m RuntimeWarning: Cython module failed to patch module with custom type\n",
      "A worker died or was killed while executing a task by an unexpected system error. To troubleshoot the problem, check the logs for the dead worker. RayTask ID: 43237032151f19a2721cadcff6c12f182355ecb302000000 Worker ID: ded40498433c97356ddf7ed8c26d374b35530093a504caa79c7ded9a Node ID: 68681be1786e7852922258065eeab47280e7b23c5db391239b76ea5b Worker IP address: 10.0.40.94 Worker port: 10028 Worker PID: 1273\n"
     ]
    },
    {
     "name": "stdout",
     "output_type": "stream",
     "text": [
      "MAE: 0.46435814797145913\n"
     ]
    },
    {
     "data": {
      "image/png": "[encoded data removed]",
      "text/plain": [
       "<Figure size 432x288 with 1 Axes>"
      ]
     },
     "metadata": {
      "needs_background": "light"
     },
     "output_type": "display_data"
    }
   ],
   "source": [
    "# Now we can make predictions, etc, just like previous sections\n",
    "# Load the serialized model\n",
    "bst = xgb.Booster(model_file=os.path.join(model_dir, \"tune_best.xgb\"))\n",
    "\n",
    "# Make predictions on the test data\n",
    "predictions = xgbr.predict(bst, rdm_test, ray_params=xgb_ray_params)\n",
    "actuals = mdf_test[target_col]\n",
    "print(f\"MAE: {mean_absolute_error(actuals, predictions)}\")\n",
    "pd.DataFrame.from_dict({\"actuals\": actuals, \"predictions\": predictions}).plot.scatter(\n",
    "    x=\"actuals\", y=\"predictions\", title=\"Ray Tune best XGBoost model\");"
   ]
  },
  {
   "cell_type": "code",
   "execution_count": 33,
   "id": "dec755a3-ba71-4b01-85d8-42e79291120f",
   "metadata": {},
   "outputs": [
    {
     "data": {
      "text/html": [
       "<div>\n",
       "<style scoped>\n",
       "    .dataframe tbody tr th:only-of-type {\n",
       "        vertical-align: middle;\n",
       "    }\n",
       "\n",
       "    .dataframe tbody tr th {\n",
       "        vertical-align: top;\n",
       "    }\n",
       "\n",
       "    .dataframe thead th {\n",
       "        text-align: right;\n",
       "    }\n",
       "</style>\n",
       "<table border=\"1\" class=\"dataframe\">\n",
       "  <thead>\n",
       "    <tr style=\"text-align: right;\">\n",
       "      <th></th>\n",
       "      <th>train-mae</th>\n",
       "      <th>val-mae</th>\n",
       "      <th>time_this_iter_s</th>\n",
       "      <th>done</th>\n",
       "      <th>timesteps_total</th>\n",
       "      <th>episodes_total</th>\n",
       "      <th>training_iteration</th>\n",
       "      <th>trial_id</th>\n",
       "      <th>experiment_id</th>\n",
       "      <th>date</th>\n",
       "      <th>timestamp</th>\n",
       "      <th>time_total_s</th>\n",
       "      <th>pid</th>\n",
       "      <th>hostname</th>\n",
       "      <th>node_ip</th>\n",
       "      <th>time_since_restore</th>\n",
       "      <th>timesteps_since_restore</th>\n",
       "      <th>iterations_since_restore</th>\n",
       "    </tr>\n",
       "  </thead>\n",
       "  <tbody>\n",
       "    <tr>\n",
       "      <th>0</th>\n",
       "      <td>1.484835</td>\n",
       "      <td>1.494951</td>\n",
       "      <td>3.729951</td>\n",
       "      <td>False</td>\n",
       "      <td>NaN</td>\n",
       "      <td>NaN</td>\n",
       "      <td>1</td>\n",
       "      <td>da3c8_00001</td>\n",
       "      <td>b7b90b92330f40c797a93994c841613c</td>\n",
       "      <td>2023-02-02_17-41-24</td>\n",
       "      <td>1675388484</td>\n",
       "      <td>3.729951</td>\n",
       "      <td>1035</td>\n",
       "      <td>ray-63dc61b746197615f41bbb87-ray-worker-0</td>\n",
       "      <td>10.0.40.94</td>\n",
       "      <td>3.729951</td>\n",
       "      <td>0</td>\n",
       "      <td>1</td>\n",
       "    </tr>\n",
       "    <tr>\n",
       "      <th>1</th>\n",
       "      <td>1.404964</td>\n",
       "      <td>1.413964</td>\n",
       "      <td>0.010235</td>\n",
       "      <td>False</td>\n",
       "      <td>NaN</td>\n",
       "      <td>NaN</td>\n",
       "      <td>2</td>\n",
       "      <td>da3c8_00001</td>\n",
       "      <td>b7b90b92330f40c797a93994c841613c</td>\n",
       "      <td>2023-02-02_17-41-24</td>\n",
       "      <td>1675388484</td>\n",
       "      <td>3.740186</td>\n",
       "      <td>1035</td>\n",
       "      <td>ray-63dc61b746197615f41bbb87-ray-worker-0</td>\n",
       "      <td>10.0.40.94</td>\n",
       "      <td>3.740186</td>\n",
       "      <td>0</td>\n",
       "      <td>2</td>\n",
       "    </tr>\n",
       "    <tr>\n",
       "      <th>2</th>\n",
       "      <td>1.330831</td>\n",
       "      <td>1.339741</td>\n",
       "      <td>0.004795</td>\n",
       "      <td>False</td>\n",
       "      <td>NaN</td>\n",
       "      <td>NaN</td>\n",
       "      <td>3</td>\n",
       "      <td>da3c8_00001</td>\n",
       "      <td>b7b90b92330f40c797a93994c841613c</td>\n",
       "      <td>2023-02-02_17-41-24</td>\n",
       "      <td>1675388484</td>\n",
       "      <td>3.744981</td>\n",
       "      <td>1035</td>\n",
       "      <td>ray-63dc61b746197615f41bbb87-ray-worker-0</td>\n",
       "      <td>10.0.40.94</td>\n",
       "      <td>3.744981</td>\n",
       "      <td>0</td>\n",
       "      <td>3</td>\n",
       "    </tr>\n",
       "  </tbody>\n",
       "</table>\n",
       "</div>"
      ],
      "text/plain": [
       "   train-mae   val-mae  time_this_iter_s   done  timesteps_total  \\\n",
       "0   1.484835  1.494951          3.729951  False              NaN   \n",
       "1   1.404964  1.413964          0.010235  False              NaN   \n",
       "2   1.330831  1.339741          0.004795  False              NaN   \n",
       "\n",
       "   episodes_total  training_iteration     trial_id  \\\n",
       "0             NaN                   1  da3c8_00001   \n",
       "1             NaN                   2  da3c8_00001   \n",
       "2             NaN                   3  da3c8_00001   \n",
       "\n",
       "                      experiment_id                 date   timestamp  \\\n",
       "0  b7b90b92330f40c797a93994c841613c  2023-02-02_17-41-24  1675388484   \n",
       "1  b7b90b92330f40c797a93994c841613c  2023-02-02_17-41-24  1675388484   \n",
       "2  b7b90b92330f40c797a93994c841613c  2023-02-02_17-41-24  1675388484   \n",
       "\n",
       "   time_total_s   pid                                   hostname     node_ip  \\\n",
       "0      3.729951  1035  ray-63dc61b746197615f41bbb87-ray-worker-0  10.0.40.94   \n",
       "1      3.740186  1035  ray-63dc61b746197615f41bbb87-ray-worker-0  10.0.40.94   \n",
       "2      3.744981  1035  ray-63dc61b746197615f41bbb87-ray-worker-0  10.0.40.94   \n",
       "\n",
       "   time_since_restore  timesteps_since_restore  iterations_since_restore  \n",
       "0            3.729951                        0                         1  \n",
       "1            3.740186                        0                         2  \n",
       "2            3.744981                        0                         3  "
      ]
     },
     "execution_count": 33,
     "metadata": {},
     "output_type": "execute_result"
    }
   ],
   "source": [
    "# We can see the progress of the model over each iteration\n",
    "analysis.trial_dataframes[analysis.best_logdir].head(3)"
   ]
  },
  {
   "cell_type": "code",
   "execution_count": 34,
   "id": "4c14ac31-aec6-453c-bcd0-b441ad8469fc",
   "metadata": {},
   "outputs": [
    {
     "data": {
      "text/html": [
       "<div>\n",
       "<style scoped>\n",
       "    .dataframe tbody tr th:only-of-type {\n",
       "        vertical-align: middle;\n",
       "    }\n",
       "\n",
       "    .dataframe tbody tr th {\n",
       "        vertical-align: top;\n",
       "    }\n",
       "\n",
       "    .dataframe thead th {\n",
       "        text-align: right;\n",
       "    }\n",
       "</style>\n",
       "<table border=\"1\" class=\"dataframe\">\n",
       "  <thead>\n",
       "    <tr style=\"text-align: right;\">\n",
       "      <th></th>\n",
       "      <th>train-mae</th>\n",
       "      <th>val-mae</th>\n",
       "      <th>time_this_iter_s</th>\n",
       "      <th>done</th>\n",
       "      <th>timesteps_total</th>\n",
       "      <th>episodes_total</th>\n",
       "      <th>training_iteration</th>\n",
       "      <th>trial_id</th>\n",
       "      <th>experiment_id</th>\n",
       "      <th>date</th>\n",
       "      <th>timestamp</th>\n",
       "      <th>time_total_s</th>\n",
       "      <th>pid</th>\n",
       "      <th>hostname</th>\n",
       "      <th>node_ip</th>\n",
       "      <th>time_since_restore</th>\n",
       "      <th>timesteps_since_restore</th>\n",
       "      <th>iterations_since_restore</th>\n",
       "    </tr>\n",
       "  </thead>\n",
       "  <tbody>\n",
       "    <tr>\n",
       "      <th>0</th>\n",
       "      <td>1.484835</td>\n",
       "      <td>1.494951</td>\n",
       "      <td>3.729951</td>\n",
       "      <td>False</td>\n",
       "      <td>NaN</td>\n",
       "      <td>NaN</td>\n",
       "      <td>1</td>\n",
       "      <td>da3c8_00001</td>\n",
       "      <td>b7b90b92330f40c797a93994c841613c</td>\n",
       "      <td>2023-02-02_17-41-24</td>\n",
       "      <td>1675388484</td>\n",
       "      <td>3.729951</td>\n",
       "      <td>1035</td>\n",
       "      <td>ray-63dc61b746197615f41bbb87-ray-worker-0</td>\n",
       "      <td>10.0.40.94</td>\n",
       "      <td>3.729951</td>\n",
       "      <td>0</td>\n",
       "      <td>1</td>\n",
       "    </tr>\n",
       "    <tr>\n",
       "      <th>1</th>\n",
       "      <td>1.404964</td>\n",
       "      <td>1.413964</td>\n",
       "      <td>0.010235</td>\n",
       "      <td>False</td>\n",
       "      <td>NaN</td>\n",
       "      <td>NaN</td>\n",
       "      <td>2</td>\n",
       "      <td>da3c8_00001</td>\n",
       "      <td>b7b90b92330f40c797a93994c841613c</td>\n",
       "      <td>2023-02-02_17-41-24</td>\n",
       "      <td>1675388484</td>\n",
       "      <td>3.740186</td>\n",
       "      <td>1035</td>\n",
       "      <td>ray-63dc61b746197615f41bbb87-ray-worker-0</td>\n",
       "      <td>10.0.40.94</td>\n",
       "      <td>3.740186</td>\n",
       "      <td>0</td>\n",
       "      <td>2</td>\n",
       "    </tr>\n",
       "    <tr>\n",
       "      <th>2</th>\n",
       "      <td>1.330831</td>\n",
       "      <td>1.339741</td>\n",
       "      <td>0.004795</td>\n",
       "      <td>False</td>\n",
       "      <td>NaN</td>\n",
       "      <td>NaN</td>\n",
       "      <td>3</td>\n",
       "      <td>da3c8_00001</td>\n",
       "      <td>b7b90b92330f40c797a93994c841613c</td>\n",
       "      <td>2023-02-02_17-41-24</td>\n",
       "      <td>1675388484</td>\n",
       "      <td>3.744981</td>\n",
       "      <td>1035</td>\n",
       "      <td>ray-63dc61b746197615f41bbb87-ray-worker-0</td>\n",
       "      <td>10.0.40.94</td>\n",
       "      <td>3.744981</td>\n",
       "      <td>0</td>\n",
       "      <td>3</td>\n",
       "    </tr>\n",
       "  </tbody>\n",
       "</table>\n",
       "</div>"
      ],
      "text/plain": [
       "   train-mae   val-mae  time_this_iter_s   done  timesteps_total  \\\n",
       "0   1.484835  1.494951          3.729951  False              NaN   \n",
       "1   1.404964  1.413964          0.010235  False              NaN   \n",
       "2   1.330831  1.339741          0.004795  False              NaN   \n",
       "\n",
       "   episodes_total  training_iteration     trial_id  \\\n",
       "0             NaN                   1  da3c8_00001   \n",
       "1             NaN                   2  da3c8_00001   \n",
       "2             NaN                   3  da3c8_00001   \n",
       "\n",
       "                      experiment_id                 date   timestamp  \\\n",
       "0  b7b90b92330f40c797a93994c841613c  2023-02-02_17-41-24  1675388484   \n",
       "1  b7b90b92330f40c797a93994c841613c  2023-02-02_17-41-24  1675388484   \n",
       "2  b7b90b92330f40c797a93994c841613c  2023-02-02_17-41-24  1675388484   \n",
       "\n",
       "   time_total_s   pid                                   hostname     node_ip  \\\n",
       "0      3.729951  1035  ray-63dc61b746197615f41bbb87-ray-worker-0  10.0.40.94   \n",
       "1      3.740186  1035  ray-63dc61b746197615f41bbb87-ray-worker-0  10.0.40.94   \n",
       "2      3.744981  1035  ray-63dc61b746197615f41bbb87-ray-worker-0  10.0.40.94   \n",
       "\n",
       "   time_since_restore  timesteps_since_restore  iterations_since_restore  \n",
       "0            3.729951                        0                         1  \n",
       "1            3.740186                        0                         2  \n",
       "2            3.744981                        0                         3  "
      ]
     },
     "execution_count": 34,
     "metadata": {},
     "output_type": "execute_result"
    }
   ],
   "source": [
    "# The same results are stored on disk in the progress.csv file\n",
    "bst_progress = pd.read_csv(os.path.join(analysis.best_logdir, \"progress.csv\"))\n",
    "bst_progress.head(3)"
   ]
  },
  {
   "cell_type": "markdown",
   "id": "84b0d7b3-f6c6-4161-836f-174ed263ff10",
   "metadata": {},
   "source": [
    "# Bonus: Ray Tune with a non-integrated library"
   ]
  },
  {
   "cell_type": "markdown",
   "id": "02f04f0c-d6dc-4c04-ab44-3e33296b12c3",
   "metadata": {},
   "source": [
    "In the above example, we used a very well-integrated library to do our model training.\n",
    "However, Ray Tune can be used with almost any library (as long as it is installed on the cluster workers).\n",
    "Below we'll show an example with the \"plain\" version of XGBoost to see how it can be done.\n",
    "There are only two major differences:\n",
    "* Data is loaded into a plain `DMatrix`\n",
    "    * Notice how we use `ray.put` to avoid copying the data more than necessary.\n",
    "    * Another option is to read the data inside the trainer function itself.\n",
    "* We must call `tune.report` from inside the trainer function to report the metric.\n",
    "\n",
    "Notice how fast this runs on our small dataset!\n",
    "It is a great example of the principle of NOT distributing a problem unless it is actually necessary.\n",
    "Unless a single model actually requires distributed XGBoost to train, it is better to use Ray Tune with non-distributed training within each trial, and simply use the Ray cluster to run many trials in parallel."
   ]
  },
  {
   "cell_type": "code",
   "execution_count": 35,
   "id": "d63b72d9-c658-432c-bca0-1f7220eea642",
   "metadata": {},
   "outputs": [],
   "source": [
    "train_data_ref = ray.put(pd.read_csv(train_file))\n",
    "val_data_ref = ray.put(pd.read_csv(val_file))"
   ]
  },
  {
   "cell_type": "code",
   "execution_count": 36,
   "id": "ef2c0e66-4fa6-4caf-8623-b496d815f2f6",
   "metadata": {},
   "outputs": [
    {
     "data": {
      "text/html": [
       "== Status ==<br>Current time: 2023-02-02 17:41:43 (running for 00:00:06.48)<br>Memory usage on this node: 11.2/30.9 GiB<br>Using FIFO scheduling algorithm.<br>Resources requested: 0/18 CPUs, 0/0 GPUs, 0.0/53.87 GiB heap, 0.0/24.24 GiB objects<br>Current best trial: e5080_00016 with manually_reported_metric=0.3462406559172397 and parameters={'seed': 42, 'eta': 0.12171901648149426, 'max_depth': 5, 'eval_metric': 'mae'}<br>Result logdir: /domino/datasets/local/ray-tutorial/ray_results/my_plain_xgb_trainer_2023-02-02_17-41-35<br>Number of trials: 20/20 (20 TERMINATED)<br><table>\n",
       "<thead>\n",
       "<tr><th>Trial name                      </th><th>status    </th><th>loc             </th><th style=\"text-align: right;\">       eta</th><th style=\"text-align: right;\">  max_depth</th><th style=\"text-align: right;\">  iter</th><th style=\"text-align: right;\">  total time (s)</th><th style=\"text-align: right;\">  manually_reported_metric</th></tr>\n",
       "</thead>\n",
       "<tbody>\n",
       "<tr><td>my_plain_xgb_trainer_e5080_00000</td><td>TERMINATED</td><td>10.0.40.94:1381 </td><td style=\"text-align: right;\">0.0376514 </td><td style=\"text-align: right;\">          3</td><td style=\"text-align: right;\">     1</td><td style=\"text-align: right;\">        0.729845</td><td style=\"text-align: right;\">                  0.526698</td></tr>\n",
       "<tr><td>my_plain_xgb_trainer_e5080_00001</td><td>TERMINATED</td><td>10.0.36.194:2280</td><td style=\"text-align: right;\">0.0305528 </td><td style=\"text-align: right;\">          4</td><td style=\"text-align: right;\">     1</td><td style=\"text-align: right;\">        0.958911</td><td style=\"text-align: right;\">                  0.546898</td></tr>\n",
       "<tr><td>my_plain_xgb_trainer_e5080_00002</td><td>TERMINATED</td><td>10.0.36.194:2286</td><td style=\"text-align: right;\">0.0518096 </td><td style=\"text-align: right;\">          2</td><td style=\"text-align: right;\">     1</td><td style=\"text-align: right;\">        0.621203</td><td style=\"text-align: right;\">                  0.543388</td></tr>\n",
       "<tr><td>my_plain_xgb_trainer_e5080_00003</td><td>TERMINATED</td><td>10.0.40.94:1380 </td><td style=\"text-align: right;\">0.00581454</td><td style=\"text-align: right;\">          4</td><td style=\"text-align: right;\">     1</td><td style=\"text-align: right;\">        1.09767 </td><td style=\"text-align: right;\">                  1.19582 </td></tr>\n",
       "<tr><td>my_plain_xgb_trainer_e5080_00004</td><td>TERMINATED</td><td>10.0.40.94:1382 </td><td style=\"text-align: right;\">0.167782  </td><td style=\"text-align: right;\">          3</td><td style=\"text-align: right;\">     1</td><td style=\"text-align: right;\">        0.859254</td><td style=\"text-align: right;\">                  0.374012</td></tr>\n",
       "<tr><td>my_plain_xgb_trainer_e5080_00005</td><td>TERMINATED</td><td>10.0.46.72:6926 </td><td style=\"text-align: right;\">0.159732  </td><td style=\"text-align: right;\">          3</td><td style=\"text-align: right;\">     1</td><td style=\"text-align: right;\">        0.828103</td><td style=\"text-align: right;\">                  0.381511</td></tr>\n",
       "<tr><td>my_plain_xgb_trainer_e5080_00006</td><td>TERMINATED</td><td>10.0.36.194:2282</td><td style=\"text-align: right;\">0.00484579</td><td style=\"text-align: right;\">          5</td><td style=\"text-align: right;\">     1</td><td style=\"text-align: right;\">        1.23934 </td><td style=\"text-align: right;\">                  1.24872 </td></tr>\n",
       "<tr><td>my_plain_xgb_trainer_e5080_00007</td><td>TERMINATED</td><td>10.0.40.94:1379 </td><td style=\"text-align: right;\">0.0660813 </td><td style=\"text-align: right;\">          5</td><td style=\"text-align: right;\">     1</td><td style=\"text-align: right;\">        1.02213 </td><td style=\"text-align: right;\">                  0.378133</td></tr>\n",
       "<tr><td>my_plain_xgb_trainer_e5080_00008</td><td>TERMINATED</td><td>10.0.46.72:6925 </td><td style=\"text-align: right;\">0.0106109 </td><td style=\"text-align: right;\">          3</td><td style=\"text-align: right;\">     1</td><td style=\"text-align: right;\">        0.842458</td><td style=\"text-align: right;\">                  0.979362</td></tr>\n",
       "<tr><td>my_plain_xgb_trainer_e5080_00009</td><td>TERMINATED</td><td>10.0.40.94:1388 </td><td style=\"text-align: right;\">0.0048702 </td><td style=\"text-align: right;\">          2</td><td style=\"text-align: right;\">     1</td><td style=\"text-align: right;\">        0.793807</td><td style=\"text-align: right;\">                  1.25237 </td></tr>\n",
       "<tr><td>my_plain_xgb_trainer_e5080_00010</td><td>TERMINATED</td><td>10.0.36.194:2285</td><td style=\"text-align: right;\">0.00418349</td><td style=\"text-align: right;\">          3</td><td style=\"text-align: right;\">     1</td><td style=\"text-align: right;\">        0.895067</td><td style=\"text-align: right;\">                  1.2914  </td></tr>\n",
       "<tr><td>my_plain_xgb_trainer_e5080_00011</td><td>TERMINATED</td><td>10.0.46.72:6928 </td><td style=\"text-align: right;\">0.00742907</td><td style=\"text-align: right;\">          2</td><td style=\"text-align: right;\">     1</td><td style=\"text-align: right;\">        0.748408</td><td style=\"text-align: right;\">                  1.12109 </td></tr>\n",
       "<tr><td>my_plain_xgb_trainer_e5080_00012</td><td>TERMINATED</td><td>10.0.36.194:2281</td><td style=\"text-align: right;\">0.0874986 </td><td style=\"text-align: right;\">          2</td><td style=\"text-align: right;\">     1</td><td style=\"text-align: right;\">        0.783004</td><td style=\"text-align: right;\">                  0.473966</td></tr>\n",
       "<tr><td>my_plain_xgb_trainer_e5080_00013</td><td>TERMINATED</td><td>10.0.46.72:6929 </td><td style=\"text-align: right;\">0.00603125</td><td style=\"text-align: right;\">          5</td><td style=\"text-align: right;\">     1</td><td style=\"text-align: right;\">        1.16004 </td><td style=\"text-align: right;\">                  1.18101 </td></tr>\n",
       "<tr><td>my_plain_xgb_trainer_e5080_00014</td><td>TERMINATED</td><td>10.0.40.94:1387 </td><td style=\"text-align: right;\">0.0538246 </td><td style=\"text-align: right;\">          3</td><td style=\"text-align: right;\">     1</td><td style=\"text-align: right;\">        0.822205</td><td style=\"text-align: right;\">                  0.46151 </td></tr>\n",
       "<tr><td>my_plain_xgb_trainer_e5080_00015</td><td>TERMINATED</td><td>10.0.46.72:6927 </td><td style=\"text-align: right;\">0.036426  </td><td style=\"text-align: right;\">          3</td><td style=\"text-align: right;\">     1</td><td style=\"text-align: right;\">        0.68764 </td><td style=\"text-align: right;\">                  0.536978</td></tr>\n",
       "<tr><td>my_plain_xgb_trainer_e5080_00016</td><td>TERMINATED</td><td>10.0.36.194:2279</td><td style=\"text-align: right;\">0.121719  </td><td style=\"text-align: right;\">          5</td><td style=\"text-align: right;\">     1</td><td style=\"text-align: right;\">        1.12735 </td><td style=\"text-align: right;\">                  0.346241</td></tr>\n",
       "<tr><td>my_plain_xgb_trainer_e5080_00017</td><td>TERMINATED</td><td>10.0.40.94:1546 </td><td style=\"text-align: right;\">0.0692559 </td><td style=\"text-align: right;\">          3</td><td style=\"text-align: right;\">     1</td><td style=\"text-align: right;\">        0.60719 </td><td style=\"text-align: right;\">                  0.429504</td></tr>\n",
       "<tr><td>my_plain_xgb_trainer_e5080_00018</td><td>TERMINATED</td><td>10.0.36.194:2446</td><td style=\"text-align: right;\">0.0377774 </td><td style=\"text-align: right;\">          2</td><td style=\"text-align: right;\">     1</td><td style=\"text-align: right;\">        0.491041</td><td style=\"text-align: right;\">                  0.591005</td></tr>\n",
       "<tr><td>my_plain_xgb_trainer_e5080_00019</td><td>TERMINATED</td><td>10.0.36.194:2449</td><td style=\"text-align: right;\">0.0522604 </td><td style=\"text-align: right;\">          4</td><td style=\"text-align: right;\">     1</td><td style=\"text-align: right;\">        0.745057</td><td style=\"text-align: right;\">                  0.432508</td></tr>\n",
       "</tbody>\n",
       "</table><br><br>"
      ],
      "text/plain": [
       "<IPython.core.display.HTML object>"
      ]
     },
     "metadata": {},
     "output_type": "display_data"
    },
    {
     "name": "stderr",
     "output_type": "stream",
     "text": [
      "\u001b[2m\u001b[36m(run pid=6844)\u001b[0m 2023-02-02 17:41:43,171\tINFO tune.py:626 -- Total run time: 7.39 seconds (6.41 seconds for the tuning loop).\n"
     ]
    }
   ],
   "source": [
    "config = {\n",
    "    \"seed\": 42,\n",
    "    \"eta\": tune.loguniform(3e-3, 3e-1),\n",
    "    \"max_depth\": tune.randint(2, 6),\n",
    "    \"eval_metric\": \"mae\"\n",
    "}\n",
    "\n",
    "def my_plain_xgb_trainer(config):\n",
    "    train_data = ray.get(train_data_ref)\n",
    "    val_data = ray.get(val_data_ref)\n",
    "    dm_train = xgb.DMatrix(train_data.drop(target_col, axis=1), train_data[target_col])\n",
    "    dm_val = xgb.DMatrix(val_data.drop(target_col, axis=1), val_data[target_col])\n",
    "    evals_result = {}\n",
    "    bst = xgb.train(\n",
    "        params=config,\n",
    "        dtrain=dm_train,\n",
    "        num_boost_round=50,\n",
    "        evals_result=evals_result,\n",
    "        evals=[(dm_train, \"train\"), (dm_val, \"val\")]\n",
    "    )\n",
    "    bst.save_model(\"model.xgb\") # This is gonna go into the results directory\n",
    "    tune.report(manually_reported_metric=evals_result[\"val\"][\"mae\"][-1])\n",
    "\n",
    "analysis = tune.run(\n",
    "    my_plain_xgb_trainer,\n",
    "    config=config,\n",
    "    local_dir=tune_local_dir,\n",
    "    metric=\"manually_reported_metric\",\n",
    "    mode=\"min\",\n",
    "    num_samples=20,\n",
    "    resources_per_trial={\"cpu\": 1},\n",
    "    verbose=1,\n",
    "    progress_reporter=tune.JupyterNotebookReporter(overwrite=True)\n",
    ")"
   ]
  },
  {
   "cell_type": "markdown",
   "id": "d0d32ca4-010e-4a86-b386-51bd1dbaef1f",
   "metadata": {},
   "source": [
    "# Congratulations!"
   ]
  },
  {
   "cell_type": "markdown",
   "id": "9bd03907-e8bd-455c-af68-0299de824476",
   "metadata": {},
   "source": [
    "You have finished the Intermediate (part 2), where we covered the following:\n",
    "* Baseline code for XGBoost without Ray\n",
    "* XGBoost integrated with Ray\n",
    "    * Distributed data loading\n",
    "    * Distributed training\n",
    "* Ray Tune with XGBoost integration\n",
    "    * Specifying resources\n",
    "    * Defining a search space\n",
    "    * Defining a training function\n",
    "    * Running trials\n",
    "    * Analyzing results\n",
    "* Bonus: non-integrated XGBoost with Ray Tune"
   ]
  },
  {
   "cell_type": "markdown",
   "id": "5c9dafa3-7c6b-48fd-9539-c775fc7d98b8",
   "metadata": {},
   "source": [
    "## What's next?"
   ]
  },
  {
   "cell_type": "markdown",
   "id": "0046b38d-0462-4206-a9a4-f836fbafa0ac",
   "metadata": {},
   "source": [
    "This concludes our Ray workshop series (for now).\n",
    "Try modifying the examples to apply to your projects, or explore the Ray ecosystem for other libraries!\n",
    "Even if a library does not explicitly integrate with Ray, it can usually be combined with Ray Tune for hyperparameter tuning.\n",
    "\n",
    "Remember than any packages used by the cluster must be installed on **both** the Workspace compute environment and Cluster compute environment.\n",
    "Check out the `troubleshooting/check_packages.ipynb` for some helper code that will verify package versions across both environments.\n",
    "\n",
    "There are also plenty of advanced topics to explore, and other frameworks with substantial integrations like PyTorch and other Deep Learning frameworks.\n",
    "This is a fast-evolving ecosystem, so the most useful framework for you may be released between when this tutorial is written and when you are reading it!"
   ]
  },
  {
   "cell_type": "code",
   "execution_count": null,
   "id": "2ef92065-fa36-4555-9ff0-a6fb372b6204",
   "metadata": {},
   "outputs": [],
   "source": []
  }
 ],
 "metadata": {
  "kernelspec": {
   "display_name": "Python 3 (ipykernel)",
   "language": "python",
   "name": "python3"
  },
  "language_info": {
   "codemirror_mode": {
    "name": "ipython",
    "version": 3
   },
   "file_extension": ".py",
   "mimetype": "text/x-python",
   "name": "python",
   "nbconvert_exporter": "python",
   "pygments_lexer": "ipython3",
   "version": "3.8.12"
  }
 },
 "nbformat": 4,
 "nbformat_minor": 5
}
